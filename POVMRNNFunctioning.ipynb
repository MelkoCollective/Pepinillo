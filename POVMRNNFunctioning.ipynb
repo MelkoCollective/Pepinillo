{
 "cells": [
  {
   "cell_type": "markdown",
   "metadata": {},
   "source": [
    "## POVM RNN\n",
    "\n",
    "Michael Albergo\n",
    "\n",
    "Pauli-4 TFIM data. Datafile is named \"numpy_POVM_data.npz\"\n",
    "\n",
    "RNN Model includes sampler, used later for visualization. Hyperparameters defined in cell 3 other than learning rate"
   ]
  },
  {
   "cell_type": "code",
   "execution_count": 1,
   "metadata": {},
   "outputs": [],
   "source": [
    "import argparse\n",
    "import torch\n",
    "import torch.utils.data\n",
    "from torch import nn, optim\n",
    "from torch.nn import functional as F\n",
    "import numpy as np\n",
    "import os\n",
    "import datetime\n",
    "from matplotlib import pyplot as plt\n",
    "from matplotlib.colors import ListedColormap\n",
    "import palettable\n",
    "import seaborn as sns"
   ]
  },
  {
   "cell_type": "code",
   "execution_count": 2,
   "metadata": {},
   "outputs": [
    {
     "name": "stdout",
     "output_type": "stream",
     "text": [
      "cpu\n"
     ]
    }
   ],
   "source": [
    "device = torch.device(\"cuda:0\" if torch.cuda.device_count() != 0 else \"cpu\")\n",
    "print(device)\n",
    "\n",
    "n_qubits = 50\n",
    "n_outcomes =4\n",
    "batchSize =40\n",
    "hidden_size = 100\n",
    "num_gru_layers = 2\n",
    "filename = 'train.txt'\n",
    "num_epochs = 50\n",
    "log_interval = 100\n",
    "loss_by_step = True\n",
    "lr = 0.001"
   ]
  },
  {
   "cell_type": "code",
   "execution_count": 3,
   "metadata": {},
   "outputs": [
    {
     "name": "stdout",
     "output_type": "stream",
     "text": [
      "(1000000, 200)\n"
     ]
    }
   ],
   "source": [
    "data_array = np.load('data/numpy_POVM_data.npz')['a']\n",
    "print(data_array.shape)"
   ]
  },
  {
   "cell_type": "code",
   "execution_count": 4,
   "metadata": {
    "scrolled": true
   },
   "outputs": [],
   "source": [
    "# TAKE A LOOK AT WHAT YOUR INPUT DATA LOOKS LIKE, I AM PRINTING THE FIRST ROW (FIRST SAMPLE OF 50 QUBITS)\n",
    "# I THEN RESHAPE THEM SO EVERY 4 VALUES, WHICH REPRESENT ONE QUBITS OUTCOME MEASUREMENT, APPENDED INTO 50 ROWS\n",
    "# PER SAMPLE. SO NOW THE DATA IS OF THE SHAPE [n_samples x n_qubits x n_outcomes]\n",
    "#print(data_array[0])\n",
    "reshaped_array = np.empty((1000000, 50, 4))\n",
    "for i in range(data_array.shape[0]):\n",
    "    reshaped_array[i] = data_array[i].reshape((50,4))\n",
    "#print(reshaped_array[0]) "
   ]
  },
  {
   "cell_type": "code",
   "execution_count": 5,
   "metadata": {},
   "outputs": [
    {
     "name": "stdout",
     "output_type": "stream",
     "text": [
      "<torch.utils.data.dataloader.DataLoader object at 0x1163647b8>\n"
     ]
    }
   ],
   "source": [
    "# I LOAD THE DATA INTO A PYTORCH DATALOADER CLASS\n",
    "\n",
    "tensor_array_train = torch.stack([torch.Tensor(i).double() for i in reshaped_array[:100000]])\n",
    "tensor_data_train = torch.utils.data.TensorDataset(tensor_array_train)\n",
    "tensor_array_test = torch.stack([torch.Tensor(i).double() for i in reshaped_array[100000:200000]])\n",
    "tensor_data_test = torch.utils.data.TensorDataset(tensor_array_test)\n",
    "\n",
    "train_loader = torch.utils.data.DataLoader(tensor_data_train, batch_size=batchSize, num_workers=1)\n",
    "test_loader = torch.utils.data.DataLoader(tensor_data_test, batch_size = batchSize, num_workers = 1)\n",
    "print(train_loader)"
   ]
  },
  {
   "cell_type": "code",
   "execution_count": 6,
   "metadata": {},
   "outputs": [],
   "source": [
    "# I BUILD THE MODEL, WITH FUNCTIONS FOR INITIALIZING THE HIDDEN STATE AND THE INITIAL X\n",
    "class RNN(nn.Module):\n",
    "    def __init__(self, hidden_size):\n",
    "        super(RNN, self).__init__()\n",
    "        self.hidden_size = hidden_size\n",
    "        self.num_layers = num_gru_layers\n",
    "        self.steps = n_qubits\n",
    "        self.n_outcomes = n_outcomes\n",
    "        self.loss_by_step = loss_by_step\n",
    "        self.batchSize = batchSize\n",
    "\n",
    "        \n",
    "        self.rnn = nn.GRU(n_outcomes, hidden_size, num_layers=self.num_layers, dropout=0.01)\n",
    "        self.outcome = nn.Linear(hidden_size, n_outcomes)\n",
    "        self.outcome2 = nn.Linear(n_outcomes, n_outcomes)\n",
    "        self.CE = nn.CrossEntropyLoss()\n",
    "        \n",
    "        \n",
    "    \n",
    "    def initHidden(self):\n",
    "        \n",
    "        '''\n",
    "        must be shape \n",
    "        [self.num_layers * num_directions (1 in this case), batchSize, hidden_size]\n",
    "        '''\n",
    "        return torch.ones(1*self.num_layers, batchSize, self.hidden_size).to(device).double()\n",
    "    \n",
    "    def initX(self):\n",
    "        '''\n",
    "        must be shape \n",
    "        [(1 step), batchSize, hidden_size]\n",
    "        '''\n",
    "        return torch.ones(1, batchSize, self.n_outcomes).to(device).double()\n",
    "    \n",
    "\n",
    "    def step(self, input, hidden=None):\n",
    "        \n",
    "        output, hidden = self.rnn(input, hidden)\n",
    "        for_prediction = output.squeeze(0).to(device)\n",
    "        outcome = F.softmax(self.outcome(for_prediction), dim = 1)\n",
    "        return output, hidden, outcome\n",
    "\n",
    "    \n",
    "    \n",
    "    def forward(self, inputs, hidden=None, force=True, steps=50):\n",
    "        \n",
    "        '''\n",
    "        must be shape\n",
    "        input: [length_sequence (n_qubits), batchSize, num_features (n_outcomes)]\n",
    "        hidden: [num_layers * num_directions, batchSize, hidden_size]'''\n",
    "        \n",
    "        if force or steps == 0: steps = len(inputs)\n",
    "        outputs = torch.zeros(steps, batchSize, hidden_size).double().to(device)\n",
    "        outcome_probs = torch.zeros(steps, batchSize, n_outcomes).double().to(device)\n",
    "        losses = torch.tensor(0).double().to(device)\n",
    "\n",
    "        for i in range(steps):\n",
    "            if hidden is None and i == 0:\n",
    "                hidden = self.initHidden()\n",
    "                input = self.initX()\n",
    "                inputX = input\n",
    "                targets = torch.argmax(inputs[i],dim=1)\n",
    "            else:\n",
    "                input = inputs[i].unsqueeze(0)\n",
    "                targets = torch.argmax(inputs[i],dim=1)\n",
    "                \n",
    "            #evidence \n",
    "                \n",
    "            output, hidden, outcome = self.step(input, hidden)\n",
    "            if self.loss_by_step == True:\n",
    "                #loss_i = self.CE(outcome, targets.long())\n",
    "                #loss_i = self.step_loss(targets, outcome)\n",
    "                loss_i = self.myCrossEntropyLoss(outcome, targets)\n",
    "                losses = losses + loss_i\n",
    "            outputs[i] = output\n",
    "            outcome_probs[i] = outcome\n",
    "            \n",
    "        if loss_by_step == False:\n",
    "            losses = self.loss_overall(inputs, outcome_probs)\n",
    "            \n",
    "        return outputs, hidden, outcome_probs, losses, inputX\n",
    "       \n",
    "\n",
    "\n",
    "    def step_loss(self, real_outcomes, predicted_outcomes, ce = True):\n",
    "    \n",
    "        if ce is True:\n",
    "            loss = F.cross_entropy(predicted_outcomes, real_outcomes.long(), size_average=False)\n",
    "        else:\n",
    "            one_hot_Trueoutcomes = torch.zeros((real_outcomes.shape[0], real_outcomes.max()+1))\n",
    "            one_hot_Trueoutcomes[torch.arange(real_outcomes.shape[0]).long(),real_outcomes.long()] = 1\n",
    "            loss = F.mse_loss(one_hot_Trueoutcomes.to(device).double(), predicted_outcomes, size_average=False)\n",
    "        return loss\n",
    "    \n",
    "    def myCrossEntropyLoss(self, outputs, labels):\n",
    "        batch_size = outputs.size()[0]            # batch_size\n",
    "        outputs = torch.log(outputs)   # compute the log of softmax values\n",
    "        outputs = outputs[range(batch_size), labels] # pick the values corresponding to the labels\n",
    "        return -torch.sum(outputs)/batch_size\n",
    "\n",
    "    def loss_overall(self, real_outcomes, predicted_outcomes, ce = True):\n",
    "    \n",
    "        if ce is True:\n",
    "           # CE = F.cross_entropy(real_outcomes[1:], predicted_outcomes[:-1], size_average=False)\n",
    "            real_outcomes_1 = real_outcomes.view(batchSize*self.steps,4)\n",
    "            target_labels = torch.argmax(real_outcomes_1,dim=1).long()\n",
    "            predictions = predicted_outcomes.view(batchSize*self.steps,4)\n",
    "            \n",
    "            # take cross entropy between the output prediction and the true target label.\n",
    "            loss = F.cross_entropy(predictions, target_labels, size_average=False)\n",
    "        else:\n",
    "            loss = F.mse_loss(real_outcomes, predicted_outcomes, size_average=False)\n",
    "\n",
    "        return loss\n",
    "    \n",
    "    def sample(self):\n",
    "    \n",
    "        #initialize hidden as in model\n",
    "        hidden = self.initHidden()\n",
    "        inputX = self.initX()\n",
    "        samples = torch.zeros(self.steps, self.batchSize, self.n_outcomes)\n",
    "\n",
    "        for i in range(self.steps):\n",
    "\n",
    "            #initialize for one-hot encoding, qubit_i_samples will be a class chosen for each batch entry based on probabilities\n",
    "            # batchSize number of samples for ith qubit\n",
    "            qubit_i_samples = torch.zeros(self.batchSize)\n",
    "            #eventually the one hot encoded samples for the ith qubit, num_samples = batchSize\n",
    "            sample_i = torch.zeros(self.batchSize, self.n_outcomes)\n",
    "            if i == 0:\n",
    "                output, hidden, outcome = self.step(inputX, hidden)\n",
    "                qubit_i_probs = outcome.to('cpu').data.numpy()\n",
    "            elif i > 0:\n",
    "                self.step(sample_i.unsqueeze(0).to(device).double(), hidden)\n",
    "\n",
    "            for batch_entry in range(self.batchSize):\n",
    "                #implemented w numpy because simpler, no random.choice in torch\n",
    "                qubit_i_samples[batch_entry] = torch.from_numpy(np.random.choice([0,1,2,3], size = 1, p=qubit_i_probs[batch_entry]))\n",
    "            sample_i[torch.arange(qubit_i_samples.shape[0]).long(), qubit_i_samples.long()] = 1\n",
    "            #print(sample_i)\n",
    "\n",
    "            samples[i] = sample_i\n",
    "\n",
    "        return samples\n",
    "    \n",
    "\n",
    "    \n",
    "model = RNN(hidden_size).to(device).double()\n",
    "optimizer = optim.Adam(model.parameters(), lr=lr)\n",
    "    \n",
    "    "
   ]
  },
  {
   "cell_type": "code",
   "execution_count": 7,
   "metadata": {
    "scrolled": true
   },
   "outputs": [
    {
     "name": "stdout",
     "output_type": "stream",
     "text": [
      "Train Epoch: 1 [0/100000 (0%)]\tLoss: 1.750328\n",
      "Train Epoch: 1 [4000/100000 (4%)]\tLoss: 0.115239\n",
      "Train Epoch: 1 [8000/100000 (8%)]\tLoss: 0.029579\n"
     ]
    },
    {
     "name": "stderr",
     "output_type": "stream",
     "text": [
      "Process Process-1:\n",
      "Traceback (most recent call last):\n",
      "  File \"/usr/local/Cellar/python/3.6.5/Frameworks/Python.framework/Versions/3.6/lib/python3.6/multiprocessing/process.py\", line 258, in _bootstrap\n",
      "    self.run()\n",
      "  File \"/usr/local/Cellar/python/3.6.5/Frameworks/Python.framework/Versions/3.6/lib/python3.6/multiprocessing/process.py\", line 93, in run\n",
      "    self._target(*self._args, **self._kwargs)\n",
      "  File \"/Users/roger/.virtualenvs/pepinillo/lib/python3.6/site-packages/torch/utils/data/dataloader.py\", line 96, in _worker_loop\n",
      "    r = index_queue.get(timeout=MANAGER_STATUS_CHECK_INTERVAL)\n",
      "  File \"/usr/local/Cellar/python/3.6.5/Frameworks/Python.framework/Versions/3.6/lib/python3.6/multiprocessing/queues.py\", line 104, in get\n",
      "    if not self._poll(timeout):\n",
      "  File \"/usr/local/Cellar/python/3.6.5/Frameworks/Python.framework/Versions/3.6/lib/python3.6/multiprocessing/connection.py\", line 257, in poll\n",
      "    return self._poll(timeout)\n",
      "  File \"/usr/local/Cellar/python/3.6.5/Frameworks/Python.framework/Versions/3.6/lib/python3.6/multiprocessing/connection.py\", line 414, in _poll\n",
      "    r = wait([self], timeout)\n",
      "  File \"/usr/local/Cellar/python/3.6.5/Frameworks/Python.framework/Versions/3.6/lib/python3.6/multiprocessing/connection.py\", line 911, in wait\n",
      "    ready = selector.select(timeout)\n",
      "  File \"/usr/local/Cellar/python/3.6.5/Frameworks/Python.framework/Versions/3.6/lib/python3.6/selectors.py\", line 376, in select\n",
      "    fd_event_list = self._poll.poll(timeout)\n",
      "KeyboardInterrupt\n"
     ]
    },
    {
     "ename": "KeyboardInterrupt",
     "evalue": "",
     "output_type": "error",
     "traceback": [
      "\u001b[0;31m---------------------------------------------------------------------------\u001b[0m",
      "\u001b[0;31mKeyboardInterrupt\u001b[0m                         Traceback (most recent call last)",
      "\u001b[0;32m<ipython-input-7-aa8ab0afa30e>\u001b[0m in \u001b[0;36m<module>\u001b[0;34m\u001b[0m\n\u001b[1;32m      7\u001b[0m \u001b[0;34m\u001b[0m\u001b[0m\n\u001b[1;32m      8\u001b[0m         \u001b[0moptimizer\u001b[0m\u001b[0;34m.\u001b[0m\u001b[0mzero_grad\u001b[0m\u001b[0;34m(\u001b[0m\u001b[0;34m)\u001b[0m\u001b[0;34m\u001b[0m\u001b[0m\n\u001b[0;32m----> 9\u001b[0;31m         \u001b[0moutputs\u001b[0m\u001b[0;34m,\u001b[0m \u001b[0mhidden\u001b[0m\u001b[0;34m,\u001b[0m \u001b[0moutcome_probs\u001b[0m\u001b[0;34m,\u001b[0m \u001b[0mloss\u001b[0m\u001b[0;34m,\u001b[0m \u001b[0minputX\u001b[0m \u001b[0;34m=\u001b[0m \u001b[0mmodel\u001b[0m\u001b[0;34m(\u001b[0m\u001b[0mdata\u001b[0m\u001b[0;34m)\u001b[0m\u001b[0;34m\u001b[0m\u001b[0m\n\u001b[0m\u001b[1;32m     10\u001b[0m         \u001b[0mloss\u001b[0m\u001b[0;34m.\u001b[0m\u001b[0mbackward\u001b[0m\u001b[0;34m(\u001b[0m\u001b[0;34m)\u001b[0m\u001b[0;34m\u001b[0m\u001b[0m\n\u001b[1;32m     11\u001b[0m \u001b[0;34m\u001b[0m\u001b[0m\n",
      "\u001b[0;32m~/.virtualenvs/pepinillo/lib/python3.6/site-packages/torch/nn/modules/module.py\u001b[0m in \u001b[0;36m__call__\u001b[0;34m(self, *input, **kwargs)\u001b[0m\n\u001b[1;32m    475\u001b[0m             \u001b[0mresult\u001b[0m \u001b[0;34m=\u001b[0m \u001b[0mself\u001b[0m\u001b[0;34m.\u001b[0m\u001b[0m_slow_forward\u001b[0m\u001b[0;34m(\u001b[0m\u001b[0;34m*\u001b[0m\u001b[0minput\u001b[0m\u001b[0;34m,\u001b[0m \u001b[0;34m**\u001b[0m\u001b[0mkwargs\u001b[0m\u001b[0;34m)\u001b[0m\u001b[0;34m\u001b[0m\u001b[0m\n\u001b[1;32m    476\u001b[0m         \u001b[0;32melse\u001b[0m\u001b[0;34m:\u001b[0m\u001b[0;34m\u001b[0m\u001b[0m\n\u001b[0;32m--> 477\u001b[0;31m             \u001b[0mresult\u001b[0m \u001b[0;34m=\u001b[0m \u001b[0mself\u001b[0m\u001b[0;34m.\u001b[0m\u001b[0mforward\u001b[0m\u001b[0;34m(\u001b[0m\u001b[0;34m*\u001b[0m\u001b[0minput\u001b[0m\u001b[0;34m,\u001b[0m \u001b[0;34m**\u001b[0m\u001b[0mkwargs\u001b[0m\u001b[0;34m)\u001b[0m\u001b[0;34m\u001b[0m\u001b[0m\n\u001b[0m\u001b[1;32m    478\u001b[0m         \u001b[0;32mfor\u001b[0m \u001b[0mhook\u001b[0m \u001b[0;32min\u001b[0m \u001b[0mself\u001b[0m\u001b[0;34m.\u001b[0m\u001b[0m_forward_hooks\u001b[0m\u001b[0;34m.\u001b[0m\u001b[0mvalues\u001b[0m\u001b[0;34m(\u001b[0m\u001b[0;34m)\u001b[0m\u001b[0;34m:\u001b[0m\u001b[0;34m\u001b[0m\u001b[0m\n\u001b[1;32m    479\u001b[0m             \u001b[0mhook_result\u001b[0m \u001b[0;34m=\u001b[0m \u001b[0mhook\u001b[0m\u001b[0;34m(\u001b[0m\u001b[0mself\u001b[0m\u001b[0;34m,\u001b[0m \u001b[0minput\u001b[0m\u001b[0;34m,\u001b[0m \u001b[0mresult\u001b[0m\u001b[0;34m)\u001b[0m\u001b[0;34m\u001b[0m\u001b[0m\n",
      "\u001b[0;32m<ipython-input-6-a945e120a159>\u001b[0m in \u001b[0;36mforward\u001b[0;34m(self, inputs, hidden, force, steps)\u001b[0m\n\u001b[1;32m     73\u001b[0m                 \u001b[0mloss_i\u001b[0m \u001b[0;34m=\u001b[0m \u001b[0mself\u001b[0m\u001b[0;34m.\u001b[0m\u001b[0mmyCrossEntropyLoss\u001b[0m\u001b[0;34m(\u001b[0m\u001b[0moutcome\u001b[0m\u001b[0;34m,\u001b[0m \u001b[0mtargets\u001b[0m\u001b[0;34m)\u001b[0m\u001b[0;34m\u001b[0m\u001b[0m\n\u001b[1;32m     74\u001b[0m                 \u001b[0mlosses\u001b[0m \u001b[0;34m=\u001b[0m \u001b[0mlosses\u001b[0m \u001b[0;34m+\u001b[0m \u001b[0mloss_i\u001b[0m\u001b[0;34m\u001b[0m\u001b[0m\n\u001b[0;32m---> 75\u001b[0;31m             \u001b[0moutputs\u001b[0m\u001b[0;34m[\u001b[0m\u001b[0mi\u001b[0m\u001b[0;34m]\u001b[0m \u001b[0;34m=\u001b[0m \u001b[0moutput\u001b[0m\u001b[0;34m\u001b[0m\u001b[0m\n\u001b[0m\u001b[1;32m     76\u001b[0m             \u001b[0moutcome_probs\u001b[0m\u001b[0;34m[\u001b[0m\u001b[0mi\u001b[0m\u001b[0;34m]\u001b[0m \u001b[0;34m=\u001b[0m \u001b[0moutcome\u001b[0m\u001b[0;34m\u001b[0m\u001b[0m\n\u001b[1;32m     77\u001b[0m \u001b[0;34m\u001b[0m\u001b[0m\n",
      "\u001b[0;31mKeyboardInterrupt\u001b[0m: "
     ]
    }
   ],
   "source": [
    "train_losses = []\n",
    "for epoch in range(1, num_epochs + 1):\n",
    "    #train(epoch, train_losses)\n",
    "    train_loss = 0\n",
    "    for batch_idx, (data) in enumerate(train_loader,):\n",
    "        data = data[0].to(device).permute(1,0,2)#.reshape(n_qubits, batchSize, n_outcomes)\n",
    "\n",
    "        optimizer.zero_grad()\n",
    "        outputs, hidden, outcome_probs, loss, inputX = model(data)\n",
    "        loss.backward()\n",
    "        \n",
    "        train_loss += loss.item()\n",
    "        optimizer.step()\n",
    "        if batch_idx % log_interval == 0:\n",
    "            print('Train Epoch: {} [{}/{} ({:.0f}%)]\\tLoss: {:.6f}'.format(\n",
    "                epoch, batch_idx * len(data[1]), len(train_loader.dataset),\n",
    "                100. * batch_idx / len(train_loader),\n",
    "                loss.item() / len(data[1]) ))\n",
    "    avg_batch_loss = train_loss / len(train_loader.dataset)\n",
    "    train_losses.append(avg_batch_loss)\n",
    "\n",
    "    print('====> Epoch: {} Average loss: {:.4f}'.format(\n",
    "          epoch, avg_batch_loss))"
   ]
  },
  {
   "cell_type": "code",
   "execution_count": 11,
   "metadata": {},
   "outputs": [
    {
     "data": {
      "text/plain": [
       "array([[[ 0.5       +0.j,  0.5       +0.j,  0.5       +0.j,\n",
       "          3.        +0.j],\n",
       "        [-0.16666667+0.j, -0.16666667+0.j, -0.16666667+0.j,\n",
       "         -1.        +0.j]],\n",
       "\n",
       "       [[-0.16666667+0.j, -0.16666667+0.j, -0.16666667+0.j,\n",
       "         -1.        +0.j],\n",
       "        [ 0.5       +0.j,  0.5       +0.j,  0.5       +0.j,\n",
       "          3.        +0.j]]])"
      ]
     },
     "execution_count": 11,
     "metadata": {},
     "output_type": "execute_result"
    }
   ],
   "source": [
    "## try sampling from it, compute average probability of each outcome\n",
    "sample_test = model.sample()\n",
    "\n",
    "# sigma_X = np.array([[0, 1], [1, 0]], dtype=np.complex128)\n",
    "# sigma_Y = np.array([[0, -1.j], [1.j, 0]], dtype=np.complex128)\n",
    "# sigma_Z = np.array([[1, 0], [0, -1]], dtype=np.complex128)\n",
    "\n",
    "\n",
    "# Z = [np.array([1, 0], dtype=np.complex128), np.array([0, 1], dtype=np.complex128)]\n",
    "# X1 = 1 / np.sqrt(2) * np.array([1, 1], dtype=np.complex128)\n",
    "# X2 = 1 / np.sqrt(2) * np.array([1, -1], dtype=np.complex128)\n",
    "# X = [X1, X2]\n",
    "# Y1 = 1 / np.sqrt(2) * np.array([1, 1.j], dtype=np.complex128)\n",
    "# Y2 = 1 / np.sqrt(2) * np.array\n",
    "\n",
    "M0 = np.array([[1/3, 0], [0, 0]], dtype=np.complex128)\n",
    "M1 = np.array([[0,   0], [0, 1/3]], dtype=np.complex128)\n",
    "M2 = np.array([[1/6, 1/6], [1/6, 1/6]], dtype=np.complex128)\n",
    "M3 = np.array([[0.5, -1/6], [-1/6, 0.5]], dtype=np.complex128)\n",
    "\n",
    "M = [M0, M1, M2, M3]\n",
    "\n",
    "T = np.array([[1, 1/2, 1/2, 1],\n",
    "              [1/2, 1, 1/2, 1],\n",
    "              [1/2, 1/2, 1, 1],\n",
    "              [1, 1, 1, 6]], dtype=np.complex128)\n",
    "\n",
    "\n",
    "TM = np.zeros((2, 2, 4), dtype=np.complex128)\n",
    "for i in range(4):\n",
    "    for j in range(4):\n",
    "        TM[:, :, i] = T[i, j] * M[j]\n",
    "        \n",
    "\n",
    "rho = np.zeros(1<<50)"
   ]
  },
  {
   "cell_type": "code",
   "execution_count": 9,
   "metadata": {
    "scrolled": false
   },
   "outputs": [
    {
     "name": "stdout",
     "output_type": "stream",
     "text": [
      "<matplotlib.colors.ListedColormap object at 0x1e3c396d8>\n"
     ]
    },
    {
     "data": {
      "text/plain": [
       "<Figure size 1080x72 with 0 Axes>"
      ]
     },
     "metadata": {},
     "output_type": "display_data"
    },
    {
     "data": {
      "image/png": "[encoded data removed]",
      "text/plain": [
       "<Figure size 936x475.2 with 10 Axes>"
      ]
     },
     "metadata": {
      "needs_background": "light"
     },
     "output_type": "display_data"
    }
   ],
   "source": [
    "def plot_samples(sample_test = sample_test, n_samples = 1, n_qubits = n_qubits):\n",
    "    qubits = np.arange(1, n_qubits + 1)\n",
    "    color_labels = np.array([np.argmax(sample_test[:,i,:].cpu().data.numpy(), axis = 1) for i in range(batchSize)])#[0.456,0.962,0.231] \n",
    "    #print(color_labels[0].shape, qubits.shape)\n",
    "    #UnlabelledY=[0,1,0]\n",
    "    fig = plt.figure(figsize=(15,1))\n",
    "    flatui = [\"#9b59b6\", \"#3498db\", \"#95a5a6\", \"#e74c3c\", \"#34495e\", \"#2ecc71\"]\n",
    "    muted=[\"#4878CF\", \"#6ACC65\", \"#D65F5F\",\n",
    "               \"#B47CC7\", \"#C4AD66\", \"#77BEDB\"]\n",
    "    #my_cmap = ListedColormap(sns.color_palette(muted).as_hex())\n",
    "    #cmap = sns.cubehelix_palette(light=0.8, dark=0.4, start=0.03, rot=0.4, as_cmap=True)\n",
    "    cmap = ListedColormap(palettable.cartocolors.diverging.Earth_4.mpl_colors)\n",
    "    #cmap = ListedColormap(palettable.wesanderson.Chevalier_4.mpl_colors)\n",
    "    #cmap = ListedColormap(palettable.wesanderson.Darjeeling2_5.mpl_colors)\n",
    "    #cmap = ListedColormap(palettable.wesanderson.Moonrise2_4.mpl_colors)\n",
    "    #cmap = ListedColormap(palettable.wesanderson.FantasticFox2_5.mpl_colors)\n",
    "    print(cmap)\n",
    "    \n",
    "    if n_samples == 1:\n",
    "        fig = plt.figure(figsize=(15,1))\n",
    "        plt.scatter(qubits, np.zeros_like(qubits), \n",
    "                c=color_labels[0], cmap=cmap, vmin=0, s=120)\n",
    "        #plt.axis('off')\n",
    "        plt.xlabel(\"Qubit #\", fontsize=14)\n",
    "    else:\n",
    "        fig, axes = plt.subplots(n_samples, 1, figsize=(13,n_samples * 0.66))\n",
    "        fig.subplots_adjust(hspace=-0.1)\n",
    "        for i in range(n_samples):\n",
    "            axes[i].scatter(qubits, np.zeros_like(qubits), \n",
    "                    c=color_labels[i], cmap=cmap, vmin=0, s=100)\n",
    "            axes[i].set_yticks([])\n",
    "            sns.despine(left=True, bottom=True)\n",
    "            #sns.despine(bottom=True)\n",
    "            #sns.despine(top=True)\n",
    "            if i == n_samples - 1:\n",
    "                axes[i].set_xlabel(\"Qubit #\", fontsize=14)\n",
    "                axes[i].spines[\"bottom\"].set_visible(True)\n",
    "            else:\n",
    "                axes[i].set_xticks([])\n",
    "\n",
    "    plt.show()\n",
    "    return\n",
    "\n",
    "plot_samples(sample_test = sample_test, n_samples = 10, n_qubits = 50)\n"
   ]
  },
  {
   "cell_type": "code",
   "execution_count": 34,
   "metadata": {},
   "outputs": [
    {
     "data": {
      "text/plain": [
       "[array([[0.51851852+0.j, 0.        +0.j],\n",
       "        [0.        +0.j, 0.        +0.j]]),\n",
       " array([[-0.        +0.j, -0.        +0.j],\n",
       "        [-0.        +0.j, -0.14814815+0.j]]),\n",
       " array([[-0.07407407+0.j, -0.07407407+0.j],\n",
       "        [-0.07407407+0.j, -0.07407407+0.j]]),\n",
       " array([[-0.05555556+0.j,  0.01851852-0.j],\n",
       "        [ 0.01851852-0.j, -0.05555556+0.j]]),\n",
       " array([[-0.14814815+0.j, -0.        +0.j],\n",
       "        [-0.        +0.j, -0.        +0.j]]),\n",
       " array([[0.        +0.j, 0.        +0.j],\n",
       "        [0.        +0.j, 0.51851852+0.j]]),\n",
       " array([[-0.07407407+0.j, -0.07407407+0.j],\n",
       "        [-0.07407407+0.j, -0.07407407+0.j]]),\n",
       " array([[-0.05555556+0.j,  0.01851852-0.j],\n",
       "        [ 0.01851852-0.j, -0.05555556+0.j]]),\n",
       " array([[-0.14814815+0.j, -0.        +0.j],\n",
       "        [-0.        +0.j, -0.        +0.j]]),\n",
       " array([[-0.        +0.j, -0.        +0.j],\n",
       "        [-0.        +0.j, -0.14814815+0.j]]),\n",
       " array([[0.25925926+0.j, 0.25925926+0.j],\n",
       "        [0.25925926+0.j, 0.25925926+0.j]]),\n",
       " array([[-0.05555556+0.j,  0.01851852-0.j],\n",
       "        [ 0.01851852-0.j, -0.05555556+0.j]]),\n",
       " array([[-0.03703704+0.j, -0.        +0.j],\n",
       "        [-0.        +0.j, -0.        +0.j]]),\n",
       " array([[-0.        +0.j, -0.        +0.j],\n",
       "        [-0.        +0.j, -0.03703704+0.j]]),\n",
       " array([[-0.01851852+0.j, -0.01851852+0.j],\n",
       "        [-0.01851852+0.j, -0.01851852+0.j]]),\n",
       " array([[ 0.11111111+0.j, -0.03703704+0.j],\n",
       "        [-0.03703704+0.j,  0.11111111+0.j]])]"
      ]
     },
     "execution_count": 34,
     "metadata": {},
     "output_type": "execute_result"
    }
   ],
   "source": [
    "M0 = np.array([[1 / 3, 0], [0, 0]], dtype=np.complex128)\n",
    "M1 = np.array([[0    , 0], [0, 1/3]], dtype=np.complex128)\n",
    "M2 = np.array([[1 / 6, 1 / 6], [1 / 6, 1/ 6]], dtype=np.complex128)\n",
    "M3 = np.array([[0.5 , -1/6], [-1/6, 0.5]], dtype=np.complex128)\n",
    "\n",
    "M = [M0, M1, M2, M3]\n",
    "\n",
    "\n",
    "def overlap_matrix(M):\n",
    "    T = np.zeros((len(M), len(M)), dtype=np.complex128)\n",
    "    for i in range(len(M)):\n",
    "        for j in range(len(M)):\n",
    "            T[i, j] = np.trace(np.matmul(M[i], M[j]))\n",
    "    return T\n",
    "\n",
    "\n",
    "# T = overlap_matrix(M)\n",
    "\n",
    "T = np.array([\n",
    "    [1, 0.5, 0.5, 1],\n",
    "    [0.5, 1, 0.5, 1],\n",
    "    [0.5, 0.5, 1, 1],\n",
    "    [1, 1, 1, 6]])\n",
    "T_inv = np.linalg.inv(T)\n",
    "\n",
    "\n",
    "T_M = []\n",
    "for i in range(4):\n",
    "    for j in range(4):\n",
    "        T_M.append(T_inv[i, j] * M[j])\n",
    "\n",
    "T_M"
   ]
  },
  {
   "cell_type": "code",
   "execution_count": 10,
   "metadata": {},
   "outputs": [
    {
     "name": "stdout",
     "output_type": "stream",
     "text": [
      "torch.Size([50, 40, 4])\n",
      "[0.152  0.0215 0.153  0.6735]\n",
      "[ 7.6    1.075  7.65  33.675]\n"
     ]
    }
   ],
   "source": [
    "#batchSize = 50\n",
    "#batchSize = 100\n",
    "index = np.random.randint(0,len(data_array))\n",
    "test = reshaped_array[index:index+batchSize]\n",
    "data = torch.from_numpy(test).double().to(device)\n",
    "#print(data.shape)\n",
    "#print(inputX.shape)\n",
    "#print(hidden.shape)\n",
    "\n",
    "#output, hidden, outcome, loss, inputX = model(data)\n",
    "\n",
    "def sample(model, n_qubits, batchSize = batchSize, hidden_size = hidden_size, n_outcomes = n_outcomes, num_layers = num_gru_layers):\n",
    "    \n",
    "    #initialize hidden as in model\n",
    "    hidden = torch.ones(1*num_layers, batchSize, hidden_size).to(device).double()\n",
    "    initX = torch.ones(1, batchSize, n_outcomes).to(device).double()\n",
    "    samples = torch.zeros(n_qubits, batchSize, n_outcomes)\n",
    "    \n",
    "    for i in range(n_qubits):\n",
    "        \n",
    "        #initialize for one-hot encoding, qubit_i_samples will be a class chosen for each batch entry based on probabilities\n",
    "        # batchSize number of samples for ith qubit\n",
    "        qubit_i_samples = torch.zeros(batchSize)\n",
    "        #eventually the one hot encoded samples for the ith qubit, num_samples = batchSize\n",
    "        sample_i = torch.zeros(batchSize,n_outcomes)\n",
    "        if i == 0:\n",
    "            output, hidden, outcome = model.step(inputX, hidden)\n",
    "            qubit_i_probs = outcome.to('cpu').data.numpy()\n",
    "        elif i > 0:\n",
    "            model.step(sample_i.unsqueeze(0).to(device).double(), hidden)\n",
    "            \n",
    "        for batch_entry in range(batchSize):\n",
    "            qubit_i_samples[batch_entry] = torch.from_numpy(np.random.choice([0,1,2,3], size = 1, p=qubit_i_probs[batch_entry]))\n",
    "        sample_i[torch.arange(qubit_i_samples.shape[0]).long(), qubit_i_samples.long()] = 1\n",
    "        #print(sample_i)\n",
    " \n",
    "        samples[i] = sample_i\n",
    "    \n",
    "    return samples\n",
    "            \n",
    "sample_test = sample(model, n_qubits)  \n",
    "\n",
    "#compare probabilities:\n",
    "print(sample_test.shape)\n",
    "bin_counts = [np.bincount(np.argmax(sample_test[:,i,:].cpu().data.numpy(), axis = 1)) for i in range(batchSize) ]\n",
    "print((np.array(bin_counts).mean(0) / np.array(bin_counts).mean(0).sum()))\n",
    "print(np.array(bin_counts).mean(0))"
   ]
  },
  {
   "cell_type": "code",
   "execution_count": 11,
   "metadata": {},
   "outputs": [],
   "source": [
    "counts = []\n",
    "for i in range(len(data_array)):\n",
    "    #print(np.argmax(data_array[i]).shape)\n",
    "    count = np.bincount(np.argmax(reshaped_array[i], axis=1))\n",
    "    counts.append(count)\n",
    "    #break\n",
    "    #for j in range(len(data_array[i])):\n",
    "       # print(data_array[i][j])  \n",
    "   # if i == 50:\n",
    "    #    break"
   ]
  },
  {
   "cell_type": "code",
   "execution_count": null,
   "metadata": {},
   "outputs": [],
   "source": [
    "counts[:50]"
   ]
  },
  {
   "cell_type": "code",
   "execution_count": 9,
   "metadata": {},
   "outputs": [
    {
     "name": "stdout",
     "output_type": "stream",
     "text": [
      "nan\n",
      "nan\n"
     ]
    },
    {
     "name": "stderr",
     "output_type": "stream",
     "text": [
      "/Users/roger/.virtualenvs/qucumber/lib/python3.6/site-packages/ipykernel_launcher.py:1: RuntimeWarning: Mean of empty slice.\n",
      "  \"\"\"Entry point for launching an IPython kernel.\n",
      "/Users/roger/.virtualenvs/qucumber/lib/python3.6/site-packages/numpy-1.15.1-py3.6-macosx-10.13-x86_64.egg/numpy/core/_methods.py:85: RuntimeWarning: invalid value encountered in double_scalars\n",
      "  ret = ret.dtype.type(ret / rcount)\n"
     ]
    }
   ],
   "source": [
    "means = np.array(counts).mean(0)\n",
    "print(means)\n",
    "print(means / (means.sum()))"
   ]
  },
  {
   "cell_type": "code",
   "execution_count": 10,
   "metadata": {},
   "outputs": [
    {
     "ename": "NameError",
     "evalue": "name 'reshaped_array' is not defined",
     "output_type": "error",
     "traceback": [
      "\u001b[0;31m---------------------------------------------------------------------------\u001b[0m",
      "\u001b[0;31mNameError\u001b[0m                                 Traceback (most recent call last)",
      "\u001b[0;32m<ipython-input-10-cb970babcb26>\u001b[0m in \u001b[0;36m<module>\u001b[0;34m()\u001b[0m\n\u001b[1;32m      1\u001b[0m \u001b[0;31m## testing my own cross entropy\u001b[0m\u001b[0;34m\u001b[0m\u001b[0;34m\u001b[0m\u001b[0m\n\u001b[1;32m      2\u001b[0m \u001b[0;34m\u001b[0m\u001b[0m\n\u001b[0;32m----> 3\u001b[0;31m \u001b[0mnumpy\u001b[0m \u001b[0;34m=\u001b[0m \u001b[0mtorch\u001b[0m\u001b[0;34m.\u001b[0m\u001b[0mfrom_numpy\u001b[0m\u001b[0;34m(\u001b[0m\u001b[0mreshaped_array\u001b[0m\u001b[0;34m[\u001b[0m\u001b[0;36m0\u001b[0m\u001b[0;34m]\u001b[0m\u001b[0;34m)\u001b[0m\u001b[0;34m\u001b[0m\u001b[0m\n\u001b[0m\u001b[1;32m      4\u001b[0m \u001b[0mlabels\u001b[0m \u001b[0;34m=\u001b[0m \u001b[0mtorch\u001b[0m\u001b[0;34m.\u001b[0m\u001b[0margmax\u001b[0m\u001b[0;34m(\u001b[0m\u001b[0mnumpy\u001b[0m\u001b[0;34m,\u001b[0m\u001b[0mdim\u001b[0m\u001b[0;34m=\u001b[0m\u001b[0;36m1\u001b[0m\u001b[0;34m)\u001b[0m\u001b[0;34m\u001b[0m\u001b[0m\n\u001b[1;32m      5\u001b[0m \u001b[0mnumpy\u001b[0m \u001b[0;34m=\u001b[0m \u001b[0mtorch\u001b[0m\u001b[0;34m.\u001b[0m\u001b[0mlog\u001b[0m\u001b[0;34m(\u001b[0m\u001b[0mnumpy\u001b[0m\u001b[0;34m)\u001b[0m\u001b[0;34m\u001b[0m\u001b[0m\n",
      "\u001b[0;31mNameError\u001b[0m: name 'reshaped_array' is not defined"
     ]
    }
   ],
   "source": [
    "## testing my own cross entropy\n",
    "\n",
    "numpy = torch.from_numpy(reshaped_array[0])\n",
    "labels = torch.argmax(numpy,dim=1)\n",
    "numpy = torch.log(numpy)\n",
    "numpy[0] = torch.log(torch.from_numpy(np.array([0.75,0.2,0,0.05])))\n",
    "print(numpy)\n",
    "print(labels)"
   ]
  },
  {
   "cell_type": "code",
   "execution_count": null,
   "metadata": {},
   "outputs": [],
   "source": [
    "output_vals = numpy[range(50), labels]\n",
    "print(output_vals)"
   ]
  },
  {
   "cell_type": "code",
   "execution_count": null,
   "metadata": {},
   "outputs": [],
   "source": [
    "sample_test[:,0,:].shape"
   ]
  },
  {
   "cell_type": "code",
   "execution_count": null,
   "metadata": {},
   "outputs": [],
   "source": []
  }
 ],
 "metadata": {
  "kernelspec": {
   "display_name": "Python 3",
   "language": "python",
   "name": "python3"
  },
  "language_info": {
   "codemirror_mode": {
    "name": "ipython",
    "version": 3
   },
   "file_extension": ".py",
   "mimetype": "text/x-python",
   "name": "python",
   "nbconvert_exporter": "python",
   "pygments_lexer": "ipython3",
   "version": "3.6.5"
  }
 },
 "nbformat": 4,
 "nbformat_minor": 2
}
