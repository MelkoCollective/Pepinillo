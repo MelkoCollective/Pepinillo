{
 "cells": [
  {
   "cell_type": "markdown",
   "metadata": {},
   "source": [
    "![Samples of TFIM](figs/SetOfSamples.png)\n",
    "\n",
    "\n",
    "# <span style=\"color:darkslategray\">  Tutorial on Reconstructing Quantum States with Positive-Operator Valued Measurements (POVMs) and Recurrent Neural Networks </span>\n",
    "\n",
    "\n",
    "\n",
    "Michael Albergo\n",
    "\n",
    "A walkthrough of using Pepinillo to reproduce results from https://arxiv.org/pdf/1810.10584.pdf by Juan Carrasquilla, Giacomo Torlai, Roger Melko, and Leandro Aolita.\n",
    "\n",
    "\n",
    "\n",
    "RNN Model includes sampler, used later for visualization. Hyperparameters defined in cell 3 other than learning rate"
   ]
  },
  {
   "cell_type": "code",
   "execution_count": 1,
   "metadata": {},
   "outputs": [],
   "source": [
    "import argparse\n",
    "import torch\n",
    "import torch.utils.data\n",
    "from torch import nn, optim\n",
    "from torch.nn import functional as F\n",
    "import numpy as np\n",
    "import os\n",
    "import datetime\n",
    "from matplotlib import pyplot as plt\n",
    "from matplotlib.colors import ListedColormap\n",
    "import palettable\n",
    "import seaborn as sns"
   ]
  },
  {
   "cell_type": "markdown",
   "metadata": {},
   "source": [
    "# <span style=\"color:steelblue\"> Setting the Scenario </span>\n",
    "\n",
    "Imagine you are trying to prepare a 50-qubit quantum system that is governed by the Transverse-Field Ising Model 1D  Hamiltonian: \n",
    "<img src=\"figs/TransverIsingModel1DHamiltonian.png\" alt=\"TFIMHamiltonian\" width=\"300\"/>\n",
    "\n",
    "You want to be able to check on the fidelity of your setup to verify that you have properly prepared the quantum state. To do this, you want to perform inference on the density matrix of the mixed state -- to show that informationally complete measurement samples from your setup match the expected frequency associated with your intended density matrix $\\rho$. With the right choice of measurements -- namely informationally complete Postive-Operator Valued Measurements for each qubit $M = \\{ M^{(\\mathbf{a_i})} \\otimes \\dots \\otimes M^{(\\mathbf{a_n})} \\}$, we can link the probability of measurement outcomes with the invertible expression given by Born's Rule: $P(\\mathbf{a}) = \\mathrm{Tr}[M^{(\\mathbf{a})}\\rho]$. Thus, if we can gain insight into the distribution of measurement ourcomes $P(\\mathbf{a})$, we can gain insight into the density matrix $\\rho$. Here, each $a_i$ in $\\mathbf{a}$ can take on a discrete value to represent the measurement outcome for the $i^{th}$ qubit. The number of possible outcomes is decided by which POVM measurements are used.\n",
    "\n",
    "\n",
    "## <span style=\"color:steelblue\">How do we learn $P(\\mathbf{a})$? Recurrent Neural Networks </span>\n",
    "\n",
    "Modern machine learning methods offer a variety of methods for learning some generative distribution $p(x)$. In this tutorial, we treat our qubit measurements as sequential measurements (though the order is arbitrary) and apply a recurrent neural network model made of 2 linked gated recurrent units (GRUs). I'll explain these a bit below.\n",
    "\n",
    "In a generative recurrent model, we can represent the joint ditribution $p(\\mathbf{a})$ over all N qubit measurement outcomes by factorizing it according to the chain rule:\n",
    "\n",
    "\\begin{equation} p(\\mathbf{a}) = p(a_1) p(a_2 | a_1) p(a_3 | a_1, a_2)...p(a_N | a_1, \\dots, a_{N-1})\\end{equation}\n",
    "\n",
    "The idea here is to make estimates of each of these factors sequentially with subsequent passes through the recurrent unit. An RNN is composed of some fundamental cell, which is some weight matrix or set of weight matrices that are fixed after training and a hidden state $h_t$ whose value is updated at each sequential step.\n",
    "\n",
    "\n",
    "#### TO DO\n",
    "SHOW DIAGRAM OF RNN and specifically GRU, explain how probability measures over one-hot vectors are calculated at each time step and passed forward through the RNN again with different h_t\n",
    "\n",
    "Pauli-4 TFIM data. Datafile is named \"numpy_POVM_data.npz\""
   ]
  },
  {
   "cell_type": "code",
   "execution_count": 157,
   "metadata": {},
   "outputs": [
    {
     "name": "stdout",
     "output_type": "stream",
     "text": [
      "cpu\n"
     ]
    }
   ],
   "source": [
    "device = torch.device(\"cuda:0\" if torch.cuda.device_count() != 0 else \"cpu\")\n",
    "print(device)\n",
    "\n",
    "n_qubits = 50\n",
    "n_outcomes =4\n",
    "batchSize =500\n",
    "hidden_size = 100\n",
    "num_gru_layers = 3\n",
    "num_epochs = 50\n",
    "log_interval = 100\n",
    "loss_by_step = True\n",
    "lr = 0.01"
   ]
  },
  {
   "cell_type": "code",
   "execution_count": 142,
   "metadata": {},
   "outputs": [],
   "source": [
    "\n",
    "\n",
    "data_array = np.load('data/numpy_POVM_data.npz')['a']\n",
    "log_probs = np.load('data/TFIM_logprobs.npz')['probs']\n",
    "#print(data_array.shape)"
   ]
  },
  {
   "cell_type": "code",
   "execution_count": 4,
   "metadata": {},
   "outputs": [
    {
     "name": "stdout",
     "output_type": "stream",
     "text": [
      "(2040000, 200) [-56.01225927 -46.36874892 -52.53915542 -55.4978294  -59.29920549\n",
      " -46.27205902 -55.19172129 -50.66383047 -41.72386322 -42.75729036]\n"
     ]
    }
   ],
   "source": [
    "print(data_array.shape, log_probs[:10])"
   ]
  },
  {
   "cell_type": "code",
   "execution_count": 143,
   "metadata": {
    "scrolled": true
   },
   "outputs": [],
   "source": [
    "# NOW THE DATA IS OF THE SHAPE [n_samples x n_qubits x n_outcomes]\n",
    "\n",
    "reshaped_array = np.empty((data_array.shape[0], 50, 4))\n",
    "for i in range(data_array.shape[0]):\n",
    "    reshaped_array[i] = data_array[i].reshape((50,4))\n"
   ]
  },
  {
   "cell_type": "code",
   "execution_count": 150,
   "metadata": {},
   "outputs": [
    {
     "name": "stdout",
     "output_type": "stream",
     "text": [
      "<torch.utils.data.dataloader.DataLoader object at 0x7f9acc2fa668>\n"
     ]
    }
   ],
   "source": [
    "# I LOAD THE DATA INTO A PYTORCH DATALOADER CLASS\n",
    "\n",
    "tensor_array_train = torch.stack([torch.Tensor(i).double() for i in reshaped_array[:50000]])\n",
    "tensor_data_train = torch.utils.data.TensorDataset(tensor_array_train)\n",
    "tensor_array_test = torch.stack([torch.Tensor(i).double() for i in reshaped_array[50000:100000]])\n",
    "tensor_data_test = torch.utils.data.TensorDataset(tensor_array_test)\n",
    "\n",
    "train_loader = torch.utils.data.DataLoader(tensor_data_train, batch_size=batchSize, num_workers=1)\n",
    "test_loader = torch.utils.data.DataLoader(tensor_data_test, batch_size = batchSize, num_workers = 1)\n",
    "print(train_loader)"
   ]
  },
  {
   "cell_type": "code",
   "execution_count": 198,
   "metadata": {},
   "outputs": [],
   "source": [
    "# I BUILD THE MODEL, WITH FUNCTIONS FOR INITIALIZING THE HIDDEN STATE AND THE INITIAL X\n",
    "class RNN(nn.Module):\n",
    "    def __init__(self, hidden_size):\n",
    "        super(RNN, self).__init__()\n",
    "        self.hidden_size = hidden_size\n",
    "        self.num_layers = num_gru_layers\n",
    "        self.steps = n_qubits\n",
    "        self.n_outcomes = n_outcomes\n",
    "        self.loss_by_step = loss_by_step\n",
    "        self.batchSize = batchSize\n",
    "\n",
    "        \n",
    "        self.rnn = nn.GRU(n_outcomes, hidden_size, num_layers=self.num_layers, dropout=0.01)\n",
    "        self.outcome = nn.Linear(hidden_size, n_outcomes)\n",
    "        #self.outcome2 = nn.Linear(hidden_size // 2, n_outcomes)\n",
    "        self.CE = nn.CrossEntropyLoss()\n",
    "        \n",
    "        \n",
    "    \n",
    "    def initHidden(self):\n",
    "        \n",
    "        '''\n",
    "        must be shape \n",
    "        [self.num_layers * num_directions (1 in this case), batchSize, hidden_size]\n",
    "        '''\n",
    "        return torch.zeros(1*self.num_layers, batchSize, self.hidden_size).to(device).double()\n",
    "    \n",
    "    def initX(self):\n",
    "        '''\n",
    "        must be shape \n",
    "        [(1 step), batchSize, hidden_size]\n",
    "        '''\n",
    "        return torch.zeros(1, batchSize, self.n_outcomes).to(device).double()\n",
    "    \n",
    "\n",
    "    def step(self, input, hidden=None):\n",
    "        \n",
    "        output, hidden = self.rnn(input, hidden)\n",
    "        for_prediction = output.squeeze(0).to(device)\n",
    "        outcome_prob = F.softmax(self.outcome(for_prediction), dim = 1)\n",
    "        return output, hidden, outcome_prob\n",
    "\n",
    "    \n",
    "    def forward(self, inputs, hidden=None,  steps=50):\n",
    "        \n",
    "        '''\n",
    "        must be shape\n",
    "        input: [length_sequence (n_qubits), batchSize, num_features (n_outcomes)]\n",
    "        hidden: [num_layers * num_directions, batchSize, hidden_size]'''\n",
    "        \n",
    "        if steps == 0: steps = len(inputs)\n",
    "        outputs = torch.zeros(steps, batchSize, hidden_size).double().to(device)\n",
    "        outcome_probs = torch.zeros(steps, batchSize, n_outcomes).double().to(device)\n",
    "        losses = torch.tensor(0).double().to(device)\n",
    "\n",
    "        for i in range(steps):\n",
    "            if  i == 0:\n",
    "                hidden = self.initHidden()\n",
    "                input = self.initX()\n",
    "                targets = torch.argmax(inputs[i],dim=1)\n",
    "                \n",
    "            else:\n",
    "                input = inputs[i-1,:,:].unsqueeze(0)\n",
    "                targets = torch.argmax(inputs[i],dim=1)\n",
    "                \n",
    "\n",
    "                \n",
    "            output, hidden, outcome = self.step(input, hidden)\n",
    "\n",
    "            if self.loss_by_step == True:\n",
    "                #loss_i = self.CE(outcome, targets.long())\n",
    "                #loss_i = self.step_loss(targets, outcome)\n",
    "                loss_i = self.myCrossEntropyLoss(outcome, targets)\n",
    "                losses = losses + loss_i\n",
    "            outputs[i] = output\n",
    "            outcome_probs[i] = outcome\n",
    "            \n",
    "        if loss_by_step == False:\n",
    "            losses = self.loss_overall(inputs, outcome_probs)\n",
    "            \n",
    "        return outputs, hidden, outcome_probs, losses, inputX\n",
    "       \n",
    "\n",
    "    def myCrossEntropyLoss(self, outputs, labels):\n",
    "        batch_size = outputs.size()[0]            # batch_size\n",
    "        outputs = torch.log(outputs)   # compute the log of softmax values\n",
    "        outputs = outputs[range(batch_size), labels] # pick the values corresponding to the labels\n",
    "        return -torch.sum(outputs)/batch_size\n",
    "    \n",
    "    \n",
    "    def sample(self):\n",
    "    \n",
    "        #initialize hidden as in model\n",
    "        hidden = self.initHidden()\n",
    "        inputX = self.initX()\n",
    "        \n",
    "        # one hot encoded for each qubit\n",
    "        samples = torch.zeros(self.steps, self.batchSize, self.n_outcomes)\n",
    "        probs = torch.zeros(self.batchSize)\n",
    "\n",
    "        #go through all qubits\n",
    "        for i in range(self.steps):\n",
    "\n",
    "            #initialize for one-hot encoding, qubit_i_samples will be a class chosen for each batch entry based on probabilities\n",
    "            # batchSize number of samples for ith qubit\n",
    "            qubit_i_samples = torch.zeros(self.batchSize)\n",
    "            if i == 0:\n",
    "                output, hidden, outcome = self.step(inputX, hidden)\n",
    "                qubit_i_probs = outcome.to('cpu').data.numpy()\n",
    "            elif i > 0:\n",
    "                output, hidden, outcome = self.step(input.unsqueeze(0).to(device).double(), hidden)\n",
    "                qubit_i_probs = outcome.to('cpu').data.numpy()\n",
    "\n",
    "            for batch_entry in range(self.batchSize):\n",
    "\n",
    "                qubit_i_samples[batch_entry] = torch.from_numpy(np.random.choice([0,1,2,3], size = 1, p=qubit_i_probs[batch_entry]))\n",
    "\n",
    "            #make the one-hot samples, use to feed as next input\n",
    "            samples[i][torch.arange(qubit_i_samples.shape[0]).long(), qubit_i_samples.long()] = 1\n",
    "            input = samples[i]\n",
    "\n",
    "        return samples\n",
    "    \n",
    "    \n",
    "    \n",
    "    \n",
    "    def step_loss(self, real_outcomes, predicted_outcomes, ce = True):\n",
    "    \n",
    "        if ce is True:\n",
    "            loss = F.cross_entropy(predicted_outcomes, real_outcomes.long(), size_average=False)\n",
    "        else:\n",
    "            one_hot_Trueoutcomes = torch.zeros((real_outcomes.shape[0], real_outcomes.max()+1))\n",
    "            one_hot_Trueoutcomes[torch.arange(real_outcomes.shape[0]).long(),real_outcomes.long()] = 1\n",
    "            loss = F.mse_loss(one_hot_Trueoutcomes.to(device).double(), predicted_outcomes, size_average=False)\n",
    "        return loss\n",
    "\n",
    "#     def loss_overall(self, real_outcomes, predicted_outcomes, ce = True):\n",
    "    \n",
    "#         if ce is True:\n",
    "#            # CE = F.cross_entropy(real_outcomes[1:], predicted_outcomes[:-1], size_average=False)\n",
    "#             real_outcomes_1 = real_outcomes.view(batchSize*self.steps,4)\n",
    "#             target_labels = torch.argmax(real_outcomes_1,dim=1).long()\n",
    "#             predictions = predicted_outcomes.view(batchSize*self.steps,4)\n",
    "            \n",
    "#             # take cross entropy between the output prediction and the true target label.\n",
    "#             loss = F.cross_entropy(predictions, target_labels, size_average=False)\n",
    "#         else:\n",
    "#             loss = F.mse_loss(real_outcomes, predicted_outcomes, size_average=False)\n",
    "\n",
    "#         return loss\n",
    "    \n",
    "    \n",
    "    \n",
    "\n",
    "    \n",
    "model = RNN(hidden_size).to(device).double()\n",
    "optimizer = optim.Adam(model.parameters(), lr=lr)\n",
    "    \n",
    "    "
   ]
  },
  {
   "cell_type": "code",
   "execution_count": null,
   "metadata": {
    "scrolled": true
   },
   "outputs": [
    {
     "name": "stdout",
     "output_type": "stream",
     "text": [
      "Train Epoch: 1 [0/50000 (0%)]\tLoss: 0.135078\n",
      "====> Epoch: 1 Average loss: 0.1061\n",
      "Train Epoch: 2 [0/50000 (0%)]\tLoss: 0.102951\n",
      "====> Epoch: 2 Average loss: 0.1027\n",
      "Train Epoch: 3 [0/50000 (0%)]\tLoss: 0.102783\n",
      "====> Epoch: 3 Average loss: 0.1026\n",
      "Train Epoch: 4 [0/50000 (0%)]\tLoss: 0.102736\n",
      "====> Epoch: 4 Average loss: 0.1026\n",
      "Train Epoch: 5 [0/50000 (0%)]\tLoss: 0.102737\n",
      "====> Epoch: 5 Average loss: 0.1026\n",
      "Train Epoch: 6 [0/50000 (0%)]\tLoss: 0.102702\n",
      "====> Epoch: 6 Average loss: 0.1026\n",
      "Train Epoch: 7 [0/50000 (0%)]\tLoss: 0.102696\n",
      "====> Epoch: 7 Average loss: 0.1026\n",
      "Train Epoch: 8 [0/50000 (0%)]\tLoss: 0.102698\n",
      "====> Epoch: 8 Average loss: 0.1026\n",
      "Train Epoch: 9 [0/50000 (0%)]\tLoss: 0.102670\n",
      "====> Epoch: 9 Average loss: 0.1025\n",
      "Train Epoch: 10 [0/50000 (0%)]\tLoss: 0.102655\n",
      "====> Epoch: 10 Average loss: 0.1025\n"
     ]
    },
    {
     "name": "stderr",
     "output_type": "stream",
     "text": [
      "Exception ignored in: <bound method _DataLoaderIter.__del__ of <torch.utils.data.dataloader._DataLoaderIter object at 0x7f9a2ad27668>>\n",
      "Traceback (most recent call last):\n",
      "  File \"/home/albergo/anaconda2/envs/pytorch04/lib/python3.6/site-packages/torch/utils/data/dataloader.py\", line 349, in __del__\n",
      "    self._shutdown_workers()\n",
      "  File \"/home/albergo/anaconda2/envs/pytorch04/lib/python3.6/site-packages/torch/utils/data/dataloader.py\", line 328, in _shutdown_workers\n",
      "    self.worker_result_queue.get()\n",
      "  File \"/home/albergo/anaconda2/envs/pytorch04/lib/python3.6/multiprocessing/queues.py\", line 337, in get\n",
      "    return _ForkingPickler.loads(res)\n",
      "  File \"/home/albergo/anaconda2/envs/pytorch04/lib/python3.6/site-packages/torch/multiprocessing/reductions.py\", line 70, in rebuild_storage_fd\n",
      "    fd = df.detach()\n",
      "  File \"/home/albergo/anaconda2/envs/pytorch04/lib/python3.6/multiprocessing/resource_sharer.py\", line 57, in detach\n",
      "    with _resource_sharer.get_connection(self._id) as conn:\n",
      "  File \"/home/albergo/anaconda2/envs/pytorch04/lib/python3.6/multiprocessing/resource_sharer.py\", line 87, in get_connection\n",
      "    c = Client(address, authkey=process.current_process().authkey)\n",
      "  File \"/home/albergo/anaconda2/envs/pytorch04/lib/python3.6/multiprocessing/connection.py\", line 493, in Client\n",
      "    answer_challenge(c, authkey)\n",
      "  File \"/home/albergo/anaconda2/envs/pytorch04/lib/python3.6/multiprocessing/connection.py\", line 737, in answer_challenge\n",
      "    response = connection.recv_bytes(256)        # reject large message\n",
      "  File \"/home/albergo/anaconda2/envs/pytorch04/lib/python3.6/multiprocessing/connection.py\", line 216, in recv_bytes\n",
      "    buf = self._recv_bytes(maxlength)\n",
      "  File \"/home/albergo/anaconda2/envs/pytorch04/lib/python3.6/multiprocessing/connection.py\", line 407, in _recv_bytes\n",
      "    buf = self._recv(4)\n",
      "  File \"/home/albergo/anaconda2/envs/pytorch04/lib/python3.6/multiprocessing/connection.py\", line 379, in _recv\n",
      "    chunk = read(handle, remaining)\n",
      "ConnectionResetError: [Errno 104] Connection reset by peer\n"
     ]
    },
    {
     "name": "stdout",
     "output_type": "stream",
     "text": [
      "Train Epoch: 11 [0/50000 (0%)]\tLoss: 0.102646\n",
      "====> Epoch: 11 Average loss: 0.1025\n",
      "Train Epoch: 12 [0/50000 (0%)]\tLoss: 0.102640\n",
      "====> Epoch: 12 Average loss: 0.1025\n",
      "Train Epoch: 13 [0/50000 (0%)]\tLoss: 0.102686\n",
      "====> Epoch: 13 Average loss: 0.1025\n",
      "Train Epoch: 14 [0/50000 (0%)]\tLoss: 0.102656\n",
      "====> Epoch: 14 Average loss: 0.1025\n",
      "Train Epoch: 15 [0/50000 (0%)]\tLoss: 0.102648\n"
     ]
    }
   ],
   "source": [
    "train_losses = []\n",
    "KLs = []\n",
    "fidelities = []\n",
    "for epoch in range(1, num_epochs + 1):\n",
    "    #train(epoch, train_losses)\n",
    "    train_loss = 0\n",
    "    for batch_idx, (data) in enumerate(train_loader,):\n",
    "        data = data[0].to(device).permute(1,0,2)#.reshape(n_qubits, batchSize, n_outcomes)\n",
    "        \n",
    "        #if batch_idx == 1:\n",
    "         #   print(data[:,0])\n",
    "        optimizer.zero_grad()\n",
    "        outputs, hidden, outcome_probs, loss, inputX = model(data)\n",
    "        loss.backward()\n",
    "        \n",
    "        train_loss += loss.item()\n",
    "        optimizer.step()\n",
    "        if batch_idx % log_interval == 0:\n",
    "            \n",
    "            KLs.append(compute_KL(model)[0])  \n",
    "            fidelities.append(compute_KL(model)[1])  \n",
    "            \n",
    "            print('Train Epoch: {} [{}/{} ({:.0f}%)]\\tLoss: {:.6f}'.format(\n",
    "                epoch, batch_idx * len(data[1]), len(train_loader.dataset),\n",
    "                100. * batch_idx / len(train_loader),\n",
    "                loss.item() / len(data[1]) ))\n",
    "    avg_batch_loss = train_loss / len(train_loader.dataset)\n",
    "    train_losses.append(avg_batch_loss)\n",
    "\n",
    "    print('====> Epoch: {} Average loss: {:.4f}'.format(\n",
    "          epoch, avg_batch_loss))"
   ]
  },
  {
   "cell_type": "code",
   "execution_count": 195,
   "metadata": {},
   "outputs": [
    {
     "name": "stdout",
     "output_type": "stream",
     "text": [
      "[4.470019969036354, 1.7795360359805257, 1.7750887416165118, 1.7727715732114897, 1.770185194082071] [30.576401734544113, 288.8886606515165, 281.1940622318759, 269.2776398337768, 272.50215326248644]\n"
     ]
    }
   ],
   "source": [
    "print(KLs, fidelities)"
   ]
  },
  {
   "cell_type": "code",
   "execution_count": 156,
   "metadata": {},
   "outputs": [
    {
     "name": "stdout",
     "output_type": "stream",
     "text": [
      "Percent distribution for the 50 qubits: [0.17128 0.05412 0.16512 0.60948]\n",
      "Outcome distribution for the 50 qubits: [ 8.564  2.706  8.256 30.474]\n"
     ]
    }
   ],
   "source": [
    "## try sampling from it, compute average probability of each outcome\n",
    "sample_test = model.sample()\n",
    "#compare probabilities:\n",
    "#print(sample_test[:,0,:])\n",
    "bin_counts = [np.bincount(np.argmax(sample_test[:,i,:].cpu().data.numpy(), axis = 1)) for i in range(batchSize) ]\n",
    "#print(bin_counts)\n",
    "print(\"Percent distribution for the 50 qubits:\",(np.array(bin_counts).mean(0) / np.array(bin_counts).mean(0).sum()))\n",
    "print(\"Outcome distribution for the 50 qubits:\",np.array(bin_counts).mean(0))"
   ]
  },
  {
   "cell_type": "code",
   "execution_count": 12,
   "metadata": {
    "scrolled": false
   },
   "outputs": [
    {
     "name": "stdout",
     "output_type": "stream",
     "text": [
      "<matplotlib.colors.ListedColormap object at 0x7f9acc2efe10>\n"
     ]
    },
    {
     "data": {
      "text/plain": [
       "<Figure size 1080x72 with 0 Axes>"
      ]
     },
     "metadata": {},
     "output_type": "display_data"
    },
    {
     "data": {
      "image/png": "[encoded data removed]",
      "text/plain": [
       "<Figure size 936x237.6 with 5 Axes>"
      ]
     },
     "metadata": {
      "needs_background": "light"
     },
     "output_type": "display_data"
    }
   ],
   "source": [
    "def plot_samples(sample_test = sample_test, n_samples = 1, n_qubits = n_qubits):\n",
    "    qubits = np.arange(1, n_qubits + 1)\n",
    "    color_labels = np.array([np.argmax(sample_test[:,i,:].cpu().data.numpy(), axis = 1) for i in range(batchSize)])#[0.456,0.962,0.231] \n",
    "    #print(color_labels[0].shape, qubits.shape)\n",
    "    #UnlabelledY=[0,1,0]\n",
    "    fig = plt.figure(figsize=(15,1))\n",
    "    flatui = [\"#9b59b6\", \"#3498db\", \"#95a5a6\", \"#e74c3c\", \"#34495e\", \"#2ecc71\"]\n",
    "    muted=[\"#4878CF\", \"#6ACC65\", \"#D65F5F\",\n",
    "               \"#B47CC7\", \"#C4AD66\", \"#77BEDB\"]\n",
    "    #my_cmap = ListedColormap(sns.color_palette(muted).as_hex())\n",
    "    #cmap = sns.cubehelix_palette(light=0.8, dark=0.4, start=0.03, rot=0.4, as_cmap=True)\n",
    "    cmap = ListedColormap(palettable.cartocolors.diverging.Earth_4.mpl_colors)\n",
    "    #cmap = ListedColormap(palettable.wesanderson.Chevalier_4.mpl_colors)\n",
    "    #cmap = ListedColormap(palettable.wesanderson.Darjeeling2_5.mpl_colors)\n",
    "    #cmap = ListedColormap(palettable.wesanderson.Moonrise2_4.mpl_colors)\n",
    "    #cmap = ListedColormap(palettable.wesanderson.FantasticFox2_5.mpl_colors)\n",
    "    print(cmap)\n",
    "    \n",
    "    if n_samples == 1:\n",
    "        fig = plt.figure(figsize=(15,1))\n",
    "        plt.scatter(qubits, np.zeros_like(qubits), \n",
    "                c=color_labels[0], cmap=cmap, vmin=0, s=120)\n",
    "        #plt.axis('off')\n",
    "        plt.xlabel(\"Qubit #\", fontsize=14)\n",
    "    else:\n",
    "        fig, axes = plt.subplots(n_samples, 1, figsize=(13,n_samples * 0.66))\n",
    "        fig.subplots_adjust(hspace=-0.1)\n",
    "        for i in range(n_samples):\n",
    "            axes[i].scatter(qubits, np.zeros_like(qubits), \n",
    "                    c=color_labels[i], cmap=cmap, vmin=0, s=100)\n",
    "            axes[i].set_yticks([])\n",
    "            sns.despine(left=True, bottom=True)\n",
    "            #sns.despine(bottom=True)\n",
    "            #sns.despine(top=True)\n",
    "            if i == n_samples - 1:\n",
    "                axes[i].set_xlabel(\"Qubit #\", fontsize=14)\n",
    "                axes[i].spines[\"bottom\"].set_visible(True)\n",
    "            else:\n",
    "                axes[i].set_xticks([])\n",
    "\n",
    "    plt.show()\n",
    "    return\n",
    "\n",
    "plot_samples(sample_test = sample_test, n_samples = 5, n_qubits = 50)\n"
   ]
  },
  {
   "cell_type": "code",
   "execution_count": 69,
   "metadata": {},
   "outputs": [
    {
     "name": "stdout",
     "output_type": "stream",
     "text": [
      "torch.Size([50, 50, 4])\n",
      "[0.1672 0.0448 0.1824 0.6056]\n",
      "[ 8.36  2.24  9.12 30.28]\n"
     ]
    }
   ],
   "source": [
    "#batchSize = 50\n",
    "#batchSize = 100\n",
    "index = np.random.randint(0,len(data_array))\n",
    "test = reshaped_array[index:index+batchSize]\n",
    "data = torch.from_numpy(test).double().to(device)\n",
    "#print(data.shape)\n",
    "#print(inputX.shape)\n",
    "#print(hidden.shape)\n",
    "\n",
    "#output, hidden, outcome, loss, inputX = model(data)\n",
    "\n",
    "def sample(model, n_qubits, batchSize = batchSize, hidden_size = hidden_size, n_outcomes = n_outcomes, num_layers = num_gru_layers):\n",
    "    \n",
    "    #initialize hidden as in model\n",
    "    hidden = torch.ones(1*num_layers, batchSize, hidden_size).to(device).double()\n",
    "    initX = torch.ones(1, batchSize, n_outcomes).to(device).double()\n",
    "    samples = torch.zeros(n_qubits, batchSize, n_outcomes)\n",
    "    \n",
    "    for i in range(n_qubits):\n",
    "        \n",
    "        #initialize for one-hot encoding, qubit_i_samples will be a class chosen for each batch entry based on probabilities\n",
    "        # batchSize number of samples for ith qubit\n",
    "        qubit_i_samples = torch.zeros(batchSize)\n",
    "\n",
    "        if i == 0:\n",
    "            output, hidden, outcome = model.step(initX, hidden)\n",
    "            qubit_i_probs = outcome.to('cpu').data.numpy()\n",
    "            #print(qubit_i_probs[0])\n",
    "        elif i > 0:\n",
    "            output, hidden, outcome = model.step(samples[i-1].unsqueeze(0).to(device).double(), hidden)\n",
    "            qubit_i_probs = outcome.to('cpu').data.numpy()\n",
    "            #print(qubit_i_probs[0])\n",
    "            \n",
    "        for batch_entry in range(batchSize):\n",
    "            qubit_i_samples[batch_entry] = torch.from_numpy(np.random.choice([0,1,2,3], size = 1, p=qubit_i_probs[batch_entry]))\n",
    "        samples[i][torch.arange(batchSize).long(), qubit_i_samples.long()] = 1\n",
    "        input = samples[i]\n",
    "        #print(samples[i])\n",
    " \n",
    "        #samples[i] = sample_i\n",
    "    \n",
    "    return samples\n",
    "            \n",
    "sample_test = sample(model, 50)  \n",
    "\n",
    "\n",
    "#compare probabilities:\n",
    "print(sample_test.shape)\n",
    "bin_counts = [np.bincount(np.argmax(sample_test[:,i,:].cpu().data.numpy(), axis = 1)) for i in range(batchSize) ]\n",
    "print((np.array(bin_counts).mean(0) / np.array(bin_counts).mean(0).sum()))\n",
    "print(np.array(bin_counts).mean(0))"
   ]
  },
  {
   "cell_type": "code",
   "execution_count": 172,
   "metadata": {},
   "outputs": [
    {
     "name": "stdout",
     "output_type": "stream",
     "text": [
      "0.09395096608016956 573.5084570029785\n"
     ]
    }
   ],
   "source": [
    "def compute_KL(model, real_data = reshaped_array, logPs = log_probs, num_samples = 150, num_layers = num_gru_layers):\n",
    "\n",
    "    KL = 0\n",
    "    fidelity = 0\n",
    "    for batch_idx, (data) in enumerate(train_loader,):\n",
    "        data = data[0].to(device).permute(1,0,2)\n",
    "        \n",
    "        outputs, hidden, outcome_probs, loss, inputX = model(data)\n",
    "        logq_batch = (torch.sum(torch.log(torch.sum(outcome_probs * data, dim=2)), dim=0))\n",
    "        KL += np.sum(logPs[(batch_idx*batchSize):(batch_idx*batchSize + batchSize)] - logq_batch.cpu().data.numpy())\n",
    "        fidelity += np.sum(np.exp((1/2) * (logq_batch.cpu().data.numpy() - logPs[(batch_idx*batchSize):(batch_idx*batchSize + batchSize)] )))\n",
    "        \n",
    "        if batch_idx == 25:\n",
    "            break\n",
    "    \n",
    "    KL = KL / (batchSize * batch_idx)\n",
    "    \n",
    "    fidelity = fidelity / (batchSize*batch_idx)\n",
    "       \n",
    "    return KL, fidelity\n",
    "\n",
    "kl, fidelity = compute_KL(model)   \n",
    "\n",
    "\n",
    "print(kl, fidelity)\n",
    "  "
   ]
  },
  {
   "cell_type": "code",
   "execution_count": 162,
   "metadata": {},
   "outputs": [
    {
     "name": "stdout",
     "output_type": "stream",
     "text": [
      "tensor([-48.7280, -57.7980, -46.2830, -58.3975, -59.0218, -56.3116,\n",
      "        -41.7687, -43.3531, -50.9076, -50.4845, -61.5539, -52.6993,\n",
      "        -48.2108, -56.4936, -46.2790, -55.4091, -50.6446, -47.1339,\n",
      "        -46.2462, -52.9736, -54.9653, -52.7664, -53.5814, -61.8175,\n",
      "        -48.5956, -55.0955, -58.5391, -60.3642, -46.3613, -41.6966,\n",
      "        -62.0812, -49.5609, -43.9365, -53.0663, -48.6884, -43.4069,\n",
      "        -58.3538, -51.2023, -50.3998, -46.7518, -59.9154, -43.3103,\n",
      "        -54.4262, -48.5549, -45.9686, -50.3093, -57.9838, -54.4279,\n",
      "        -55.5317, -50.1821, -46.3783, -57.1653, -50.1031, -50.4617,\n",
      "        -56.5617, -43.6189, -41.4486, -53.4316, -59.9795, -49.4824,\n",
      "        -54.4331, -53.8996, -43.6240, -47.3441, -52.9975, -40.0012,\n",
      "        -53.2560, -55.8943, -47.1756, -54.9125, -47.6753, -53.8624,\n",
      "        -59.3871, -54.1255, -52.6482, -54.3610, -43.2094, -48.9391,\n",
      "        -51.6604, -45.8431, -61.7252, -45.8633, -49.1761, -38.6988,\n",
      "        -42.0896, -44.5974, -53.9904, -47.0573, -46.6464, -55.0364,\n",
      "        -52.6003, -60.3264, -45.3899, -55.0299, -56.8253, -49.5254,\n",
      "        -44.0426, -49.4984, -62.0849, -45.2933, -44.8961, -52.2544,\n",
      "        -57.0250, -59.5445, -55.0439, -43.2171, -47.9433, -52.3361,\n",
      "        -58.8800, -55.2391, -48.7867, -58.4661, -50.8635, -49.2641,\n",
      "        -60.1013, -43.2484, -49.2282, -43.4333, -49.1572, -57.0776,\n",
      "        -61.8032, -47.5640, -51.7913, -49.3049, -41.9662, -60.0318,\n",
      "        -41.7487, -56.9596, -58.6779, -42.9625, -46.5484, -57.6448,\n",
      "        -52.1673, -49.9224, -59.8110, -54.2056, -62.9742, -56.7099,\n",
      "        -56.2789, -44.1547, -54.7889, -51.4767, -39.0183, -50.2158,\n",
      "        -56.6898, -39.3685, -43.8388, -53.0841, -61.9638, -63.4160,\n",
      "        -47.6271, -54.2829, -43.5947, -52.5002, -50.6066, -55.5671,\n",
      "        -48.9012, -39.9237, -46.7628, -58.8739, -55.1078, -52.3147,\n",
      "        -56.5595, -57.8597, -39.3811, -44.8691, -50.6090, -37.6296,\n",
      "        -54.0995, -54.1715, -49.0450, -51.4449, -43.9084, -40.7509,\n",
      "        -47.5858, -62.5742, -53.5220, -54.3471, -51.6549, -46.7124,\n",
      "        -51.1718, -48.8777, -61.4093, -47.4565, -52.4228, -52.5107,\n",
      "        -55.0789, -47.6016, -57.6546, -50.5189, -47.1467, -59.0433,\n",
      "        -51.0260, -53.5510, -58.9520, -54.1745, -56.6508, -41.0439,\n",
      "        -61.6767, -44.8457, -54.3595, -54.8280, -51.9965, -55.6854,\n",
      "        -51.9017, -51.6990, -52.0668, -53.8295, -49.0747, -48.2592,\n",
      "        -50.6435, -46.5038, -48.6085, -51.0470, -55.0379, -51.0846,\n",
      "        -50.8711, -54.8629, -51.0180, -57.5848, -45.2814, -50.3559,\n",
      "        -55.1102, -56.9107, -54.6866, -59.7683, -49.3793, -51.8506,\n",
      "        -45.3309, -59.4029, -45.1427, -44.0446, -51.2637, -48.2945,\n",
      "        -44.7989, -52.8977, -47.5065, -53.0763, -51.4866, -50.2590,\n",
      "        -54.8765, -50.0706, -55.1009, -52.7893, -47.4410, -57.4696,\n",
      "        -45.5202, -55.1469, -51.1828, -48.3678, -53.8438, -48.2413,\n",
      "        -53.0586, -53.6319, -55.9671, -54.3235, -47.9433, -45.8265,\n",
      "        -53.6488, -50.2971, -58.1697, -62.6349, -44.3553, -51.2402,\n",
      "        -48.6022, -51.6103, -51.4776, -44.1985, -48.1755, -44.1329,\n",
      "        -43.9965, -56.8450, -45.3472, -53.4364, -49.9802, -48.3261,\n",
      "        -49.5377, -54.7596, -39.7510, -50.5049, -52.5239, -41.8458,\n",
      "        -44.9548, -56.6895, -44.1583, -49.7325, -46.7645, -47.5160,\n",
      "        -47.6388, -56.3655, -51.0455, -49.7445, -44.8662, -45.0408,\n",
      "        -45.0121, -41.9341, -56.8618, -52.0699, -52.7339, -42.6020,\n",
      "        -49.5870, -45.0012, -45.1204, -52.6109, -57.0674, -50.0763,\n",
      "        -49.5696, -45.8806, -58.9539, -46.8783, -54.6139, -54.1210,\n",
      "        -44.6690, -55.9592, -41.7528, -40.3937, -52.2871, -41.3052,\n",
      "        -50.6848, -51.6911, -39.0368, -52.4978, -56.8104, -59.5864,\n",
      "        -54.1327, -55.0382, -45.5121, -51.1282, -54.7022, -48.5956,\n",
      "        -44.1882, -50.9906, -46.0703, -55.7361, -44.9925, -49.8964,\n",
      "        -52.4942, -49.5372, -57.9768, -54.4069, -52.9948, -53.5685,\n",
      "        -52.9197, -44.1077, -50.5169, -50.2423, -51.8608, -52.1507,\n",
      "        -48.0526, -51.4552, -43.4544, -55.4089, -50.6881, -47.7239,\n",
      "        -56.7195, -54.2779, -55.8144, -41.9091, -45.0192, -48.4249,\n",
      "        -48.4336, -55.3818, -60.1352, -43.4940, -55.6547, -42.2679,\n",
      "        -43.0143, -48.6439, -47.3779, -42.4402, -45.7545, -51.0772,\n",
      "        -50.8122, -51.9670, -52.6419, -43.2519, -55.4497, -63.1379,\n",
      "        -45.9567, -60.3663, -55.5173, -44.8423, -51.0628, -49.9350,\n",
      "        -48.5924, -52.9459, -51.6741, -52.0817, -46.7174, -56.1607,\n",
      "        -47.0536, -44.1965, -55.4262, -42.4078, -45.3550, -48.5497,\n",
      "        -49.9331, -48.5188, -57.3638, -47.5391, -62.1134, -49.2140,\n",
      "        -49.0439, -51.5302, -60.3476, -49.3233, -52.1379, -46.4104,\n",
      "        -47.8340, -43.2426, -50.3334, -61.4634, -57.1250, -52.2969,\n",
      "        -49.4819, -51.6823, -43.8429, -47.7537, -52.5739, -51.6686,\n",
      "        -57.2421, -46.7851, -54.4482, -53.8310, -48.5447, -63.0653,\n",
      "        -57.2479, -45.0465, -43.6139, -60.1648, -49.9745, -51.9356,\n",
      "        -53.6005, -49.8557, -44.0662, -38.9326, -52.1178, -49.5919,\n",
      "        -63.8126, -55.8405, -49.9391, -54.5323, -51.7180, -40.6169,\n",
      "        -42.3513, -46.4718, -61.8692, -52.3583, -40.5533, -41.8493,\n",
      "        -42.8758, -46.8099, -53.1548, -58.7334, -57.1350, -59.3504,\n",
      "        -52.4388, -44.6284, -49.7972, -36.3809, -42.2704, -58.3517,\n",
      "        -60.7881, -47.8502, -55.9871, -61.5782, -49.0525, -54.7167,\n",
      "        -56.3174, -54.2289, -51.3076, -45.4159, -41.4652, -50.7167,\n",
      "        -39.9562, -56.7657, -51.5110, -52.4900, -46.7468, -54.2251,\n",
      "        -53.6118, -51.2696, -53.1062, -62.6901, -54.8521, -52.4608,\n",
      "        -46.1390, -43.5660, -50.0618, -48.0836, -49.7668, -51.8586,\n",
      "        -53.6674, -51.6394, -55.3440, -55.8983, -50.5840, -60.0649,\n",
      "        -46.5194, -52.2518], dtype=torch.float64, device='cuda:0')\n",
      "torch.Size([50, 500])\n"
     ]
    }
   ],
   "source": [
    "print((torch.sum(torch.log(torch.sum(outcome_probs * data, dim=2)), dim=0)))\n",
    "print(torch.sum(outcome_probs * data, dim=2).shape)\n",
    "#print(log_probs[(batch_idx*batchSize):(batch_idx*batchSize + batchSize)])"
   ]
  },
  {
   "cell_type": "code",
   "execution_count": null,
   "metadata": {},
   "outputs": [],
   "source": [
    "counts = []\n",
    "for i in range(len(data_array)):\n",
    "    #print(np.argmax(data_array[i]).shape)\n",
    "    count = np.bincount(np.argmax(reshaped_array[i], axis=1))\n",
    "    counts.append(count)\n",
    "    #break\n",
    "    #for j in range(len(data_array[i])):\n",
    "       # print(data_array[i][j])  \n",
    "   # if i == 50:\n",
    "    #    break"
   ]
  },
  {
   "cell_type": "code",
   "execution_count": null,
   "metadata": {},
   "outputs": [],
   "source": [
    "counts[:50]"
   ]
  },
  {
   "cell_type": "code",
   "execution_count": 9,
   "metadata": {},
   "outputs": [
    {
     "name": "stdout",
     "output_type": "stream",
     "text": [
      "nan\n",
      "nan\n"
     ]
    },
    {
     "name": "stderr",
     "output_type": "stream",
     "text": [
      "/Users/roger/.virtualenvs/qucumber/lib/python3.6/site-packages/ipykernel_launcher.py:1: RuntimeWarning: Mean of empty slice.\n",
      "  \"\"\"Entry point for launching an IPython kernel.\n",
      "/Users/roger/.virtualenvs/qucumber/lib/python3.6/site-packages/numpy-1.15.1-py3.6-macosx-10.13-x86_64.egg/numpy/core/_methods.py:85: RuntimeWarning: invalid value encountered in double_scalars\n",
      "  ret = ret.dtype.type(ret / rcount)\n"
     ]
    }
   ],
   "source": [
    "means = np.array(counts).mean(0)\n",
    "print(means)\n",
    "print(means / (means.sum()))"
   ]
  },
  {
   "cell_type": "code",
   "execution_count": 10,
   "metadata": {},
   "outputs": [
    {
     "ename": "NameError",
     "evalue": "name 'reshaped_array' is not defined",
     "output_type": "error",
     "traceback": [
      "\u001b[0;31m---------------------------------------------------------------------------\u001b[0m",
      "\u001b[0;31mNameError\u001b[0m                                 Traceback (most recent call last)",
      "\u001b[0;32m<ipython-input-10-cb970babcb26>\u001b[0m in \u001b[0;36m<module>\u001b[0;34m()\u001b[0m\n\u001b[1;32m      1\u001b[0m \u001b[0;31m## testing my own cross entropy\u001b[0m\u001b[0;34m\u001b[0m\u001b[0;34m\u001b[0m\u001b[0m\n\u001b[1;32m      2\u001b[0m \u001b[0;34m\u001b[0m\u001b[0m\n\u001b[0;32m----> 3\u001b[0;31m \u001b[0mnumpy\u001b[0m \u001b[0;34m=\u001b[0m \u001b[0mtorch\u001b[0m\u001b[0;34m.\u001b[0m\u001b[0mfrom_numpy\u001b[0m\u001b[0;34m(\u001b[0m\u001b[0mreshaped_array\u001b[0m\u001b[0;34m[\u001b[0m\u001b[0;36m0\u001b[0m\u001b[0;34m]\u001b[0m\u001b[0;34m)\u001b[0m\u001b[0;34m\u001b[0m\u001b[0m\n\u001b[0m\u001b[1;32m      4\u001b[0m \u001b[0mlabels\u001b[0m \u001b[0;34m=\u001b[0m \u001b[0mtorch\u001b[0m\u001b[0;34m.\u001b[0m\u001b[0margmax\u001b[0m\u001b[0;34m(\u001b[0m\u001b[0mnumpy\u001b[0m\u001b[0;34m,\u001b[0m\u001b[0mdim\u001b[0m\u001b[0;34m=\u001b[0m\u001b[0;36m1\u001b[0m\u001b[0;34m)\u001b[0m\u001b[0;34m\u001b[0m\u001b[0m\n\u001b[1;32m      5\u001b[0m \u001b[0mnumpy\u001b[0m \u001b[0;34m=\u001b[0m \u001b[0mtorch\u001b[0m\u001b[0;34m.\u001b[0m\u001b[0mlog\u001b[0m\u001b[0;34m(\u001b[0m\u001b[0mnumpy\u001b[0m\u001b[0;34m)\u001b[0m\u001b[0;34m\u001b[0m\u001b[0m\n",
      "\u001b[0;31mNameError\u001b[0m: name 'reshaped_array' is not defined"
     ]
    }
   ],
   "source": [
    "## testing my own cross entropy\n",
    "\n",
    "numpy = torch.from_numpy(reshaped_array[0])\n",
    "labels = torch.argmax(numpy,dim=1)\n",
    "numpy = torch.log(numpy)\n",
    "numpy[0] = torch.log(torch.from_numpy(np.array([0.75,0.2,0,0.05])))\n",
    "print(numpy)\n",
    "print(labels)"
   ]
  },
  {
   "cell_type": "code",
   "execution_count": null,
   "metadata": {},
   "outputs": [],
   "source": [
    "output_vals = numpy[range(50), labels]\n",
    "print(output_vals)"
   ]
  },
  {
   "cell_type": "code",
   "execution_count": null,
   "metadata": {},
   "outputs": [],
   "source": [
    "sample_test[:,0,:].shape"
   ]
  },
  {
   "cell_type": "code",
   "execution_count": null,
   "metadata": {},
   "outputs": [],
   "source": []
  }
 ],
 "metadata": {
  "kernelspec": {
   "display_name": "Python 3",
   "language": "python",
   "name": "python3"
  },
  "language_info": {
   "codemirror_mode": {
    "name": "ipython",
    "version": 3
   },
   "file_extension": ".py",
   "mimetype": "text/x-python",
   "name": "python",
   "nbconvert_exporter": "python",
   "pygments_lexer": "ipython3",
   "version": "3.6.5"
  }
 },
 "nbformat": 4,
 "nbformat_minor": 2
}
