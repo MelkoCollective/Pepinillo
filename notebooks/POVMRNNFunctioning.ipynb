{
 "cells": [
  {
   "cell_type": "markdown",
   "metadata": {},
   "source": [
    "![Samples of TFIM](figs/SetOfSamples.png)\n",
    "\n",
    "\n",
    "# <span style=\"color:darkslategray\">  Tutorial on Reconstructing Quantum States with Positive-Operator Valued Measurements (POVMs) and Recurrent Neural Networks </span>\n",
    "\n",
    "\n",
    "\n",
    "Michael Albergo\n",
    "\n",
    "A walkthrough of using Pepinillo to reproduce results from https://arxiv.org/pdf/1810.10584.pdf by Juan Carrasquilla, Giacomo Torlai, Roger Melko, and Leandro Aolita.\n",
    "\n",
    "\n",
    "\n",
    "RNN Model includes sampler, used later for visualization. Hyperparameters defined in cell 3 other than learning rate"
   ]
  },
  {
   "cell_type": "code",
   "execution_count": 2,
   "metadata": {
    "collapsed": true
   },
   "outputs": [],
   "source": [
    "import argparse\n",
    "import torch\n",
    "import torch.utils.data\n",
    "from torch import nn, optim\n",
    "from torch.nn import functional as F\n",
    "import numpy as np\n",
    "import os\n",
    "import datetime\n",
    "from matplotlib import pyplot as plt\n",
    "from matplotlib.colors import ListedColormap\n",
    "#import palettable\n",
    "import seaborn as sns"
   ]
  },
  {
   "cell_type": "markdown",
   "metadata": {},
   "source": [
    "# <span style=\"color:steelblue\"> Setting the Scenario </span>\n",
    "\n",
    "Imagine you are trying to prepare a 50-qubit quantum system that is governed by the Transverse-Field Ising Model 1D  Hamiltonian: \n",
    "<img src=\"figs/TransverIsingModel1DHamiltonian.png\" alt=\"TFIMHamiltonian\" width=\"300\"/>\n",
    "\n",
    "You want to be able to check on the fidelity of your setup to verify that you have properly prepared the quantum state. To do this, you want to perform inference on the density matrix of the mixed state -- to show that informationally complete measurement samples from your setup match the expected frequency associated with your intended density matrix $\\rho$. With the right choice of measurements -- namely informationally complete Postive-Operator Valued Measurements for each qubit $M = \\{ M^{(\\mathbf{a_i})} \\otimes \\dots \\otimes M^{(\\mathbf{a_n})} \\}$, we can link the probability of measurement outcomes with the invertible expression given by Born's Rule: $P(\\mathbf{a}) = \\mathrm{Tr}[M^{(\\mathbf{a})}\\rho]$. Thus, if we can gain insight into the distribution of measurement ourcomes $P(\\mathbf{a})$, we can gain insight into the density matrix $\\rho$. Here, each $a_i$ in $\\mathbf{a}$ can take on a discrete value to represent the measurement outcome for the $i^{th}$ qubit. The number of possible outcomes is decided by which POVM measurements are used.\n",
    "\n",
    "\n",
    "## <span style=\"color:steelblue\">How do we learn $P(\\mathbf{a})$? Recurrent Neural Networks </span>\n",
    "\n",
    "Modern machine learning methods offer a variety of methods for learning some generative distribution $p(x)$. In this tutorial, we treat our qubit measurements as sequential measurements (though the order is arbitrary) and apply a recurrent neural network model made of 2 linked gated recurrent units (GRUs). I'll explain these a bit below.\n",
    "\n",
    "In a generative recurrent model, we can represent the joint ditribution $p(\\mathbf{a})$ over all N qubit measurement outcomes by factorizing it according to the chain rule:\n",
    "\n",
    "\\begin{equation} p(\\mathbf{a}) = p(a_1) p(a_2 | a_1) p(a_3 | a_1, a_2)...p(a_N | a_1, \\dots, a_{N-1})\\end{equation}\n",
    "\n",
    "The idea here is to make estimates of each of these factors sequentially with subsequent passes through the recurrent unit. An RNN is composed of some fundamental cell, which is some weight matrix or set of weight matrices that are fixed after training and a hidden state $h_t$ whose value is updated at each sequential step.\n",
    "\n",
    "\n",
    "#### TO DO\n",
    "SHOW DIAGRAM OF RNN and specifically GRU, explain how probability measures over one-hot vectors are calculated at each time step and passed forward through the RNN again with different h_t\n",
    "\n",
    "Pauli-4 TFIM data. Datafile is named \"numpy_POVM_data.npz\""
   ]
  },
  {
   "cell_type": "code",
   "execution_count": 51,
   "metadata": {},
   "outputs": [
    {
     "name": "stdout",
     "output_type": "stream",
     "text": [
      "cpu\n"
     ]
    }
   ],
   "source": [
    "device = torch.device(\"cuda:0\" if torch.cuda.device_count() != 0 else \"cpu\")\n",
    "print(device)\n",
    "\n",
    "n_qubits = 50\n",
    "n_outcomes =4\n",
    "batchSize =50\n",
    "hidden_size = 100\n",
    "num_gru_layers = 2\n",
    "num_epochs = 50\n",
    "log_interval = 50\n",
    "loss_by_step = True\n",
    "lr = 0.0001"
   ]
  },
  {
   "cell_type": "code",
   "execution_count": 23,
   "metadata": {
    "collapsed": true
   },
   "outputs": [],
   "source": [
    "\n",
    "\n",
    "data_array = np.load('data/TFIM_training_data.npz')['data']\n",
    "log_probs = np.load('data/TFIM_logprobs.npz')['probs']\n",
    "#print(data_array.shape)"
   ]
  },
  {
   "cell_type": "code",
   "execution_count": null,
   "metadata": {
    "collapsed": true
   },
   "outputs": [],
   "source": [
    "print(data_array.shape, log_probs[:10])"
   ]
  },
  {
   "cell_type": "code",
   "execution_count": 28,
   "metadata": {
    "collapsed": true,
    "scrolled": true
   },
   "outputs": [],
   "source": [
    "# NOW THE DATA IS OF THE SHAPE [n_samples x n_qubits x n_outcomes]\n",
    "\n",
    "reshaped_array = np.empty((data_array.shape[0], 50, 4))\n",
    "for i in range(data_array.shape[0]):\n",
    "    reshaped_array[i] = data_array[i].reshape((50,4))\n"
   ]
  },
  {
   "cell_type": "code",
   "execution_count": 52,
   "metadata": {},
   "outputs": [
    {
     "name": "stdout",
     "output_type": "stream",
     "text": [
      "<torch.utils.data.dataloader.DataLoader object at 0x111ef01d0>\n"
     ]
    }
   ],
   "source": [
    "# I LOAD THE DATA INTO A PYTORCH DATALOADER CLASS\n",
    "\n",
    "tensor_array_train = torch.stack([torch.Tensor(i).double() for i in reshaped_array[:50000]])\n",
    "tensor_data_train = torch.utils.data.TensorDataset(tensor_array_train)\n",
    "tensor_array_test = torch.stack([torch.Tensor(i).double() for i in reshaped_array[50000:100000]])\n",
    "tensor_data_test = torch.utils.data.TensorDataset(tensor_array_test)\n",
    "\n",
    "train_loader = torch.utils.data.DataLoader(tensor_data_train, batch_size=batchSize, num_workers=1)\n",
    "test_loader = torch.utils.data.DataLoader(tensor_data_test, batch_size = batchSize, num_workers = 1)\n",
    "print(train_loader)"
   ]
  },
  {
   "cell_type": "code",
   "execution_count": 61,
   "metadata": {
    "collapsed": true
   },
   "outputs": [],
   "source": [
    "# I BUILD THE MODEL, WITH FUNCTIONS FOR INITIALIZING THE HIDDEN STATE AND THE INITIAL X\n",
    "class RNN(nn.Module):\n",
    "    def __init__(self, hidden_size):\n",
    "        super(RNN, self).__init__()\n",
    "        self.hidden_size = hidden_size\n",
    "        self.num_layers = num_gru_layers\n",
    "        self.steps = n_qubits\n",
    "        self.n_outcomes = n_outcomes\n",
    "        self.loss_by_step = loss_by_step\n",
    "        self.batchSize = batchSize\n",
    "\n",
    "        \n",
    "        self.rnn = nn.GRU(n_outcomes, hidden_size, num_layers=self.num_layers, dropout=0.01)\n",
    "        self.outcome = nn.Linear(hidden_size, n_outcomes)\n",
    "        #self.outcome2 = nn.Linear(hidden_size // 2, n_outcomes)\n",
    "        self.CE = nn.CrossEntropyLoss()\n",
    "        \n",
    "        \n",
    "    \n",
    "    def initHidden(self):\n",
    "        \n",
    "        '''\n",
    "        must be shape \n",
    "        [self.num_layers * num_directions (1 in this case), batchSize, hidden_size]\n",
    "        '''\n",
    "        return torch.zeros(1*self.num_layers, batchSize, self.hidden_size).to(device).double()\n",
    "    \n",
    "    def initX(self):\n",
    "        '''\n",
    "        must be shape \n",
    "        [(1 step), batchSize, hidden_size]\n",
    "        '''\n",
    "        return torch.zeros(1, batchSize, self.n_outcomes).to(device).double()\n",
    "    \n",
    "\n",
    "    def step(self, input, hidden):\n",
    "        \n",
    "        output, hidden = self.rnn(input, hidden)\n",
    "        for_prediction = output.squeeze(0).to(device)\n",
    "        outcome_prob = F.softmax(self.outcome(for_prediction), dim = 1)\n",
    "        return output, hidden, outcome_prob\n",
    "\n",
    "    \n",
    "    def forward(self, inputs, hidden=None,  steps=50):\n",
    "        \n",
    "        '''\n",
    "        must be shape\n",
    "        input: [length_sequence (n_qubits), batchSize, num_features (n_outcomes)]\n",
    "        hidden: [num_layers * num_directions, batchSize, hidden_size]'''\n",
    "        \n",
    "        if steps == 0: steps = len(inputs)\n",
    "        outputs = torch.ones(steps, batchSize, hidden_size).double().to(device)\n",
    "        outcome_probs = torch.ones(steps, batchSize, n_outcomes).double().to(device)\n",
    "        #losses = torch.tensor(1).double().to(device)\n",
    "        losses = torch.zeros(steps, batchSize)\n",
    "\n",
    "        for i in range(steps):\n",
    "            if  i == 0:\n",
    "                hidden = self.initHidden()\n",
    "                input = self.initX()\n",
    "                inputX = input\n",
    "                targets = torch.argmax(inputs[i],dim=1)\n",
    "                \n",
    "            else:\n",
    "                input = inputs[i-1,:,:].unsqueeze(0)\n",
    "                targets = torch.argmax(inputs[i],dim=1)\n",
    "                \n",
    "\n",
    "                \n",
    "            output, hidden, outcome = self.step(input, hidden)\n",
    "\n",
    "            if self.loss_by_step == True:\n",
    "                #loss_i = self.CE(outcome, targets.long())\n",
    "                #loss_i = self.step_loss(targets, outcome)\n",
    "                loss_i = self.myCrossEntropyLoss(outcome, targets)\n",
    "                losses[i,:] = loss_i\n",
    "            outputs[i] = output\n",
    "            outcome_probs[i] = outcome\n",
    "            \n",
    "        if loss_by_step == False:\n",
    "            losses = self.loss_overall(inputs, outcome_probs)\n",
    "            \n",
    "        loss = torch.sum(losses)\n",
    "        return outputs, hidden, outcome_probs, loss, inputX\n",
    "       \n",
    "\n",
    "    def myCrossEntropyLoss(self, outputs, labels):\n",
    "        batch_size = outputs.size()[0]            # batch_size\n",
    "        outputs = torch.log(outputs)   # compute the log of softmax values\n",
    "        outputs = outputs[range(batch_size), labels] # pick the values corresponding to the labels\n",
    "        #print(outputs.shape)\n",
    "        return -torch.sum(outputs)/batch_size\n",
    "    \n",
    "    \n",
    "    def sample(self):\n",
    "    \n",
    "        #initialize hidden as in model\n",
    "        hidden = self.initHidden()\n",
    "        inputX = self.initX()\n",
    "        \n",
    "        # one hot encoded for each qubit\n",
    "        samples = torch.zeros(self.steps, self.batchSize, self.n_outcomes)\n",
    "        probs = torch.zeros(self.batchSize)\n",
    "\n",
    "        #go through all qubits\n",
    "        for i in range(self.steps):\n",
    "\n",
    "            #initialize for one-hot encoding, qubit_i_samples will be a class chosen for each batch entry based on probabilities\n",
    "            # batchSize number of samples for ith qubit\n",
    "            qubit_i_samples = torch.zeros(self.batchSize)\n",
    "            if i == 0:\n",
    "                output, hidden, outcome = self.step(inputX, hidden)\n",
    "                qubit_i_probs = outcome.to('cpu').data.numpy()\n",
    "            elif i > 0:\n",
    "                output, hidden, outcome = self.step(input.unsqueeze(0).to(device).double(), hidden)\n",
    "                qubit_i_probs = outcome.to('cpu').data.numpy()\n",
    "\n",
    "            for batch_entry in range(self.batchSize):\n",
    "\n",
    "                qubit_i_samples[batch_entry] = torch.from_numpy(np.random.choice([0,1,2,3], size = 1, p=qubit_i_probs[batch_entry]))\n",
    "\n",
    "            #make the one-hot samples, use to feed as next input\n",
    "            samples[i][torch.arange(qubit_i_samples.shape[0]).long(), qubit_i_samples.long()] = 1\n",
    "            input = samples[i]\n",
    "\n",
    "        return samples\n",
    "    \n",
    "    \n",
    "    \n",
    "    \n",
    "    def step_loss(self, real_outcomes, predicted_outcomes, ce = True):\n",
    "    \n",
    "        if ce is True:\n",
    "            loss = F.cross_entropy(predicted_outcomes, real_outcomes.long(), size_average=False)\n",
    "        else:\n",
    "            one_hot_Trueoutcomes = torch.zeros((real_outcomes.shape[0], real_outcomes.max()+1))\n",
    "            one_hot_Trueoutcomes[torch.arange(real_outcomes.shape[0]).long(),real_outcomes.long()] = 1\n",
    "            loss = F.mse_loss(one_hot_Trueoutcomes.to(device).double(), predicted_outcomes, size_average=False)\n",
    "        return loss\n",
    "\n",
    "#     def loss_overall(self, real_outcomes, predicted_outcomes, ce = True):\n",
    "    \n",
    "#         if ce is True:\n",
    "#            # CE = F.cross_entropy(real_outcomes[1:], predicted_outcomes[:-1], size_average=False)\n",
    "#             real_outcomes_1 = real_outcomes.view(batchSize*self.steps,4)\n",
    "#             target_labels = torch.argmax(real_outcomes_1,dim=1).long()\n",
    "#             predictions = predicted_outcomes.view(batchSize*self.steps,4)\n",
    "            \n",
    "#             # take cross entropy between the output prediction and the true target label.\n",
    "#             loss = F.cross_entropy(predictions, target_labels, size_average=False)\n",
    "#         else:\n",
    "#             loss = F.mse_loss(real_outcomes, predicted_outcomes, size_average=False)\n",
    "\n",
    "#         return loss\n",
    "    \n",
    "    \n",
    "    \n",
    "\n",
    "    \n",
    "model = RNN(hidden_size).to(device).double()\n",
    "optimizer = optim.Adam(model.parameters(), lr=lr)\n",
    "    \n",
    "    "
   ]
  },
  {
   "cell_type": "code",
   "execution_count": 62,
   "metadata": {
    "scrolled": true
   },
   "outputs": [
    {
     "name": "stdout",
     "output_type": "stream",
     "text": [
      "Train Epoch: 1 [0/50000 (0%)]\tLoss: 67.314175\n",
      "Train Epoch: 1 [2500/50000 (5%)]\tLoss: 58.401528\n",
      "Train Epoch: 1 [5000/50000 (10%)]\tLoss: 53.613506\n",
      "Train Epoch: 1 [7500/50000 (15%)]\tLoss: 53.299243\n",
      "Train Epoch: 1 [10000/50000 (20%)]\tLoss: 54.197041\n",
      "Train Epoch: 1 [12500/50000 (25%)]\tLoss: 53.478223\n",
      "Train Epoch: 1 [15000/50000 (30%)]\tLoss: 53.125913\n",
      "Train Epoch: 1 [17500/50000 (35%)]\tLoss: 52.095884\n",
      "Train Epoch: 1 [20000/50000 (40%)]\tLoss: 54.508584\n",
      "Train Epoch: 1 [22500/50000 (45%)]\tLoss: 53.918032\n",
      "Train Epoch: 1 [25000/50000 (50%)]\tLoss: 52.051968\n",
      "Train Epoch: 1 [27500/50000 (55%)]\tLoss: 53.467480\n",
      "Train Epoch: 1 [30000/50000 (60%)]\tLoss: 52.770684\n",
      "Train Epoch: 1 [32500/50000 (65%)]\tLoss: 53.372427\n",
      "Train Epoch: 1 [35000/50000 (70%)]\tLoss: 54.084663\n",
      "Train Epoch: 1 [37500/50000 (75%)]\tLoss: 52.315718\n",
      "Train Epoch: 1 [40000/50000 (80%)]\tLoss: 51.353467\n",
      "Train Epoch: 1 [42500/50000 (85%)]\tLoss: 53.728120\n",
      "Train Epoch: 1 [45000/50000 (90%)]\tLoss: 52.024243\n",
      "Train Epoch: 1 [47500/50000 (95%)]\tLoss: 52.160166\n",
      "====> Epoch: 1 Average loss: 53.5460\n",
      "Train Epoch: 2 [0/50000 (0%)]\tLoss: 51.156006\n",
      "Train Epoch: 2 [2500/50000 (5%)]\tLoss: 52.742002\n",
      "Train Epoch: 2 [5000/50000 (10%)]\tLoss: 52.097329\n",
      "Train Epoch: 2 [7500/50000 (15%)]\tLoss: 51.697461\n",
      "Train Epoch: 2 [10000/50000 (20%)]\tLoss: 52.310020\n",
      "Train Epoch: 2 [12500/50000 (25%)]\tLoss: 52.126162\n",
      "Train Epoch: 2 [15000/50000 (30%)]\tLoss: 51.131704\n",
      "Train Epoch: 2 [17500/50000 (35%)]\tLoss: 50.717471\n",
      "Train Epoch: 2 [20000/50000 (40%)]\tLoss: 52.611807\n",
      "Train Epoch: 2 [22500/50000 (45%)]\tLoss: 52.428999\n",
      "Train Epoch: 2 [25000/50000 (50%)]\tLoss: 50.645981\n",
      "Train Epoch: 2 [27500/50000 (55%)]\tLoss: 52.097744\n",
      "Train Epoch: 2 [30000/50000 (60%)]\tLoss: 51.369502\n",
      "Train Epoch: 2 [32500/50000 (65%)]\tLoss: 52.094297\n",
      "Train Epoch: 2 [35000/50000 (70%)]\tLoss: 53.126045\n"
     ]
    },
    {
     "name": "stderr",
     "output_type": "stream",
     "text": [
      "Process Process-121:\n",
      "Process Process-105:\n",
      "Traceback (most recent call last):\n",
      "Traceback (most recent call last):\n",
      "  File \"/Users/Mike_Laptop/anaconda/envs/pytorch04/lib/python3.7/multiprocessing/process.py\", line 297, in _bootstrap\n",
      "    self.run()\n",
      "  File \"/Users/Mike_Laptop/anaconda/envs/pytorch04/lib/python3.7/multiprocessing/process.py\", line 297, in _bootstrap\n",
      "    self.run()\n",
      "  File \"/Users/Mike_Laptop/anaconda/envs/pytorch04/lib/python3.7/multiprocessing/process.py\", line 99, in run\n",
      "    self._target(*self._args, **self._kwargs)\n",
      "  File \"/Users/Mike_Laptop/anaconda/envs/pytorch04/lib/python3.7/multiprocessing/process.py\", line 99, in run\n",
      "    self._target(*self._args, **self._kwargs)\n",
      "  File \"/Users/Mike_Laptop/anaconda/envs/pytorch04/lib/python3.7/site-packages/torch/utils/data/dataloader.py\", line 96, in _worker_loop\n",
      "    r = index_queue.get(timeout=MANAGER_STATUS_CHECK_INTERVAL)\n",
      "  File \"/Users/Mike_Laptop/anaconda/envs/pytorch04/lib/python3.7/site-packages/torch/utils/data/dataloader.py\", line 96, in _worker_loop\n",
      "    r = index_queue.get(timeout=MANAGER_STATUS_CHECK_INTERVAL)\n",
      "  File \"/Users/Mike_Laptop/anaconda/envs/pytorch04/lib/python3.7/multiprocessing/queues.py\", line 104, in get\n",
      "    if not self._poll(timeout):\n",
      "  File \"/Users/Mike_Laptop/anaconda/envs/pytorch04/lib/python3.7/multiprocessing/queues.py\", line 104, in get\n",
      "    if not self._poll(timeout):\n",
      "  File \"/Users/Mike_Laptop/anaconda/envs/pytorch04/lib/python3.7/multiprocessing/connection.py\", line 257, in poll\n",
      "    return self._poll(timeout)\n",
      "  File \"/Users/Mike_Laptop/anaconda/envs/pytorch04/lib/python3.7/multiprocessing/connection.py\", line 257, in poll\n",
      "    return self._poll(timeout)\n",
      "  File \"/Users/Mike_Laptop/anaconda/envs/pytorch04/lib/python3.7/multiprocessing/connection.py\", line 414, in _poll\n",
      "    r = wait([self], timeout)\n",
      "  File \"/Users/Mike_Laptop/anaconda/envs/pytorch04/lib/python3.7/multiprocessing/connection.py\", line 414, in _poll\n",
      "    r = wait([self], timeout)\n",
      "  File \"/Users/Mike_Laptop/anaconda/envs/pytorch04/lib/python3.7/multiprocessing/connection.py\", line 920, in wait\n",
      "    ready = selector.select(timeout)\n",
      "  File \"/Users/Mike_Laptop/anaconda/envs/pytorch04/lib/python3.7/multiprocessing/connection.py\", line 920, in wait\n",
      "    ready = selector.select(timeout)\n",
      "  File \"/Users/Mike_Laptop/anaconda/envs/pytorch04/lib/python3.7/selectors.py\", line 415, in select\n",
      "    fd_event_list = self._selector.poll(timeout)\n",
      "  File \"/Users/Mike_Laptop/anaconda/envs/pytorch04/lib/python3.7/selectors.py\", line 415, in select\n",
      "    fd_event_list = self._selector.poll(timeout)\n",
      "KeyboardInterrupt\n",
      "KeyboardInterrupt\n",
      "Exception ignored in: <function _DataLoaderIter.__del__ at 0x11c63bae8>\n",
      "Traceback (most recent call last):\n",
      "  File \"/Users/Mike_Laptop/anaconda/envs/pytorch04/lib/python3.7/site-packages/torch/utils/data/dataloader.py\", line 399, in __del__\n",
      "    self._shutdown_workers()\n",
      "  File \"/Users/Mike_Laptop/anaconda/envs/pytorch04/lib/python3.7/site-packages/torch/utils/data/dataloader.py\", line 378, in _shutdown_workers\n",
      "    self.worker_result_queue.get()\n",
      "  File \"/Users/Mike_Laptop/anaconda/envs/pytorch04/lib/python3.7/multiprocessing/queues.py\", line 354, in get\n",
      "    return _ForkingPickler.loads(res)\n",
      "  File \"/Users/Mike_Laptop/anaconda/envs/pytorch04/lib/python3.7/site-packages/torch/multiprocessing/reductions.py\", line 43, in rebuild_tensor\n",
      "    return torch._utils._rebuild_tensor(storage, storage_offset, size, stride)\n",
      "  File \"/Users/Mike_Laptop/anaconda/envs/pytorch04/lib/python3.7/site-packages/torch/_utils.py\", line 94, in _rebuild_tensor\n",
      "    return tensor_class().set_(storage, storage_offset, size, stride)\n",
      "  File \"/Users/Mike_Laptop/anaconda/envs/pytorch04/lib/python3.7/site-packages/torch/utils/data/dataloader.py\", line 227, in handler\n",
      "    _error_if_any_worker_fails()\n",
      "RuntimeError: DataLoader worker (pid 10954) exited unexpectedly with exit code 1. Details are lost due to multiprocessing. Rerunning with num_workers=0 may give better error trace.\n"
     ]
    },
    {
     "ename": "KeyboardInterrupt",
     "evalue": "",
     "output_type": "error",
     "traceback": [
      "\u001b[0;31m---------------------------------------------------------------------------\u001b[0m",
      "\u001b[0;31mKeyboardInterrupt\u001b[0m                         Traceback (most recent call last)",
      "\u001b[0;32m<ipython-input-62-33eaff8fae71>\u001b[0m in \u001b[0;36m<module>\u001b[0;34m()\u001b[0m\n\u001b[1;32m     17\u001b[0m         \u001b[0moptimizer\u001b[0m\u001b[0;34m.\u001b[0m\u001b[0mstep\u001b[0m\u001b[0;34m(\u001b[0m\u001b[0;34m)\u001b[0m\u001b[0;34m\u001b[0m\u001b[0m\n\u001b[1;32m     18\u001b[0m         \u001b[0;32mif\u001b[0m \u001b[0mbatch_idx\u001b[0m \u001b[0;34m%\u001b[0m \u001b[0mlog_interval\u001b[0m \u001b[0;34m==\u001b[0m \u001b[0;36m0\u001b[0m\u001b[0;34m:\u001b[0m\u001b[0;34m\u001b[0m\u001b[0m\n\u001b[0;32m---> 19\u001b[0;31m             \u001b[0mKL\u001b[0m\u001b[0;34m,\u001b[0m \u001b[0mfidelity\u001b[0m \u001b[0;34m=\u001b[0m \u001b[0mcompute_KL\u001b[0m\u001b[0;34m(\u001b[0m\u001b[0mmodel\u001b[0m\u001b[0;34m)\u001b[0m\u001b[0;34m\u001b[0m\u001b[0m\n\u001b[0m\u001b[1;32m     20\u001b[0m \u001b[0;34m\u001b[0m\u001b[0m\n\u001b[1;32m     21\u001b[0m             \u001b[0mKLs\u001b[0m\u001b[0;34m.\u001b[0m\u001b[0mappend\u001b[0m\u001b[0;34m(\u001b[0m\u001b[0mKL\u001b[0m\u001b[0;34m)\u001b[0m\u001b[0;34m\u001b[0m\u001b[0m\n",
      "\u001b[0;32m<ipython-input-50-4ff013f4c64f>\u001b[0m in \u001b[0;36mcompute_KL\u001b[0;34m(model, real_data, logPs, num_samples, num_layers)\u001b[0m\n\u001b[1;32m      6\u001b[0m         \u001b[0mdata\u001b[0m \u001b[0;34m=\u001b[0m \u001b[0mdata\u001b[0m\u001b[0;34m[\u001b[0m\u001b[0;36m0\u001b[0m\u001b[0;34m]\u001b[0m\u001b[0;34m.\u001b[0m\u001b[0mto\u001b[0m\u001b[0;34m(\u001b[0m\u001b[0mdevice\u001b[0m\u001b[0;34m)\u001b[0m\u001b[0;34m.\u001b[0m\u001b[0mpermute\u001b[0m\u001b[0;34m(\u001b[0m\u001b[0;36m1\u001b[0m\u001b[0;34m,\u001b[0m\u001b[0;36m0\u001b[0m\u001b[0;34m,\u001b[0m\u001b[0;36m2\u001b[0m\u001b[0;34m)\u001b[0m\u001b[0;34m\u001b[0m\u001b[0m\n\u001b[1;32m      7\u001b[0m \u001b[0;34m\u001b[0m\u001b[0m\n\u001b[0;32m----> 8\u001b[0;31m         \u001b[0moutputs\u001b[0m\u001b[0;34m,\u001b[0m \u001b[0mhidden\u001b[0m\u001b[0;34m,\u001b[0m \u001b[0moutcome_probs\u001b[0m\u001b[0;34m,\u001b[0m \u001b[0mloss\u001b[0m\u001b[0;34m,\u001b[0m \u001b[0minputX\u001b[0m \u001b[0;34m=\u001b[0m \u001b[0mmodel\u001b[0m\u001b[0;34m(\u001b[0m\u001b[0mdata\u001b[0m\u001b[0;34m)\u001b[0m\u001b[0;34m\u001b[0m\u001b[0m\n\u001b[0m\u001b[1;32m      9\u001b[0m         \u001b[0mlogq_batch\u001b[0m \u001b[0;34m=\u001b[0m \u001b[0;34m(\u001b[0m\u001b[0mtorch\u001b[0m\u001b[0;34m.\u001b[0m\u001b[0msum\u001b[0m\u001b[0;34m(\u001b[0m\u001b[0mtorch\u001b[0m\u001b[0;34m.\u001b[0m\u001b[0mlog\u001b[0m\u001b[0;34m(\u001b[0m\u001b[0mtorch\u001b[0m\u001b[0;34m.\u001b[0m\u001b[0msum\u001b[0m\u001b[0;34m(\u001b[0m\u001b[0moutcome_probs\u001b[0m \u001b[0;34m*\u001b[0m \u001b[0mdata\u001b[0m\u001b[0;34m,\u001b[0m \u001b[0mdim\u001b[0m\u001b[0;34m=\u001b[0m\u001b[0;36m2\u001b[0m\u001b[0;34m)\u001b[0m\u001b[0;34m)\u001b[0m\u001b[0;34m,\u001b[0m \u001b[0mdim\u001b[0m\u001b[0;34m=\u001b[0m\u001b[0;36m0\u001b[0m\u001b[0;34m)\u001b[0m\u001b[0;34m)\u001b[0m\u001b[0;34m\u001b[0m\u001b[0m\n\u001b[1;32m     10\u001b[0m         \u001b[0mKL\u001b[0m \u001b[0;34m+=\u001b[0m \u001b[0mnp\u001b[0m\u001b[0;34m.\u001b[0m\u001b[0msum\u001b[0m\u001b[0;34m(\u001b[0m\u001b[0mlogPs\u001b[0m\u001b[0;34m[\u001b[0m\u001b[0;34m(\u001b[0m\u001b[0mbatch_idx\u001b[0m\u001b[0;34m*\u001b[0m\u001b[0mbatchSize\u001b[0m\u001b[0;34m)\u001b[0m\u001b[0;34m:\u001b[0m\u001b[0;34m(\u001b[0m\u001b[0mbatch_idx\u001b[0m\u001b[0;34m*\u001b[0m\u001b[0mbatchSize\u001b[0m \u001b[0;34m+\u001b[0m \u001b[0mbatchSize\u001b[0m\u001b[0;34m)\u001b[0m\u001b[0;34m]\u001b[0m \u001b[0;34m-\u001b[0m \u001b[0mlogq_batch\u001b[0m\u001b[0;34m.\u001b[0m\u001b[0mcpu\u001b[0m\u001b[0;34m(\u001b[0m\u001b[0;34m)\u001b[0m\u001b[0;34m.\u001b[0m\u001b[0mdata\u001b[0m\u001b[0;34m.\u001b[0m\u001b[0mnumpy\u001b[0m\u001b[0;34m(\u001b[0m\u001b[0;34m)\u001b[0m\u001b[0;34m)\u001b[0m\u001b[0;34m\u001b[0m\u001b[0m\n",
      "\u001b[0;32m~/anaconda/envs/pytorch04/lib/python3.7/site-packages/torch/nn/modules/module.py\u001b[0m in \u001b[0;36m__call__\u001b[0;34m(self, *input, **kwargs)\u001b[0m\n\u001b[1;32m    475\u001b[0m             \u001b[0mresult\u001b[0m \u001b[0;34m=\u001b[0m \u001b[0mself\u001b[0m\u001b[0;34m.\u001b[0m\u001b[0m_slow_forward\u001b[0m\u001b[0;34m(\u001b[0m\u001b[0;34m*\u001b[0m\u001b[0minput\u001b[0m\u001b[0;34m,\u001b[0m \u001b[0;34m**\u001b[0m\u001b[0mkwargs\u001b[0m\u001b[0;34m)\u001b[0m\u001b[0;34m\u001b[0m\u001b[0m\n\u001b[1;32m    476\u001b[0m         \u001b[0;32melse\u001b[0m\u001b[0;34m:\u001b[0m\u001b[0;34m\u001b[0m\u001b[0m\n\u001b[0;32m--> 477\u001b[0;31m             \u001b[0mresult\u001b[0m \u001b[0;34m=\u001b[0m \u001b[0mself\u001b[0m\u001b[0;34m.\u001b[0m\u001b[0mforward\u001b[0m\u001b[0;34m(\u001b[0m\u001b[0;34m*\u001b[0m\u001b[0minput\u001b[0m\u001b[0;34m,\u001b[0m \u001b[0;34m**\u001b[0m\u001b[0mkwargs\u001b[0m\u001b[0;34m)\u001b[0m\u001b[0;34m\u001b[0m\u001b[0m\n\u001b[0m\u001b[1;32m    478\u001b[0m         \u001b[0;32mfor\u001b[0m \u001b[0mhook\u001b[0m \u001b[0;32min\u001b[0m \u001b[0mself\u001b[0m\u001b[0;34m.\u001b[0m\u001b[0m_forward_hooks\u001b[0m\u001b[0;34m.\u001b[0m\u001b[0mvalues\u001b[0m\u001b[0;34m(\u001b[0m\u001b[0;34m)\u001b[0m\u001b[0;34m:\u001b[0m\u001b[0;34m\u001b[0m\u001b[0m\n\u001b[1;32m    479\u001b[0m             \u001b[0mhook_result\u001b[0m \u001b[0;34m=\u001b[0m \u001b[0mhook\u001b[0m\u001b[0;34m(\u001b[0m\u001b[0mself\u001b[0m\u001b[0;34m,\u001b[0m \u001b[0minput\u001b[0m\u001b[0;34m,\u001b[0m \u001b[0mresult\u001b[0m\u001b[0;34m)\u001b[0m\u001b[0;34m\u001b[0m\u001b[0m\n",
      "\u001b[0;32m<ipython-input-61-a0cf435dd111>\u001b[0m in \u001b[0;36mforward\u001b[0;34m(self, inputs, hidden, steps)\u001b[0m\n\u001b[1;32m     68\u001b[0m \u001b[0;34m\u001b[0m\u001b[0m\n\u001b[1;32m     69\u001b[0m \u001b[0;34m\u001b[0m\u001b[0m\n\u001b[0;32m---> 70\u001b[0;31m             \u001b[0moutput\u001b[0m\u001b[0;34m,\u001b[0m \u001b[0mhidden\u001b[0m\u001b[0;34m,\u001b[0m \u001b[0moutcome\u001b[0m \u001b[0;34m=\u001b[0m \u001b[0mself\u001b[0m\u001b[0;34m.\u001b[0m\u001b[0mstep\u001b[0m\u001b[0;34m(\u001b[0m\u001b[0minput\u001b[0m\u001b[0;34m,\u001b[0m \u001b[0mhidden\u001b[0m\u001b[0;34m)\u001b[0m\u001b[0;34m\u001b[0m\u001b[0m\n\u001b[0m\u001b[1;32m     71\u001b[0m \u001b[0;34m\u001b[0m\u001b[0m\n\u001b[1;32m     72\u001b[0m             \u001b[0;32mif\u001b[0m \u001b[0mself\u001b[0m\u001b[0;34m.\u001b[0m\u001b[0mloss_by_step\u001b[0m \u001b[0;34m==\u001b[0m \u001b[0;32mTrue\u001b[0m\u001b[0;34m:\u001b[0m\u001b[0;34m\u001b[0m\u001b[0m\n",
      "\u001b[0;32m<ipython-input-61-a0cf435dd111>\u001b[0m in \u001b[0;36mstep\u001b[0;34m(self, input, hidden)\u001b[0m\n\u001b[1;32m     36\u001b[0m     \u001b[0;32mdef\u001b[0m \u001b[0mstep\u001b[0m\u001b[0;34m(\u001b[0m\u001b[0mself\u001b[0m\u001b[0;34m,\u001b[0m \u001b[0minput\u001b[0m\u001b[0;34m,\u001b[0m \u001b[0mhidden\u001b[0m\u001b[0;34m)\u001b[0m\u001b[0;34m:\u001b[0m\u001b[0;34m\u001b[0m\u001b[0m\n\u001b[1;32m     37\u001b[0m \u001b[0;34m\u001b[0m\u001b[0m\n\u001b[0;32m---> 38\u001b[0;31m         \u001b[0moutput\u001b[0m\u001b[0;34m,\u001b[0m \u001b[0mhidden\u001b[0m \u001b[0;34m=\u001b[0m \u001b[0mself\u001b[0m\u001b[0;34m.\u001b[0m\u001b[0mrnn\u001b[0m\u001b[0;34m(\u001b[0m\u001b[0minput\u001b[0m\u001b[0;34m,\u001b[0m \u001b[0mhidden\u001b[0m\u001b[0;34m)\u001b[0m\u001b[0;34m\u001b[0m\u001b[0m\n\u001b[0m\u001b[1;32m     39\u001b[0m         \u001b[0mfor_prediction\u001b[0m \u001b[0;34m=\u001b[0m \u001b[0moutput\u001b[0m\u001b[0;34m.\u001b[0m\u001b[0msqueeze\u001b[0m\u001b[0;34m(\u001b[0m\u001b[0;36m0\u001b[0m\u001b[0;34m)\u001b[0m\u001b[0;34m.\u001b[0m\u001b[0mto\u001b[0m\u001b[0;34m(\u001b[0m\u001b[0mdevice\u001b[0m\u001b[0;34m)\u001b[0m\u001b[0;34m\u001b[0m\u001b[0m\n\u001b[1;32m     40\u001b[0m         \u001b[0moutcome_prob\u001b[0m \u001b[0;34m=\u001b[0m \u001b[0mF\u001b[0m\u001b[0;34m.\u001b[0m\u001b[0msoftmax\u001b[0m\u001b[0;34m(\u001b[0m\u001b[0mself\u001b[0m\u001b[0;34m.\u001b[0m\u001b[0moutcome\u001b[0m\u001b[0;34m(\u001b[0m\u001b[0mfor_prediction\u001b[0m\u001b[0;34m)\u001b[0m\u001b[0;34m,\u001b[0m \u001b[0mdim\u001b[0m \u001b[0;34m=\u001b[0m \u001b[0;36m1\u001b[0m\u001b[0;34m)\u001b[0m\u001b[0;34m\u001b[0m\u001b[0m\n",
      "\u001b[0;32m~/anaconda/envs/pytorch04/lib/python3.7/site-packages/torch/nn/modules/module.py\u001b[0m in \u001b[0;36m__call__\u001b[0;34m(self, *input, **kwargs)\u001b[0m\n\u001b[1;32m    475\u001b[0m             \u001b[0mresult\u001b[0m \u001b[0;34m=\u001b[0m \u001b[0mself\u001b[0m\u001b[0;34m.\u001b[0m\u001b[0m_slow_forward\u001b[0m\u001b[0;34m(\u001b[0m\u001b[0;34m*\u001b[0m\u001b[0minput\u001b[0m\u001b[0;34m,\u001b[0m \u001b[0;34m**\u001b[0m\u001b[0mkwargs\u001b[0m\u001b[0;34m)\u001b[0m\u001b[0;34m\u001b[0m\u001b[0m\n\u001b[1;32m    476\u001b[0m         \u001b[0;32melse\u001b[0m\u001b[0;34m:\u001b[0m\u001b[0;34m\u001b[0m\u001b[0m\n\u001b[0;32m--> 477\u001b[0;31m             \u001b[0mresult\u001b[0m \u001b[0;34m=\u001b[0m \u001b[0mself\u001b[0m\u001b[0;34m.\u001b[0m\u001b[0mforward\u001b[0m\u001b[0;34m(\u001b[0m\u001b[0;34m*\u001b[0m\u001b[0minput\u001b[0m\u001b[0;34m,\u001b[0m \u001b[0;34m**\u001b[0m\u001b[0mkwargs\u001b[0m\u001b[0;34m)\u001b[0m\u001b[0;34m\u001b[0m\u001b[0m\n\u001b[0m\u001b[1;32m    478\u001b[0m         \u001b[0;32mfor\u001b[0m \u001b[0mhook\u001b[0m \u001b[0;32min\u001b[0m \u001b[0mself\u001b[0m\u001b[0;34m.\u001b[0m\u001b[0m_forward_hooks\u001b[0m\u001b[0;34m.\u001b[0m\u001b[0mvalues\u001b[0m\u001b[0;34m(\u001b[0m\u001b[0;34m)\u001b[0m\u001b[0;34m:\u001b[0m\u001b[0;34m\u001b[0m\u001b[0m\n\u001b[1;32m    479\u001b[0m             \u001b[0mhook_result\u001b[0m \u001b[0;34m=\u001b[0m \u001b[0mhook\u001b[0m\u001b[0;34m(\u001b[0m\u001b[0mself\u001b[0m\u001b[0;34m,\u001b[0m \u001b[0minput\u001b[0m\u001b[0;34m,\u001b[0m \u001b[0mresult\u001b[0m\u001b[0;34m)\u001b[0m\u001b[0;34m\u001b[0m\u001b[0m\n",
      "\u001b[0;32m~/anaconda/envs/pytorch04/lib/python3.7/site-packages/torch/nn/modules/rnn.py\u001b[0m in \u001b[0;36mforward\u001b[0;34m(self, input, hx)\u001b[0m\n\u001b[1;32m    190\u001b[0m             \u001b[0mflat_weight\u001b[0m\u001b[0;34m=\u001b[0m\u001b[0mflat_weight\u001b[0m\u001b[0;34m\u001b[0m\u001b[0m\n\u001b[1;32m    191\u001b[0m         )\n\u001b[0;32m--> 192\u001b[0;31m         \u001b[0moutput\u001b[0m\u001b[0;34m,\u001b[0m \u001b[0mhidden\u001b[0m \u001b[0;34m=\u001b[0m \u001b[0mfunc\u001b[0m\u001b[0;34m(\u001b[0m\u001b[0minput\u001b[0m\u001b[0;34m,\u001b[0m \u001b[0mself\u001b[0m\u001b[0;34m.\u001b[0m\u001b[0mall_weights\u001b[0m\u001b[0;34m,\u001b[0m \u001b[0mhx\u001b[0m\u001b[0;34m,\u001b[0m \u001b[0mbatch_sizes\u001b[0m\u001b[0;34m)\u001b[0m\u001b[0;34m\u001b[0m\u001b[0m\n\u001b[0m\u001b[1;32m    193\u001b[0m         \u001b[0;32mif\u001b[0m \u001b[0mis_packed\u001b[0m\u001b[0;34m:\u001b[0m\u001b[0;34m\u001b[0m\u001b[0m\n\u001b[1;32m    194\u001b[0m             \u001b[0moutput\u001b[0m \u001b[0;34m=\u001b[0m \u001b[0mPackedSequence\u001b[0m\u001b[0;34m(\u001b[0m\u001b[0moutput\u001b[0m\u001b[0;34m,\u001b[0m \u001b[0mbatch_sizes\u001b[0m\u001b[0;34m)\u001b[0m\u001b[0;34m\u001b[0m\u001b[0m\n",
      "\u001b[0;32m~/anaconda/envs/pytorch04/lib/python3.7/site-packages/torch/nn/_functions/rnn.py\u001b[0m in \u001b[0;36mforward\u001b[0;34m(input, *fargs, **fkwargs)\u001b[0m\n\u001b[1;32m    322\u001b[0m             \u001b[0mfunc\u001b[0m \u001b[0;34m=\u001b[0m \u001b[0mdecorator\u001b[0m\u001b[0;34m(\u001b[0m\u001b[0mfunc\u001b[0m\u001b[0;34m)\u001b[0m\u001b[0;34m\u001b[0m\u001b[0m\n\u001b[1;32m    323\u001b[0m \u001b[0;34m\u001b[0m\u001b[0m\n\u001b[0;32m--> 324\u001b[0;31m         \u001b[0;32mreturn\u001b[0m \u001b[0mfunc\u001b[0m\u001b[0;34m(\u001b[0m\u001b[0minput\u001b[0m\u001b[0;34m,\u001b[0m \u001b[0;34m*\u001b[0m\u001b[0mfargs\u001b[0m\u001b[0;34m,\u001b[0m \u001b[0;34m**\u001b[0m\u001b[0mfkwargs\u001b[0m\u001b[0;34m)\u001b[0m\u001b[0;34m\u001b[0m\u001b[0m\n\u001b[0m\u001b[1;32m    325\u001b[0m \u001b[0;34m\u001b[0m\u001b[0m\n\u001b[1;32m    326\u001b[0m     \u001b[0;32mreturn\u001b[0m \u001b[0mforward\u001b[0m\u001b[0;34m\u001b[0m\u001b[0m\n",
      "\u001b[0;32m~/anaconda/envs/pytorch04/lib/python3.7/site-packages/torch/nn/_functions/rnn.py\u001b[0m in \u001b[0;36mforward\u001b[0;34m(input, weight, hidden, batch_sizes)\u001b[0m\n\u001b[1;32m    242\u001b[0m             \u001b[0minput\u001b[0m \u001b[0;34m=\u001b[0m \u001b[0minput\u001b[0m\u001b[0;34m.\u001b[0m\u001b[0mtranspose\u001b[0m\u001b[0;34m(\u001b[0m\u001b[0;36m0\u001b[0m\u001b[0;34m,\u001b[0m \u001b[0;36m1\u001b[0m\u001b[0;34m)\u001b[0m\u001b[0;34m\u001b[0m\u001b[0m\n\u001b[1;32m    243\u001b[0m \u001b[0;34m\u001b[0m\u001b[0m\n\u001b[0;32m--> 244\u001b[0;31m         \u001b[0mnexth\u001b[0m\u001b[0;34m,\u001b[0m \u001b[0moutput\u001b[0m \u001b[0;34m=\u001b[0m \u001b[0mfunc\u001b[0m\u001b[0;34m(\u001b[0m\u001b[0minput\u001b[0m\u001b[0;34m,\u001b[0m \u001b[0mhidden\u001b[0m\u001b[0;34m,\u001b[0m \u001b[0mweight\u001b[0m\u001b[0;34m,\u001b[0m \u001b[0mbatch_sizes\u001b[0m\u001b[0;34m)\u001b[0m\u001b[0;34m\u001b[0m\u001b[0m\n\u001b[0m\u001b[1;32m    245\u001b[0m \u001b[0;34m\u001b[0m\u001b[0m\n\u001b[1;32m    246\u001b[0m         \u001b[0;32mif\u001b[0m \u001b[0mbatch_first\u001b[0m \u001b[0;32mand\u001b[0m \u001b[0;32mnot\u001b[0m \u001b[0mvariable_length\u001b[0m\u001b[0;34m:\u001b[0m\u001b[0;34m\u001b[0m\u001b[0m\n",
      "\u001b[0;32m~/anaconda/envs/pytorch04/lib/python3.7/site-packages/torch/nn/_functions/rnn.py\u001b[0m in \u001b[0;36mforward\u001b[0;34m(input, hidden, weight, batch_sizes)\u001b[0m\n\u001b[1;32m     85\u001b[0m                 \u001b[0ml\u001b[0m \u001b[0;34m=\u001b[0m \u001b[0mi\u001b[0m \u001b[0;34m*\u001b[0m \u001b[0mnum_directions\u001b[0m \u001b[0;34m+\u001b[0m \u001b[0mj\u001b[0m\u001b[0;34m\u001b[0m\u001b[0m\n\u001b[1;32m     86\u001b[0m \u001b[0;34m\u001b[0m\u001b[0m\n\u001b[0;32m---> 87\u001b[0;31m                 \u001b[0mhy\u001b[0m\u001b[0;34m,\u001b[0m \u001b[0moutput\u001b[0m \u001b[0;34m=\u001b[0m \u001b[0minner\u001b[0m\u001b[0;34m(\u001b[0m\u001b[0minput\u001b[0m\u001b[0;34m,\u001b[0m \u001b[0mhidden\u001b[0m\u001b[0;34m[\u001b[0m\u001b[0ml\u001b[0m\u001b[0;34m]\u001b[0m\u001b[0;34m,\u001b[0m \u001b[0mweight\u001b[0m\u001b[0;34m[\u001b[0m\u001b[0ml\u001b[0m\u001b[0;34m]\u001b[0m\u001b[0;34m,\u001b[0m \u001b[0mbatch_sizes\u001b[0m\u001b[0;34m)\u001b[0m\u001b[0;34m\u001b[0m\u001b[0m\n\u001b[0m\u001b[1;32m     88\u001b[0m                 \u001b[0mnext_hidden\u001b[0m\u001b[0;34m.\u001b[0m\u001b[0mappend\u001b[0m\u001b[0;34m(\u001b[0m\u001b[0mhy\u001b[0m\u001b[0;34m)\u001b[0m\u001b[0;34m\u001b[0m\u001b[0m\n\u001b[1;32m     89\u001b[0m                 \u001b[0mall_output\u001b[0m\u001b[0;34m.\u001b[0m\u001b[0mappend\u001b[0m\u001b[0;34m(\u001b[0m\u001b[0moutput\u001b[0m\u001b[0;34m)\u001b[0m\u001b[0;34m\u001b[0m\u001b[0m\n",
      "\u001b[0;32m~/anaconda/envs/pytorch04/lib/python3.7/site-packages/torch/nn/_functions/rnn.py\u001b[0m in \u001b[0;36mforward\u001b[0;34m(input, hidden, weight, batch_sizes)\u001b[0m\n\u001b[1;32m    114\u001b[0m         \u001b[0msteps\u001b[0m \u001b[0;34m=\u001b[0m \u001b[0mrange\u001b[0m\u001b[0;34m(\u001b[0m\u001b[0minput\u001b[0m\u001b[0;34m.\u001b[0m\u001b[0msize\u001b[0m\u001b[0;34m(\u001b[0m\u001b[0;36m0\u001b[0m\u001b[0;34m)\u001b[0m \u001b[0;34m-\u001b[0m \u001b[0;36m1\u001b[0m\u001b[0;34m,\u001b[0m \u001b[0;34m-\u001b[0m\u001b[0;36m1\u001b[0m\u001b[0;34m,\u001b[0m \u001b[0;34m-\u001b[0m\u001b[0;36m1\u001b[0m\u001b[0;34m)\u001b[0m \u001b[0;32mif\u001b[0m \u001b[0mreverse\u001b[0m \u001b[0;32melse\u001b[0m \u001b[0mrange\u001b[0m\u001b[0;34m(\u001b[0m\u001b[0minput\u001b[0m\u001b[0;34m.\u001b[0m\u001b[0msize\u001b[0m\u001b[0;34m(\u001b[0m\u001b[0;36m0\u001b[0m\u001b[0;34m)\u001b[0m\u001b[0;34m)\u001b[0m\u001b[0;34m\u001b[0m\u001b[0m\n\u001b[1;32m    115\u001b[0m         \u001b[0;32mfor\u001b[0m \u001b[0mi\u001b[0m \u001b[0;32min\u001b[0m \u001b[0msteps\u001b[0m\u001b[0;34m:\u001b[0m\u001b[0;34m\u001b[0m\u001b[0m\n\u001b[0;32m--> 116\u001b[0;31m             \u001b[0mhidden\u001b[0m \u001b[0;34m=\u001b[0m \u001b[0minner\u001b[0m\u001b[0;34m(\u001b[0m\u001b[0minput\u001b[0m\u001b[0;34m[\u001b[0m\u001b[0mi\u001b[0m\u001b[0;34m]\u001b[0m\u001b[0;34m,\u001b[0m \u001b[0mhidden\u001b[0m\u001b[0;34m,\u001b[0m \u001b[0;34m*\u001b[0m\u001b[0mweight\u001b[0m\u001b[0;34m)\u001b[0m\u001b[0;34m\u001b[0m\u001b[0m\n\u001b[0m\u001b[1;32m    117\u001b[0m             \u001b[0;31m# hack to handle LSTM\u001b[0m\u001b[0;34m\u001b[0m\u001b[0;34m\u001b[0m\u001b[0m\n\u001b[1;32m    118\u001b[0m             \u001b[0moutput\u001b[0m\u001b[0;34m.\u001b[0m\u001b[0mappend\u001b[0m\u001b[0;34m(\u001b[0m\u001b[0mhidden\u001b[0m\u001b[0;34m[\u001b[0m\u001b[0;36m0\u001b[0m\u001b[0;34m]\u001b[0m \u001b[0;32mif\u001b[0m \u001b[0misinstance\u001b[0m\u001b[0;34m(\u001b[0m\u001b[0mhidden\u001b[0m\u001b[0;34m,\u001b[0m \u001b[0mtuple\u001b[0m\u001b[0;34m)\u001b[0m \u001b[0;32melse\u001b[0m \u001b[0mhidden\u001b[0m\u001b[0;34m)\u001b[0m\u001b[0;34m\u001b[0m\u001b[0m\n",
      "\u001b[0;32m~/anaconda/envs/pytorch04/lib/python3.7/site-packages/torch/nn/_functions/rnn.py\u001b[0m in \u001b[0;36mGRUCell\u001b[0;34m(input, hidden, w_ih, w_hh, b_ih, b_hh)\u001b[0m\n\u001b[1;32m     56\u001b[0m \u001b[0;34m\u001b[0m\u001b[0m\n\u001b[1;32m     57\u001b[0m     \u001b[0mgi\u001b[0m \u001b[0;34m=\u001b[0m \u001b[0mF\u001b[0m\u001b[0;34m.\u001b[0m\u001b[0mlinear\u001b[0m\u001b[0;34m(\u001b[0m\u001b[0minput\u001b[0m\u001b[0;34m,\u001b[0m \u001b[0mw_ih\u001b[0m\u001b[0;34m,\u001b[0m \u001b[0mb_ih\u001b[0m\u001b[0;34m)\u001b[0m\u001b[0;34m\u001b[0m\u001b[0m\n\u001b[0;32m---> 58\u001b[0;31m     \u001b[0mgh\u001b[0m \u001b[0;34m=\u001b[0m \u001b[0mF\u001b[0m\u001b[0;34m.\u001b[0m\u001b[0mlinear\u001b[0m\u001b[0;34m(\u001b[0m\u001b[0mhidden\u001b[0m\u001b[0;34m,\u001b[0m \u001b[0mw_hh\u001b[0m\u001b[0;34m,\u001b[0m \u001b[0mb_hh\u001b[0m\u001b[0;34m)\u001b[0m\u001b[0;34m\u001b[0m\u001b[0m\n\u001b[0m\u001b[1;32m     59\u001b[0m     \u001b[0mi_r\u001b[0m\u001b[0;34m,\u001b[0m \u001b[0mi_i\u001b[0m\u001b[0;34m,\u001b[0m \u001b[0mi_n\u001b[0m \u001b[0;34m=\u001b[0m \u001b[0mgi\u001b[0m\u001b[0;34m.\u001b[0m\u001b[0mchunk\u001b[0m\u001b[0;34m(\u001b[0m\u001b[0;36m3\u001b[0m\u001b[0;34m,\u001b[0m \u001b[0;36m1\u001b[0m\u001b[0;34m)\u001b[0m\u001b[0;34m\u001b[0m\u001b[0m\n\u001b[1;32m     60\u001b[0m     \u001b[0mh_r\u001b[0m\u001b[0;34m,\u001b[0m \u001b[0mh_i\u001b[0m\u001b[0;34m,\u001b[0m \u001b[0mh_n\u001b[0m \u001b[0;34m=\u001b[0m \u001b[0mgh\u001b[0m\u001b[0;34m.\u001b[0m\u001b[0mchunk\u001b[0m\u001b[0;34m(\u001b[0m\u001b[0;36m3\u001b[0m\u001b[0;34m,\u001b[0m \u001b[0;36m1\u001b[0m\u001b[0;34m)\u001b[0m\u001b[0;34m\u001b[0m\u001b[0m\n",
      "\u001b[0;32m~/anaconda/envs/pytorch04/lib/python3.7/site-packages/torch/nn/functional.py\u001b[0m in \u001b[0;36mlinear\u001b[0;34m(input, weight, bias)\u001b[0m\n\u001b[1;32m   1022\u001b[0m     \u001b[0;32mif\u001b[0m \u001b[0minput\u001b[0m\u001b[0;34m.\u001b[0m\u001b[0mdim\u001b[0m\u001b[0;34m(\u001b[0m\u001b[0;34m)\u001b[0m \u001b[0;34m==\u001b[0m \u001b[0;36m2\u001b[0m \u001b[0;32mand\u001b[0m \u001b[0mbias\u001b[0m \u001b[0;32mis\u001b[0m \u001b[0;32mnot\u001b[0m \u001b[0;32mNone\u001b[0m\u001b[0;34m:\u001b[0m\u001b[0;34m\u001b[0m\u001b[0m\n\u001b[1;32m   1023\u001b[0m         \u001b[0;31m# fused op is marginally faster\u001b[0m\u001b[0;34m\u001b[0m\u001b[0;34m\u001b[0m\u001b[0m\n\u001b[0;32m-> 1024\u001b[0;31m         \u001b[0;32mreturn\u001b[0m \u001b[0mtorch\u001b[0m\u001b[0;34m.\u001b[0m\u001b[0maddmm\u001b[0m\u001b[0;34m(\u001b[0m\u001b[0mbias\u001b[0m\u001b[0;34m,\u001b[0m \u001b[0minput\u001b[0m\u001b[0;34m,\u001b[0m \u001b[0mweight\u001b[0m\u001b[0;34m.\u001b[0m\u001b[0mt\u001b[0m\u001b[0;34m(\u001b[0m\u001b[0;34m)\u001b[0m\u001b[0;34m)\u001b[0m\u001b[0;34m\u001b[0m\u001b[0m\n\u001b[0m\u001b[1;32m   1025\u001b[0m \u001b[0;34m\u001b[0m\u001b[0m\n\u001b[1;32m   1026\u001b[0m     \u001b[0moutput\u001b[0m \u001b[0;34m=\u001b[0m \u001b[0minput\u001b[0m\u001b[0;34m.\u001b[0m\u001b[0mmatmul\u001b[0m\u001b[0;34m(\u001b[0m\u001b[0mweight\u001b[0m\u001b[0;34m.\u001b[0m\u001b[0mt\u001b[0m\u001b[0;34m(\u001b[0m\u001b[0;34m)\u001b[0m\u001b[0;34m)\u001b[0m\u001b[0;34m\u001b[0m\u001b[0m\n",
      "\u001b[0;31mKeyboardInterrupt\u001b[0m: "
     ]
    }
   ],
   "source": [
    "train_losses = []\n",
    "KLs = []\n",
    "fidelities = []\n",
    "for epoch in range(1, num_epochs + 1):\n",
    "    #train(epoch, train_losses)\n",
    "    train_loss = 0\n",
    "    for batch_idx, (data) in enumerate(train_loader,):\n",
    "        data = data[0].to(device).permute(1,0,2)#.reshape(n_qubits, batchSize, n_outcomes)\n",
    "        \n",
    "        #if batch_idx == 1:\n",
    "         #   print(data[:,0])\n",
    "        optimizer.zero_grad()\n",
    "        outputs, hidden, outcome_probs, loss, inputX = model(data)\n",
    "        loss.backward()\n",
    "        \n",
    "        train_loss += loss.item()\n",
    "        optimizer.step()\n",
    "        if batch_idx % log_interval == 0:\n",
    "            KL, fidelity = compute_KL(model)\n",
    "            \n",
    "            KLs.append(KL)  \n",
    "            fidelities.append(fidelity)  \n",
    "            \n",
    "            print('Train Epoch: {} [{}/{} ({:.0f}%)]\\tLoss: {:.6f}'.format(\n",
    "                epoch, batch_idx * len(data[1]), len(train_loader.dataset),\n",
    "                100. * batch_idx / len(train_loader),\n",
    "                loss.item() / len(data[1]) ))\n",
    "    avg_batch_loss = train_loss / len(train_loader.dataset)\n",
    "    train_losses.append(avg_batch_loss)\n",
    "\n",
    "    print('====> Epoch: {} Average loss: {:.4f}'.format(\n",
    "          epoch, avg_batch_loss))"
   ]
  },
  {
   "cell_type": "code",
   "execution_count": 64,
   "metadata": {},
   "outputs": [
    {
     "name": "stdout",
     "output_type": "stream",
     "text": [
      "[16.41803627092471, 6.785061214108551, 2.6601099194404534, 2.4880913985337907, 2.4032390145467017, 2.329265442681507, 2.2503691576130174, 2.187526424860788, 2.122240731321872, 2.0534727213767385, 1.9927927892962438, 1.918602013999055, 1.8425421168680582, 1.750638953441216, 1.5770185536320385, 1.3142991649126168, 0.939870227220997, 0.8073947239520483, 0.7610213049022821, 0.7217837110131617, 0.7067285227373712, 0.6768145469860835, 0.657871798741704, 0.6365439343292251, 0.6145350879102698, 0.5976556138042916, 0.5883465512722573, 0.5750219928149305, 0.5564537451720577, 0.5486006918547202, 0.5316099128737437, 0.5167472905262084, 0.5186516690190582, 0.516302833606136, 0.4888175575444763] [0.014548790404223385, 0.16014533848923926, 0.530042186162865, 0.5543364972865763, 0.569603698649495, 0.5800494689120282, 0.5937369135256707, 0.6066077972698248, 0.6120342814462201, 0.626617320862637, 0.6352044178088604, 0.6479175407839312, 0.6569045695495898, 0.6719082990052876, 0.6975889793804485, 0.751260627396119, 0.8273455846499778, 0.8540022230395602, 0.8605052019704961, 0.8677694183973473, 0.8680829638998852, 0.8757505763301402, 0.8789920822846334, 0.8829061961347503, 0.8881358225828236, 0.8913996721058207, 0.893458231467571, 0.8971814255771916, 0.9006263142115178, 0.9013714541548042, 0.907532041075272, 0.9093844687005427, 0.9078217581266969, 0.9106774715670887, 0.9151172285915525]\n"
     ]
    },
    {
     "data": {
      "image/png": "[encoded data removed]",
      "text/plain": [
       "<Figure size 432x288 with 1 Axes>"
      ]
     },
     "metadata": {
      "needs_background": "light"
     },
     "output_type": "display_data"
    },
    {
     "data": {
      "image/png": "[encoded data removed]",
      "text/plain": [
       "<Figure size 432x288 with 1 Axes>"
      ]
     },
     "metadata": {
      "needs_background": "light"
     },
     "output_type": "display_data"
    }
   ],
   "source": [
    "print(KLs, fidelities)\n",
    "plt.plot(range(len(KLs)), KLs)\n",
    "plt.title(\"KL\")\n",
    "plt.show()\n",
    "plt.plot(range(len(KLs)), fidelities)\n",
    "plt.title(\"Classical Fidelity\")\n",
    "plt.show()"
   ]
  },
  {
   "cell_type": "code",
   "execution_count": 72,
   "metadata": {},
   "outputs": [
    {
     "name": "stdout",
     "output_type": "stream",
     "text": [
      "Real Percent distribution for 50 qubtis: [0.16663017 0.05579797 0.16662539 0.61094647]\n",
      "Percent distribution for the 50 qubits: [0.178  0.0488 0.164  0.6092]\n",
      "Outcome distribution for the 50 qubits: [ 8.9   2.44  8.2  30.46]\n"
     ]
    }
   ],
   "source": [
    "## try sampling from it, compute average probability of each outcome\n",
    "sample_test = model.sample()\n",
    "#compare probabilities:\n",
    "#print(sample_test[:,0,:])\n",
    "bin_counts = [np.bincount(np.argmax(sample_test[:,i,:].cpu().data.numpy(), axis = 1)) for i in range(batchSize) ]\n",
    "#print(bin_counts)\n",
    "print(\"Real Percent distribution for 50 qubtis:\", true_percentages)\n",
    "print(\"Percent distribution for the 50 qubits:\",(np.array(bin_counts).mean(0) / np.array(bin_counts).mean(0).sum()))\n",
    "print(\"Outcome distribution for the 50 qubits:\",np.array(bin_counts).mean(0))"
   ]
  },
  {
   "cell_type": "code",
   "execution_count": 12,
   "metadata": {
    "scrolled": false
   },
   "outputs": [
    {
     "name": "stdout",
     "output_type": "stream",
     "text": [
      "<matplotlib.colors.ListedColormap object at 0x7f9acc2efe10>\n"
     ]
    },
    {
     "data": {
      "text/plain": [
       "<Figure size 1080x72 with 0 Axes>"
      ]
     },
     "metadata": {},
     "output_type": "display_data"
    },
    {
     "data": {
      "image/png": "[encoded data removed]",
      "text/plain": [
       "<Figure size 936x237.6 with 5 Axes>"
      ]
     },
     "metadata": {
      "needs_background": "light"
     },
     "output_type": "display_data"
    }
   ],
   "source": [
    "def plot_samples(sample_test = sample_test, n_samples = 1, n_qubits = n_qubits):\n",
    "    qubits = np.arange(1, n_qubits + 1)\n",
    "    color_labels = np.array([np.argmax(sample_test[:,i,:].cpu().data.numpy(), axis = 1) for i in range(batchSize)])#[0.456,0.962,0.231] \n",
    "    #print(color_labels[0].shape, qubits.shape)\n",
    "    #UnlabelledY=[0,1,0]\n",
    "    fig = plt.figure(figsize=(15,1))\n",
    "    flatui = [\"#9b59b6\", \"#3498db\", \"#95a5a6\", \"#e74c3c\", \"#34495e\", \"#2ecc71\"]\n",
    "    muted=[\"#4878CF\", \"#6ACC65\", \"#D65F5F\",\n",
    "               \"#B47CC7\", \"#C4AD66\", \"#77BEDB\"]\n",
    "    #my_cmap = ListedColormap(sns.color_palette(muted).as_hex())\n",
    "    #cmap = sns.cubehelix_palette(light=0.8, dark=0.4, start=0.03, rot=0.4, as_cmap=True)\n",
    "    cmap = ListedColormap(palettable.cartocolors.diverging.Earth_4.mpl_colors)\n",
    "    #cmap = ListedColormap(palettable.wesanderson.Chevalier_4.mpl_colors)\n",
    "    #cmap = ListedColormap(palettable.wesanderson.Darjeeling2_5.mpl_colors)\n",
    "    #cmap = ListedColormap(palettable.wesanderson.Moonrise2_4.mpl_colors)\n",
    "    #cmap = ListedColormap(palettable.wesanderson.FantasticFox2_5.mpl_colors)\n",
    "    print(cmap)\n",
    "    \n",
    "    if n_samples == 1:\n",
    "        fig = plt.figure(figsize=(15,1))\n",
    "        plt.scatter(qubits, np.zeros_like(qubits), \n",
    "                c=color_labels[0], cmap=cmap, vmin=0, s=120)\n",
    "        #plt.axis('off')\n",
    "        plt.xlabel(\"Qubit #\", fontsize=14)\n",
    "    else:\n",
    "        fig, axes = plt.subplots(n_samples, 1, figsize=(13,n_samples * 0.66))\n",
    "        fig.subplots_adjust(hspace=-0.1)\n",
    "        for i in range(n_samples):\n",
    "            axes[i].scatter(qubits, np.zeros_like(qubits), \n",
    "                    c=color_labels[i], cmap=cmap, vmin=0, s=100)\n",
    "            axes[i].set_yticks([])\n",
    "            sns.despine(left=True, bottom=True)\n",
    "            #sns.despine(bottom=True)\n",
    "            #sns.despine(top=True)\n",
    "            if i == n_samples - 1:\n",
    "                axes[i].set_xlabel(\"Qubit #\", fontsize=14)\n",
    "                axes[i].spines[\"bottom\"].set_visible(True)\n",
    "            else:\n",
    "                axes[i].set_xticks([])\n",
    "\n",
    "    plt.show()\n",
    "    return\n",
    "\n",
    "plot_samples(sample_test = sample_test, n_samples = 5, n_qubits = 50)\n"
   ]
  },
  {
   "cell_type": "code",
   "execution_count": 22,
   "metadata": {},
   "outputs": [
    {
     "name": "stdout",
     "output_type": "stream",
     "text": [
      "[0.24731441 0.09571714 0.16840106 0.48856739]\n",
      "[0.28633727 0.04534951 0.14410022 0.524213  ]\n",
      "[0.13532165 0.03683293 0.13004007 0.69780535]\n",
      "[0.27190482 0.04626563 0.13021532 0.55161423]\n",
      "[0.11645201 0.03883645 0.12715262 0.71755892]\n",
      "[0.10684544 0.04460918 0.14531526 0.70323013]\n",
      "[0.08712651 0.03907288 0.13931167 0.73448894]\n",
      "[0.28296597 0.04690094 0.12639971 0.54373337]\n",
      "[0.04318725 0.0602801  0.13571295 0.7608197 ]\n",
      "[0.3122509  0.05655144 0.12372435 0.50747331]\n",
      "[0.05551038 0.06884588 0.18043632 0.69520741]\n",
      "[0.31565521 0.05835189 0.12255458 0.50343832]\n",
      "[0.06727131 0.04602498 0.12838432 0.75831939]\n",
      "[0.17353235 0.03079436 0.1409004  0.6547729 ]\n",
      "[0.16428146 0.03719234 0.12376445 0.67476174]\n",
      "[0.19678972 0.05619844 0.18482432 0.56218752]\n",
      "[0.11086062 0.13486727 0.16491337 0.58935873]\n",
      "[0.07180931 0.05507153 0.14189156 0.73122761]\n",
      "[0.28739894 0.04433333 0.1342459  0.53402183]\n",
      "[0.11332769 0.03741628 0.12614935 0.72310668]\n",
      "[0.2375404  0.03876015 0.13116001 0.59253944]\n",
      "[0.11038084 0.05103628 0.18253137 0.6560515 ]\n",
      "[0.25193343 0.04436574 0.11896484 0.58473598]\n",
      "[0.13471283 0.03977412 0.13509217 0.69042088]\n",
      "[0.22139512 0.13124212 0.14213898 0.50522378]\n",
      "[0.04638656 0.06038796 0.13634354 0.75688194]\n",
      "[0.30000333 0.04742817 0.15772417 0.49484433]\n",
      "[0.09716169 0.04145176 0.11528305 0.7461035 ]\n",
      "[0.24923907 0.04175306 0.13615088 0.57285699]\n",
      "[0.13129412 0.03941872 0.12641621 0.70287095]\n",
      "[0.22078314 0.03851038 0.13018061 0.61052586]\n",
      "[0.15629367 0.03765156 0.12584536 0.6802094 ]\n",
      "[0.17510922 0.14492702 0.13644428 0.54351947]\n",
      "[0.17591305 0.07780278 0.13394249 0.61234168]\n",
      "[0.15119198 0.05046541 0.16904633 0.62929627]\n",
      "[0.21788421 0.04587458 0.124565   0.61167622]\n",
      "[0.15327266 0.03807802 0.13254748 0.67610183]\n",
      "[0.21183892 0.04077158 0.12664346 0.62074603]\n",
      "[0.15258398 0.03634976 0.12728543 0.68378083]\n",
      "[0.2151484  0.04043906 0.12747809 0.61693446]\n",
      "[0.11691879 0.05070404 0.18808398 0.64429319]\n",
      "[0.09038355 0.03744054 0.12590401 0.74627189]\n",
      "[0.24713076 0.03819076 0.13115363 0.58352485]\n",
      "[0.1421761  0.03630557 0.12302896 0.69848937]\n",
      "[0.20305654 0.03513428 0.12727863 0.63453054]\n",
      "[0.16610797 0.03637456 0.12665665 0.67086082]\n",
      "[0.19597909 0.03684448 0.12933236 0.63784406]\n",
      "[0.06725941 0.04511561 0.13763407 0.74999091]\n",
      "[0.270401   0.04097886 0.1275094  0.56111074]\n",
      "torch.Size([50, 500, 4])\n",
      "[0.18016 0.05664 0.14088 0.62232]\n",
      "[ 9.008  2.832  7.044 31.116]\n"
     ]
    }
   ],
   "source": [
    "#batchSize = 50\n",
    "#batchSize = 100\n",
    "index = np.random.randint(0,len(data_array))\n",
    "test = reshaped_array[index:index+batchSize]\n",
    "data = torch.from_numpy(test).double().to(device)\n",
    "#print(data.shape)\n",
    "#print(inputX.shape)\n",
    "#print(hidden.shape)\n",
    "\n",
    "#output, hidden, outcome, loss, inputX = model(data)\n",
    "\n",
    "def sample(model, n_qubits, batchSize = batchSize, hidden_size = hidden_size, n_outcomes = n_outcomes, num_layers = num_gru_layers):\n",
    "    \n",
    "    #initialize hidden as in model\n",
    "    hidden = torch.ones(1*num_layers, batchSize, hidden_size).to(device).double()\n",
    "    initX = torch.ones(1, batchSize, n_outcomes).to(device).double()\n",
    "    samples = torch.zeros(n_qubits, batchSize, n_outcomes)\n",
    "    \n",
    "    for i in range(n_qubits):\n",
    "        \n",
    "        #initialize for one-hot encoding, qubit_i_samples will be a class chosen for each batch entry based on probabilities\n",
    "        # batchSize number of samples for ith qubit\n",
    "        qubit_i_samples = torch.zeros(batchSize)\n",
    "\n",
    "        if i == 0:\n",
    "            output, hidden, outcome = model.step(initX, hidden)\n",
    "            qubit_i_probs = outcome.to('cpu').data.numpy()\n",
    "            #print(qubit_i_probs[0])\n",
    "        elif i > 0:\n",
    "            output, hidden, outcome = model.step(samples[i-1].unsqueeze(0).to(device).double(), hidden)\n",
    "            qubit_i_probs = outcome.to('cpu').data.numpy()\n",
    "            print(qubit_i_probs[0])\n",
    "            \n",
    "        for batch_entry in range(batchSize):\n",
    "            qubit_i_samples[batch_entry] = torch.from_numpy(np.random.choice([0,1,2,3], size = 1, p=qubit_i_probs[batch_entry]))\n",
    "        samples[i][torch.arange(batchSize).long(), qubit_i_samples.long()] = 1\n",
    "        input = samples[i]\n",
    "        #print(samples[i])\n",
    " \n",
    "        #samples[i] = sample_i\n",
    "    \n",
    "    return samples\n",
    "            \n",
    "sample_test = sample(model, 50)  \n",
    "\n",
    "\n",
    "#compare probabilities:\n",
    "print(sample_test.shape)\n",
    "bin_counts = [np.bincount(np.argmax(sample_test[:,i,:].cpu().data.numpy(), axis = 1)) for i in range(batchSize) ]\n",
    "print((np.array(bin_counts).mean(0) / np.array(bin_counts).mean(0).sum()))\n",
    "print(np.array(bin_counts).mean(0))"
   ]
  },
  {
   "cell_type": "code",
   "execution_count": 50,
   "metadata": {},
   "outputs": [
    {
     "name": "stdout",
     "output_type": "stream",
     "text": [
      "2.0541447587635693 0.6280019870649907\n"
     ]
    }
   ],
   "source": [
    "def compute_KL(model, real_data = reshaped_array, logPs = log_probs, num_samples = 150, num_layers = num_gru_layers):\n",
    "\n",
    "    KL = 0\n",
    "    fidelity = 0\n",
    "    for batch_idx, (data) in enumerate(train_loader,):\n",
    "        data = data[0].to(device).permute(1,0,2)\n",
    "        \n",
    "        outputs, hidden, outcome_probs, loss, inputX = model(data)\n",
    "        logq_batch = (torch.sum(torch.log(torch.sum(outcome_probs * data, dim=2)), dim=0))\n",
    "        KL += np.sum(logPs[(batch_idx*batchSize):(batch_idx*batchSize + batchSize)] - logq_batch.cpu().data.numpy())\n",
    "        fidelity += np.sum(np.exp((1/2) * (logq_batch.cpu().data.numpy() - logPs[(batch_idx*batchSize):(batch_idx*batchSize + batchSize)] )))\n",
    "        \n",
    "        if batch_idx == 25:\n",
    "            break\n",
    "    \n",
    "    KL = KL / (batchSize * batch_idx)\n",
    "    \n",
    "    fidelity = fidelity / (batchSize*batch_idx)\n",
    "       \n",
    "    return KL, fidelity\n",
    "\n",
    "kl, fidelity = compute_KL(model)   \n",
    "\n",
    "\n",
    "print(kl, fidelity)\n",
    "  "
   ]
  },
  {
   "cell_type": "code",
   "execution_count": 162,
   "metadata": {},
   "outputs": [
    {
     "name": "stdout",
     "output_type": "stream",
     "text": [
      "tensor([-48.7280, -57.7980, -46.2830, -58.3975, -59.0218, -56.3116,\n",
      "        -41.7687, -43.3531, -50.9076, -50.4845, -61.5539, -52.6993,\n",
      "        -48.2108, -56.4936, -46.2790, -55.4091, -50.6446, -47.1339,\n",
      "        -46.2462, -52.9736, -54.9653, -52.7664, -53.5814, -61.8175,\n",
      "        -48.5956, -55.0955, -58.5391, -60.3642, -46.3613, -41.6966,\n",
      "        -62.0812, -49.5609, -43.9365, -53.0663, -48.6884, -43.4069,\n",
      "        -58.3538, -51.2023, -50.3998, -46.7518, -59.9154, -43.3103,\n",
      "        -54.4262, -48.5549, -45.9686, -50.3093, -57.9838, -54.4279,\n",
      "        -55.5317, -50.1821, -46.3783, -57.1653, -50.1031, -50.4617,\n",
      "        -56.5617, -43.6189, -41.4486, -53.4316, -59.9795, -49.4824,\n",
      "        -54.4331, -53.8996, -43.6240, -47.3441, -52.9975, -40.0012,\n",
      "        -53.2560, -55.8943, -47.1756, -54.9125, -47.6753, -53.8624,\n",
      "        -59.3871, -54.1255, -52.6482, -54.3610, -43.2094, -48.9391,\n",
      "        -51.6604, -45.8431, -61.7252, -45.8633, -49.1761, -38.6988,\n",
      "        -42.0896, -44.5974, -53.9904, -47.0573, -46.6464, -55.0364,\n",
      "        -52.6003, -60.3264, -45.3899, -55.0299, -56.8253, -49.5254,\n",
      "        -44.0426, -49.4984, -62.0849, -45.2933, -44.8961, -52.2544,\n",
      "        -57.0250, -59.5445, -55.0439, -43.2171, -47.9433, -52.3361,\n",
      "        -58.8800, -55.2391, -48.7867, -58.4661, -50.8635, -49.2641,\n",
      "        -60.1013, -43.2484, -49.2282, -43.4333, -49.1572, -57.0776,\n",
      "        -61.8032, -47.5640, -51.7913, -49.3049, -41.9662, -60.0318,\n",
      "        -41.7487, -56.9596, -58.6779, -42.9625, -46.5484, -57.6448,\n",
      "        -52.1673, -49.9224, -59.8110, -54.2056, -62.9742, -56.7099,\n",
      "        -56.2789, -44.1547, -54.7889, -51.4767, -39.0183, -50.2158,\n",
      "        -56.6898, -39.3685, -43.8388, -53.0841, -61.9638, -63.4160,\n",
      "        -47.6271, -54.2829, -43.5947, -52.5002, -50.6066, -55.5671,\n",
      "        -48.9012, -39.9237, -46.7628, -58.8739, -55.1078, -52.3147,\n",
      "        -56.5595, -57.8597, -39.3811, -44.8691, -50.6090, -37.6296,\n",
      "        -54.0995, -54.1715, -49.0450, -51.4449, -43.9084, -40.7509,\n",
      "        -47.5858, -62.5742, -53.5220, -54.3471, -51.6549, -46.7124,\n",
      "        -51.1718, -48.8777, -61.4093, -47.4565, -52.4228, -52.5107,\n",
      "        -55.0789, -47.6016, -57.6546, -50.5189, -47.1467, -59.0433,\n",
      "        -51.0260, -53.5510, -58.9520, -54.1745, -56.6508, -41.0439,\n",
      "        -61.6767, -44.8457, -54.3595, -54.8280, -51.9965, -55.6854,\n",
      "        -51.9017, -51.6990, -52.0668, -53.8295, -49.0747, -48.2592,\n",
      "        -50.6435, -46.5038, -48.6085, -51.0470, -55.0379, -51.0846,\n",
      "        -50.8711, -54.8629, -51.0180, -57.5848, -45.2814, -50.3559,\n",
      "        -55.1102, -56.9107, -54.6866, -59.7683, -49.3793, -51.8506,\n",
      "        -45.3309, -59.4029, -45.1427, -44.0446, -51.2637, -48.2945,\n",
      "        -44.7989, -52.8977, -47.5065, -53.0763, -51.4866, -50.2590,\n",
      "        -54.8765, -50.0706, -55.1009, -52.7893, -47.4410, -57.4696,\n",
      "        -45.5202, -55.1469, -51.1828, -48.3678, -53.8438, -48.2413,\n",
      "        -53.0586, -53.6319, -55.9671, -54.3235, -47.9433, -45.8265,\n",
      "        -53.6488, -50.2971, -58.1697, -62.6349, -44.3553, -51.2402,\n",
      "        -48.6022, -51.6103, -51.4776, -44.1985, -48.1755, -44.1329,\n",
      "        -43.9965, -56.8450, -45.3472, -53.4364, -49.9802, -48.3261,\n",
      "        -49.5377, -54.7596, -39.7510, -50.5049, -52.5239, -41.8458,\n",
      "        -44.9548, -56.6895, -44.1583, -49.7325, -46.7645, -47.5160,\n",
      "        -47.6388, -56.3655, -51.0455, -49.7445, -44.8662, -45.0408,\n",
      "        -45.0121, -41.9341, -56.8618, -52.0699, -52.7339, -42.6020,\n",
      "        -49.5870, -45.0012, -45.1204, -52.6109, -57.0674, -50.0763,\n",
      "        -49.5696, -45.8806, -58.9539, -46.8783, -54.6139, -54.1210,\n",
      "        -44.6690, -55.9592, -41.7528, -40.3937, -52.2871, -41.3052,\n",
      "        -50.6848, -51.6911, -39.0368, -52.4978, -56.8104, -59.5864,\n",
      "        -54.1327, -55.0382, -45.5121, -51.1282, -54.7022, -48.5956,\n",
      "        -44.1882, -50.9906, -46.0703, -55.7361, -44.9925, -49.8964,\n",
      "        -52.4942, -49.5372, -57.9768, -54.4069, -52.9948, -53.5685,\n",
      "        -52.9197, -44.1077, -50.5169, -50.2423, -51.8608, -52.1507,\n",
      "        -48.0526, -51.4552, -43.4544, -55.4089, -50.6881, -47.7239,\n",
      "        -56.7195, -54.2779, -55.8144, -41.9091, -45.0192, -48.4249,\n",
      "        -48.4336, -55.3818, -60.1352, -43.4940, -55.6547, -42.2679,\n",
      "        -43.0143, -48.6439, -47.3779, -42.4402, -45.7545, -51.0772,\n",
      "        -50.8122, -51.9670, -52.6419, -43.2519, -55.4497, -63.1379,\n",
      "        -45.9567, -60.3663, -55.5173, -44.8423, -51.0628, -49.9350,\n",
      "        -48.5924, -52.9459, -51.6741, -52.0817, -46.7174, -56.1607,\n",
      "        -47.0536, -44.1965, -55.4262, -42.4078, -45.3550, -48.5497,\n",
      "        -49.9331, -48.5188, -57.3638, -47.5391, -62.1134, -49.2140,\n",
      "        -49.0439, -51.5302, -60.3476, -49.3233, -52.1379, -46.4104,\n",
      "        -47.8340, -43.2426, -50.3334, -61.4634, -57.1250, -52.2969,\n",
      "        -49.4819, -51.6823, -43.8429, -47.7537, -52.5739, -51.6686,\n",
      "        -57.2421, -46.7851, -54.4482, -53.8310, -48.5447, -63.0653,\n",
      "        -57.2479, -45.0465, -43.6139, -60.1648, -49.9745, -51.9356,\n",
      "        -53.6005, -49.8557, -44.0662, -38.9326, -52.1178, -49.5919,\n",
      "        -63.8126, -55.8405, -49.9391, -54.5323, -51.7180, -40.6169,\n",
      "        -42.3513, -46.4718, -61.8692, -52.3583, -40.5533, -41.8493,\n",
      "        -42.8758, -46.8099, -53.1548, -58.7334, -57.1350, -59.3504,\n",
      "        -52.4388, -44.6284, -49.7972, -36.3809, -42.2704, -58.3517,\n",
      "        -60.7881, -47.8502, -55.9871, -61.5782, -49.0525, -54.7167,\n",
      "        -56.3174, -54.2289, -51.3076, -45.4159, -41.4652, -50.7167,\n",
      "        -39.9562, -56.7657, -51.5110, -52.4900, -46.7468, -54.2251,\n",
      "        -53.6118, -51.2696, -53.1062, -62.6901, -54.8521, -52.4608,\n",
      "        -46.1390, -43.5660, -50.0618, -48.0836, -49.7668, -51.8586,\n",
      "        -53.6674, -51.6394, -55.3440, -55.8983, -50.5840, -60.0649,\n",
      "        -46.5194, -52.2518], dtype=torch.float64, device='cuda:0')\n",
      "torch.Size([50, 500])\n"
     ]
    }
   ],
   "source": [
    "print((torch.sum(torch.log(torch.sum(outcome_probs * data, dim=2)), dim=0)))\n",
    "print(torch.sum(outcome_probs * data, dim=2).shape)\n",
    "#print(log_probs[(batch_idx*batchSize):(batch_idx*batchSize + batchSize)])"
   ]
  },
  {
   "cell_type": "code",
   "execution_count": 67,
   "metadata": {
    "collapsed": true
   },
   "outputs": [],
   "source": [
    "counts = []\n",
    "for i in range(len(data_array)):\n",
    "    #print(np.argmax(data_array[i]).shape)\n",
    "    count = np.bincount(np.argmax(reshaped_array[i], axis=1))\n",
    "    counts.append(count)\n",
    "    #break\n",
    "    #for j in range(len(data_array[i])):\n",
    "       # print(data_array[i][j])  \n",
    "   # if i == 50:\n",
    "    #    break"
   ]
  },
  {
   "cell_type": "code",
   "execution_count": 68,
   "metadata": {},
   "outputs": [
    {
     "data": {
      "text/plain": [
       "[array([ 6,  5, 10, 29]),\n",
       " array([11,  0,  8, 31]),\n",
       " array([ 9,  3,  8, 30]),\n",
       " array([11,  3, 10, 26]),\n",
       " array([ 7,  5, 11, 27]),\n",
       " array([ 7,  2,  6, 35]),\n",
       " array([ 7,  4,  8, 31]),\n",
       " array([11,  1,  8, 30]),\n",
       " array([ 6,  4,  3, 37]),\n",
       " array([13,  0,  5, 32]),\n",
       " array([ 6,  0,  7, 37]),\n",
       " array([ 6,  3,  7, 34]),\n",
       " array([ 6,  4,  6, 34]),\n",
       " array([ 9,  5,  3, 33]),\n",
       " array([ 9,  8,  7, 26]),\n",
       " array([ 5,  1, 12, 32]),\n",
       " array([ 7,  1,  7, 35]),\n",
       " array([ 5,  2,  9, 34]),\n",
       " array([11,  1,  5, 33]),\n",
       " array([13,  5,  3, 29]),\n",
       " array([ 8,  0,  9, 33]),\n",
       " array([ 5,  0, 11, 34]),\n",
       " array([ 8,  3, 10, 29]),\n",
       " array([ 7,  5,  6, 32]),\n",
       " array([ 5,  4,  9, 32]),\n",
       " array([ 8,  3,  8, 31]),\n",
       " array([10,  1,  2, 37]),\n",
       " array([ 8,  4, 10, 28]),\n",
       " array([ 7,  3, 15, 25]),\n",
       " array([ 8,  4,  9, 29]),\n",
       " array([10,  1,  9, 30]),\n",
       " array([ 3,  2, 11, 34]),\n",
       " array([ 8,  4, 12, 26]),\n",
       " array([ 8,  1,  8, 33]),\n",
       " array([ 8,  4,  9, 29]),\n",
       " array([ 4,  1, 10, 35]),\n",
       " array([ 7,  3,  7, 33]),\n",
       " array([ 8,  6,  8, 28]),\n",
       " array([11,  1,  6, 32]),\n",
       " array([ 8,  2, 14, 26]),\n",
       " array([ 9,  3, 10, 28]),\n",
       " array([ 7,  1, 11, 31]),\n",
       " array([ 4,  3,  9, 34]),\n",
       " array([ 4,  3,  9, 34]),\n",
       " array([10,  3,  8, 29]),\n",
       " array([10,  3,  8, 29]),\n",
       " array([ 5,  2,  9, 34]),\n",
       " array([ 8,  4,  5, 33]),\n",
       " array([ 6,  1, 16, 27]),\n",
       " array([ 4,  3, 10, 33])]"
      ]
     },
     "execution_count": 68,
     "metadata": {},
     "output_type": "execute_result"
    }
   ],
   "source": [
    "counts[:50]"
   ]
  },
  {
   "cell_type": "code",
   "execution_count": 70,
   "metadata": {},
   "outputs": [
    {
     "name": "stdout",
     "output_type": "stream",
     "text": [
      "[ 8.33150833  2.78989853  8.33126961 30.54732353]\n",
      "[0.16663017 0.05579797 0.16662539 0.61094647]\n"
     ]
    }
   ],
   "source": [
    "means = np.array(counts).mean(0)\n",
    "print(means)\n",
    "true_percentages = means / (means.sum())\n",
    "print(means / (means.sum()))"
   ]
  },
  {
   "cell_type": "code",
   "execution_count": 66,
   "metadata": {},
   "outputs": [
    {
     "name": "stdout",
     "output_type": "stream",
     "text": [
      "tensor([[-0.2877, -1.6094,    -inf, -2.9957],\n",
      "        [   -inf,    -inf,    -inf,  0.0000],\n",
      "        [   -inf,    -inf,    -inf,  0.0000],\n",
      "        [   -inf,    -inf,  0.0000,    -inf],\n",
      "        [   -inf,    -inf,    -inf,  0.0000],\n",
      "        [   -inf,    -inf,    -inf,  0.0000],\n",
      "        [   -inf,    -inf,    -inf,  0.0000],\n",
      "        [   -inf,    -inf,    -inf,  0.0000],\n",
      "        [   -inf,    -inf,    -inf,  0.0000],\n",
      "        [   -inf,  0.0000,    -inf,    -inf],\n",
      "        [   -inf,  0.0000,    -inf,    -inf],\n",
      "        [   -inf,    -inf,    -inf,  0.0000],\n",
      "        [   -inf,    -inf,    -inf,  0.0000],\n",
      "        [   -inf,    -inf,    -inf,  0.0000],\n",
      "        [   -inf,    -inf,    -inf,  0.0000],\n",
      "        [   -inf,    -inf,    -inf,  0.0000],\n",
      "        [   -inf,    -inf,  0.0000,    -inf],\n",
      "        [ 0.0000,    -inf,    -inf,    -inf],\n",
      "        [   -inf,    -inf,    -inf,  0.0000],\n",
      "        [   -inf,    -inf,    -inf,  0.0000],\n",
      "        [   -inf,    -inf,  0.0000,    -inf],\n",
      "        [   -inf,    -inf,  0.0000,    -inf],\n",
      "        [   -inf,    -inf,    -inf,  0.0000],\n",
      "        [   -inf,    -inf,    -inf,  0.0000],\n",
      "        [   -inf,    -inf,  0.0000,    -inf],\n",
      "        [   -inf,    -inf,    -inf,  0.0000],\n",
      "        [   -inf,    -inf,    -inf,  0.0000],\n",
      "        [   -inf,    -inf,    -inf,  0.0000],\n",
      "        [   -inf,    -inf,    -inf,  0.0000],\n",
      "        [   -inf,    -inf,    -inf,  0.0000],\n",
      "        [ 0.0000,    -inf,    -inf,    -inf],\n",
      "        [   -inf,    -inf,    -inf,  0.0000],\n",
      "        [   -inf,    -inf,  0.0000,    -inf],\n",
      "        [   -inf,    -inf,  0.0000,    -inf],\n",
      "        [   -inf,    -inf,  0.0000,    -inf],\n",
      "        [ 0.0000,    -inf,    -inf,    -inf],\n",
      "        [   -inf,  0.0000,    -inf,    -inf],\n",
      "        [   -inf,  0.0000,    -inf,    -inf],\n",
      "        [   -inf,    -inf,    -inf,  0.0000],\n",
      "        [   -inf,    -inf,    -inf,  0.0000],\n",
      "        [   -inf,    -inf,    -inf,  0.0000],\n",
      "        [ 0.0000,    -inf,    -inf,    -inf],\n",
      "        [   -inf,  0.0000,    -inf,    -inf],\n",
      "        [   -inf,    -inf,    -inf,  0.0000],\n",
      "        [   -inf,    -inf,  0.0000,    -inf],\n",
      "        [ 0.0000,    -inf,    -inf,    -inf],\n",
      "        [   -inf,    -inf,  0.0000,    -inf],\n",
      "        [   -inf,    -inf,    -inf,  0.0000],\n",
      "        [   -inf,    -inf,    -inf,  0.0000],\n",
      "        [   -inf,    -inf,    -inf,  0.0000]], dtype=torch.float64)\n",
      "tensor([0, 3, 3, 2, 3, 3, 3, 3, 3, 1, 1, 3, 3, 3, 3, 3, 2, 0, 3, 3, 2, 2, 3, 3,\n",
      "        2, 3, 3, 3, 3, 3, 0, 3, 2, 2, 2, 0, 1, 1, 3, 3, 3, 0, 1, 3, 2, 0, 2, 3,\n",
      "        3, 3])\n"
     ]
    }
   ],
   "source": [
    "## testing my own cross entropy\n",
    "\n",
    "numpy = torch.from_numpy(reshaped_array[0])\n",
    "labels = torch.argmax(numpy,dim=1)\n",
    "numpy = torch.log(numpy)\n",
    "numpy[0] = torch.log(torch.from_numpy(np.array([0.75,0.2,0,0.05])))\n",
    "print(numpy)\n",
    "print(labels)"
   ]
  },
  {
   "cell_type": "code",
   "execution_count": null,
   "metadata": {
    "collapsed": true
   },
   "outputs": [],
   "source": [
    "output_vals = numpy[range(50), labels]\n",
    "print(output_vals)"
   ]
  },
  {
   "cell_type": "code",
   "execution_count": null,
   "metadata": {
    "collapsed": true
   },
   "outputs": [],
   "source": [
    "sample_test[:,0,:].shape"
   ]
  },
  {
   "cell_type": "code",
   "execution_count": null,
   "metadata": {
    "collapsed": true
   },
   "outputs": [],
   "source": []
  }
 ],
 "metadata": {
  "kernelspec": {
   "display_name": "pytorch04",
   "language": "python",
   "name": "myenv"
  },
  "language_info": {
   "codemirror_mode": {
    "name": "ipython",
    "version": 3
   },
   "file_extension": ".py",
   "mimetype": "text/x-python",
   "name": "python",
   "nbconvert_exporter": "python",
   "pygments_lexer": "ipython3",
   "version": "3.7.0"
  }
 },
 "nbformat": 4,
 "nbformat_minor": 2
}
