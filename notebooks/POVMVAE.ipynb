{
 "cells": [
  {
   "cell_type": "code",
   "execution_count": 1,
   "metadata": {},
   "outputs": [],
   "source": [
    "import argparse\n",
    "import torch\n",
    "import torch.utils.data\n",
    "from torch import nn, optim\n",
    "from torch.nn import functional as F\n",
    "import numpy as np\n",
    "import os\n",
    "import datetime"
   ]
  },
  {
   "cell_type": "code",
   "execution_count": 31,
   "metadata": {},
   "outputs": [
    {
     "name": "stdout",
     "output_type": "stream",
     "text": [
      "cuda:0\n"
     ]
    }
   ],
   "source": [
    "device = torch.device(\"cuda:0\" if torch.cuda.device_count() != 0 else \"cpu\")\n",
    "print(device)\n",
    "\n",
    "n_qubits = 50\n",
    "n_outcomes = 4\n",
    "batchSize = 32\n",
    "filename = 'train.txt'\n",
    "num_epochs = 50\n",
    "log_interval = 1000"
   ]
  },
  {
   "cell_type": "code",
   "execution_count": 32,
   "metadata": {},
   "outputs": [],
   "source": [
    "data_array = np.load('numpy_POVM_data.npz')['a']\n"
   ]
  },
  {
   "cell_type": "code",
   "execution_count": 33,
   "metadata": {},
   "outputs": [
    {
     "name": "stdout",
     "output_type": "stream",
     "text": [
      "(1000000, 200)\n"
     ]
    }
   ],
   "source": [
    "#np.savez_compressed('numpy_POVM_data', a = data_array)\n",
    "print(data_array.shape)"
   ]
  },
  {
   "cell_type": "code",
   "execution_count": 34,
   "metadata": {},
   "outputs": [],
   "source": [
    "# print(data_array[0][1:])\n",
    "# data_array[data_array == 0] = -1\n",
    "# print(data_array[0][1:])"
   ]
  },
  {
   "cell_type": "code",
   "execution_count": 35,
   "metadata": {},
   "outputs": [
    {
     "data": {
      "text/plain": [
       "('input', 'target', 'weight', 'size_average', 'reduce', 'new_size')"
      ]
     },
     "execution_count": 35,
     "metadata": {},
     "output_type": "execute_result"
    }
   ],
   "source": [
    "torch.nn.functional.binary_cross_entropy.__code__.co_varnames"
   ]
  },
  {
   "cell_type": "code",
   "execution_count": 85,
   "metadata": {},
   "outputs": [
    {
     "name": "stdout",
     "output_type": "stream",
     "text": [
      "VAE(\n",
      "  (fc1): Linear(in_features=200, out_features=400, bias=True)\n",
      "  (fc21): Linear(in_features=400, out_features=50, bias=True)\n",
      "  (fc22): Linear(in_features=400, out_features=50, bias=True)\n",
      "  (fc3): Linear(in_features=50, out_features=400, bias=True)\n",
      "  (fc4): Linear(in_features=400, out_features=200, bias=True)\n",
      ")\n"
     ]
    }
   ],
   "source": [
    "class VAE(nn.Module):\n",
    "    def __init__(self):\n",
    "        super(VAE, self).__init__()\n",
    "\n",
    "        self.fc1 = nn.Linear(n_qubits * n_outcomes, (n_qubits*n_outcomes) * 2)\n",
    "        self.fc21 = nn.Linear((n_qubits* n_outcomes) * 2, (n_qubits* n_outcomes) // 4)\n",
    "        self.fc22 = nn.Linear((n_qubits* n_outcomes) * 2, (n_qubits* n_outcomes) // 4)\n",
    "        self.fc3 = nn.Linear((n_qubits* n_outcomes) // 4, (n_qubits* n_outcomes) * 2)\n",
    "        self.fc4 = nn.Linear((n_qubits* n_outcomes) * 2, n_qubits * n_outcomes) \n",
    "        #self.act = nn.Softmax( 1)\n",
    "\n",
    "    def encode(self, x):\n",
    "        h1 = (self.fc1(x))\n",
    "        return self.fc21(h1), self.fc22(h1)\n",
    "\n",
    "    def reparameterize(self, mu, logvar):\n",
    "        std = torch.exp(0.5*logvar)\n",
    "        eps = torch.randn_like(std)\n",
    "        return eps.mul(std).add_(mu)\n",
    "\n",
    "    def decode(self, z):\n",
    "        h3 = torch.tanh(self.fc3(z))\n",
    "        return torch.sigmoid(self.fc4(h3))\n",
    "\n",
    "    def forward(self, x):\n",
    "        mu, logvar = self.encode(x)\n",
    "        z = self.reparameterize(mu, logvar)\n",
    "        return self.decode(z), mu, logvar\n",
    "\n",
    "\n",
    "model = VAE().to(device)\n",
    "optimizer = optim.Adam(model.parameters(), lr=1e-4)\n",
    "\n",
    "\n",
    "# Reconstruction + KL divergence losses summed over all elements and batch\n",
    "def loss_function(recon_x, x, mu, logvar):\n",
    "    \n",
    "    #CE = nn.CrossEntropyLoss()\n",
    "    #CE_loss = CE(recon_x, x)\n",
    "    #print(recon_x.shape, x.shape)\n",
    "    BCE = F.binary_cross_entropy(recon_x, x, reduce=True)\n",
    "    #MSE = F.mse_loss(recon_x, x.view(-1, 200), size_average=False)\n",
    "    \n",
    "    # see Appendix B from VAE paper:\n",
    "    # Kingma and Welling. Auto-Encoding Variational Bayes. ICLR, 2014\n",
    "    # https://arxiv.org/abs/1312.6114\n",
    "    # 0.5 * sum(1 + log(sigma^2) - mu^2 - sigma^2)\n",
    "    KLD = -0.5 * torch.sum(1 + logvar - mu.pow(2) - logvar.exp())\n",
    "\n",
    "    return BCE + KLD, BCE, KLD\n",
    "\n",
    "\n",
    "def train(epoch, train_losses):\n",
    "    model.train()\n",
    "    train_loss = 0\n",
    "    for batch_idx, (data) in enumerate(train_loader,):\n",
    "        data = data[0].to(device)\n",
    "        #print(data.shape)\n",
    "        optimizer.zero_grad()\n",
    "        recon_batch, mu, logvar = model(data)\n",
    "        #print(recon_batch.shape, data.shape, mu.shape, logvar.shape)\n",
    "        loss, MSE, KLD = loss_function(recon_batch, data, mu, logvar)\n",
    "        \n",
    "        loss.backward()\n",
    "        train_loss += loss.item()\n",
    "        optimizer.step()\n",
    "        if batch_idx % log_interval == 0:\n",
    "            print('Train Epoch: {} [{}/{} ({:.0f}%)]\\tLoss: {:.6f}\\tMSE: {:.6f}'.format(\n",
    "                epoch, batch_idx * len(data), len(train_loader.dataset),\n",
    "                100. * batch_idx / len(train_loader),\n",
    "                loss.item() / len(data), MSE / len(data)))\n",
    "    avg_batch_loss = train_loss / len(train_loader.dataset)\n",
    "    train_losses.append(avg_batch_loss)\n",
    "\n",
    "    print('====> Epoch: {} Average loss: {:.4f}'.format(\n",
    "          epoch, avg_batch_loss))\n",
    "\n",
    "\n",
    "def test(epoch, test_losses):\n",
    "    model.eval()\n",
    "    test_loss = 0\n",
    "    with torch.no_grad():\n",
    "        for i, (data) in enumerate(test_loader,0):\n",
    "            data = data[0].to(device)\n",
    "            #print data.shape\n",
    "            recon_batch, mu, logvar = model(data)\n",
    "            test_loss += loss_function(recon_batch, data, mu, logvar)[0].item()\n",
    "            if i == 0:\n",
    "                n = min(data.size(0), 8)\n",
    "                #comparison = torch.cat([data[:n],\n",
    "                #                      recon_batch.view(batchSize, 1, imageSize, imageSize)[:n]])\n",
    "                #save_image(comparison.cpu(),\n",
    "                #         'results/reconstruction_' + str(epoch) + '.png', nrow=n)\n",
    "                \n",
    "    test_loss /= len(test_loader.dataset)\n",
    "    test_losses.append(test_loss)\n",
    "    print('====> Test set loss: {:.4f}'.format(test_loss))\n",
    "\n",
    "    \n",
    "print(model)\n"
   ]
  },
  {
   "cell_type": "code",
   "execution_count": 86,
   "metadata": {},
   "outputs": [
    {
     "name": "stdout",
     "output_type": "stream",
     "text": [
      "<torch.utils.data.dataloader.DataLoader object at 0x7f03840741d0>\n"
     ]
    }
   ],
   "source": [
    "#normed_array, scale = normalize(image_array, norm_scale = norm_scale )\n",
    "\n",
    "tensor_array_train = torch.stack([torch.Tensor(i) for i in data_array[:100000]])\n",
    "tensor_data_train = torch.utils.data.TensorDataset(tensor_array_train)\n",
    "tensor_array_test = torch.stack([torch.Tensor(i) for i in data_array[100000:200000]])\n",
    "tensor_data_test = torch.utils.data.TensorDataset(tensor_array_test)\n",
    "\n",
    "train_loader = torch.utils.data.DataLoader(tensor_data_train, batch_size=batchSize, num_workers=8)\n",
    "test_loader = torch.utils.data.DataLoader(tensor_data_test, batch_size = batchSize, num_workers = 8)\n",
    "print(train_loader)"
   ]
  },
  {
   "cell_type": "code",
   "execution_count": 87,
   "metadata": {},
   "outputs": [
    {
     "name": "stdout",
     "output_type": "stream",
     "text": [
      "Train Epoch: 1 [0/100000 (0%)]\tLoss: 1.408024\tMSE: 0.021973\n",
      "Train Epoch: 1 [32000/100000 (32%)]\tLoss: 0.014733\tMSE: 0.013852\n",
      "Train Epoch: 1 [64000/100000 (64%)]\tLoss: 0.013877\tMSE: 0.013869\n",
      "Train Epoch: 1 [96000/100000 (96%)]\tLoss: 0.013835\tMSE: 0.013835\n",
      "====> Epoch: 1 Average loss: 0.0408\n",
      "====> Test set loss: 0.0138\n",
      "Train Epoch: 2 [0/100000 (0%)]\tLoss: 0.013560\tMSE: 0.013560\n",
      "Train Epoch: 2 [32000/100000 (32%)]\tLoss: 0.013766\tMSE: 0.013766\n",
      "Train Epoch: 2 [64000/100000 (64%)]\tLoss: 0.013884\tMSE: 0.013884\n",
      "Train Epoch: 2 [96000/100000 (96%)]\tLoss: 0.013841\tMSE: 0.013840\n",
      "====> Epoch: 2 Average loss: 0.0138\n",
      "====> Test set loss: 0.0138\n",
      "Train Epoch: 3 [0/100000 (0%)]\tLoss: 0.013579\tMSE: 0.013572\n",
      "Train Epoch: 3 [32000/100000 (32%)]\tLoss: 0.013824\tMSE: 0.013774\n",
      "Train Epoch: 3 [64000/100000 (64%)]\tLoss: 0.013867\tMSE: 0.013852\n",
      "Train Epoch: 3 [96000/100000 (96%)]\tLoss: 0.013839\tMSE: 0.013798\n",
      "====> Epoch: 3 Average loss: 0.0139\n"
     ]
    },
    {
     "name": "stderr",
     "output_type": "stream",
     "text": [
      "Process Process-341:\n",
      "Process Process-344:\n",
      "Process Process-343:\n",
      "Process Process-339:\n",
      "Process Process-342:\n",
      "Process Process-340:\n",
      "Process Process-337:\n",
      "Process Process-338:\n",
      "Traceback (most recent call last):\n",
      "Traceback (most recent call last):\n",
      "Traceback (most recent call last):\n",
      "Traceback (most recent call last):\n",
      "Traceback (most recent call last):\n",
      "Traceback (most recent call last):\n",
      "  File \"/home/albergo/anaconda2/envs/pytorch04/lib/python3.6/multiprocessing/process.py\", line 258, in _bootstrap\n",
      "    self.run()\n",
      "Traceback (most recent call last):\n",
      "  File \"/home/albergo/anaconda2/envs/pytorch04/lib/python3.6/multiprocessing/process.py\", line 258, in _bootstrap\n",
      "    self.run()\n",
      "  File \"/home/albergo/anaconda2/envs/pytorch04/lib/python3.6/multiprocessing/process.py\", line 258, in _bootstrap\n",
      "    self.run()\n",
      "  File \"/home/albergo/anaconda2/envs/pytorch04/lib/python3.6/multiprocessing/process.py\", line 258, in _bootstrap\n",
      "    self.run()\n",
      "  File \"/home/albergo/anaconda2/envs/pytorch04/lib/python3.6/multiprocessing/process.py\", line 258, in _bootstrap\n",
      "    self.run()\n",
      "Traceback (most recent call last):\n"
     ]
    },
    {
     "ename": "KeyboardInterrupt",
     "evalue": "",
     "output_type": "error",
     "traceback": [
      "\u001b[0;31m---------------------------------------------------------------------------\u001b[0m",
      "\u001b[0;31mKeyboardInterrupt\u001b[0m                         Traceback (most recent call last)",
      "\u001b[0;32m<ipython-input-87-df2bf92f75f6>\u001b[0m in \u001b[0;36m<module>\u001b[0;34m\u001b[0m\n\u001b[1;32m     41\u001b[0m         \u001b[0;31m#xsection_multi(data_avg, epoch, savedir=mydir, imageSize=imageSize)\u001b[0m\u001b[0;34m\u001b[0m\u001b[0;34m\u001b[0m\u001b[0m\n\u001b[1;32m     42\u001b[0m     \u001b[0mtrain\u001b[0m\u001b[0;34m(\u001b[0m\u001b[0mepoch\u001b[0m\u001b[0;34m,\u001b[0m \u001b[0mtrain_losses\u001b[0m\u001b[0;34m)\u001b[0m\u001b[0;34m\u001b[0m\u001b[0m\n\u001b[0;32m---> 43\u001b[0;31m     \u001b[0mtest\u001b[0m\u001b[0;34m(\u001b[0m\u001b[0mepoch\u001b[0m\u001b[0;34m,\u001b[0m \u001b[0mtest_losses\u001b[0m\u001b[0;34m)\u001b[0m\u001b[0;34m\u001b[0m\u001b[0m\n\u001b[0m\u001b[1;32m     44\u001b[0m     \u001b[0;31m#if epoch % 4 == 1:\u001b[0m\u001b[0;34m\u001b[0m\u001b[0;34m\u001b[0m\u001b[0m\n\u001b[1;32m     45\u001b[0m     \u001b[0;31m#    plot_losses(train_losses, test_losses, epochs = epochs, n_epochs=num_epochs, save_dir = mydir)\u001b[0m\u001b[0;34m\u001b[0m\u001b[0;34m\u001b[0m\u001b[0m\n",
      "\u001b[0;32m<ipython-input-85-57b992f6ca9e>\u001b[0m in \u001b[0;36mtest\u001b[0;34m(epoch, test_losses)\u001b[0m\n\u001b[1;32m     84\u001b[0m             \u001b[0mdata\u001b[0m \u001b[0;34m=\u001b[0m \u001b[0mdata\u001b[0m\u001b[0;34m[\u001b[0m\u001b[0;36m0\u001b[0m\u001b[0;34m]\u001b[0m\u001b[0;34m.\u001b[0m\u001b[0mto\u001b[0m\u001b[0;34m(\u001b[0m\u001b[0mdevice\u001b[0m\u001b[0;34m)\u001b[0m\u001b[0;34m\u001b[0m\u001b[0m\n\u001b[1;32m     85\u001b[0m             \u001b[0;31m#print data.shape\u001b[0m\u001b[0;34m\u001b[0m\u001b[0;34m\u001b[0m\u001b[0m\n\u001b[0;32m---> 86\u001b[0;31m             \u001b[0mrecon_batch\u001b[0m\u001b[0;34m,\u001b[0m \u001b[0mmu\u001b[0m\u001b[0;34m,\u001b[0m \u001b[0mlogvar\u001b[0m \u001b[0;34m=\u001b[0m \u001b[0mmodel\u001b[0m\u001b[0;34m(\u001b[0m\u001b[0mdata\u001b[0m\u001b[0;34m)\u001b[0m\u001b[0;34m\u001b[0m\u001b[0m\n\u001b[0m\u001b[1;32m     87\u001b[0m             \u001b[0mtest_loss\u001b[0m \u001b[0;34m+=\u001b[0m \u001b[0mloss_function\u001b[0m\u001b[0;34m(\u001b[0m\u001b[0mrecon_batch\u001b[0m\u001b[0;34m,\u001b[0m \u001b[0mdata\u001b[0m\u001b[0;34m,\u001b[0m \u001b[0mmu\u001b[0m\u001b[0;34m,\u001b[0m \u001b[0mlogvar\u001b[0m\u001b[0;34m)\u001b[0m\u001b[0;34m[\u001b[0m\u001b[0;36m0\u001b[0m\u001b[0;34m]\u001b[0m\u001b[0;34m.\u001b[0m\u001b[0mitem\u001b[0m\u001b[0;34m(\u001b[0m\u001b[0;34m)\u001b[0m\u001b[0;34m\u001b[0m\u001b[0m\n\u001b[1;32m     88\u001b[0m             \u001b[0;32mif\u001b[0m \u001b[0mi\u001b[0m \u001b[0;34m==\u001b[0m \u001b[0;36m0\u001b[0m\u001b[0;34m:\u001b[0m\u001b[0;34m\u001b[0m\u001b[0m\n",
      "\u001b[0;32m~/anaconda2/envs/pytorch04/lib/python3.6/site-packages/torch/nn/modules/module.py\u001b[0m in \u001b[0;36m__call__\u001b[0;34m(self, *input, **kwargs)\u001b[0m\n\u001b[1;32m    489\u001b[0m             \u001b[0mresult\u001b[0m \u001b[0;34m=\u001b[0m \u001b[0mself\u001b[0m\u001b[0;34m.\u001b[0m\u001b[0m_slow_forward\u001b[0m\u001b[0;34m(\u001b[0m\u001b[0;34m*\u001b[0m\u001b[0minput\u001b[0m\u001b[0;34m,\u001b[0m \u001b[0;34m**\u001b[0m\u001b[0mkwargs\u001b[0m\u001b[0;34m)\u001b[0m\u001b[0;34m\u001b[0m\u001b[0m\n\u001b[1;32m    490\u001b[0m         \u001b[0;32melse\u001b[0m\u001b[0;34m:\u001b[0m\u001b[0;34m\u001b[0m\u001b[0m\n\u001b[0;32m--> 491\u001b[0;31m             \u001b[0mresult\u001b[0m \u001b[0;34m=\u001b[0m \u001b[0mself\u001b[0m\u001b[0;34m.\u001b[0m\u001b[0mforward\u001b[0m\u001b[0;34m(\u001b[0m\u001b[0;34m*\u001b[0m\u001b[0minput\u001b[0m\u001b[0;34m,\u001b[0m \u001b[0;34m**\u001b[0m\u001b[0mkwargs\u001b[0m\u001b[0;34m)\u001b[0m\u001b[0;34m\u001b[0m\u001b[0m\n\u001b[0m\u001b[1;32m    492\u001b[0m         \u001b[0;32mfor\u001b[0m \u001b[0mhook\u001b[0m \u001b[0;32min\u001b[0m \u001b[0mself\u001b[0m\u001b[0;34m.\u001b[0m\u001b[0m_forward_hooks\u001b[0m\u001b[0;34m.\u001b[0m\u001b[0mvalues\u001b[0m\u001b[0;34m(\u001b[0m\u001b[0;34m)\u001b[0m\u001b[0;34m:\u001b[0m\u001b[0;34m\u001b[0m\u001b[0m\n\u001b[1;32m    493\u001b[0m             \u001b[0mhook_result\u001b[0m \u001b[0;34m=\u001b[0m \u001b[0mhook\u001b[0m\u001b[0;34m(\u001b[0m\u001b[0mself\u001b[0m\u001b[0;34m,\u001b[0m \u001b[0minput\u001b[0m\u001b[0;34m,\u001b[0m \u001b[0mresult\u001b[0m\u001b[0;34m)\u001b[0m\u001b[0;34m\u001b[0m\u001b[0m\n",
      "\u001b[0;32m<ipython-input-85-57b992f6ca9e>\u001b[0m in \u001b[0;36mforward\u001b[0;34m(self, x)\u001b[0m\n\u001b[1;32m     25\u001b[0m     \u001b[0;32mdef\u001b[0m \u001b[0mforward\u001b[0m\u001b[0;34m(\u001b[0m\u001b[0mself\u001b[0m\u001b[0;34m,\u001b[0m \u001b[0mx\u001b[0m\u001b[0;34m)\u001b[0m\u001b[0;34m:\u001b[0m\u001b[0;34m\u001b[0m\u001b[0m\n\u001b[1;32m     26\u001b[0m         \u001b[0mmu\u001b[0m\u001b[0;34m,\u001b[0m \u001b[0mlogvar\u001b[0m \u001b[0;34m=\u001b[0m \u001b[0mself\u001b[0m\u001b[0;34m.\u001b[0m\u001b[0mencode\u001b[0m\u001b[0;34m(\u001b[0m\u001b[0mx\u001b[0m\u001b[0;34m)\u001b[0m\u001b[0;34m\u001b[0m\u001b[0m\n\u001b[0;32m---> 27\u001b[0;31m         \u001b[0mz\u001b[0m \u001b[0;34m=\u001b[0m \u001b[0mself\u001b[0m\u001b[0;34m.\u001b[0m\u001b[0mreparameterize\u001b[0m\u001b[0;34m(\u001b[0m\u001b[0mmu\u001b[0m\u001b[0;34m,\u001b[0m \u001b[0mlogvar\u001b[0m\u001b[0;34m)\u001b[0m\u001b[0;34m\u001b[0m\u001b[0m\n\u001b[0m\u001b[1;32m     28\u001b[0m         \u001b[0;32mreturn\u001b[0m \u001b[0mself\u001b[0m\u001b[0;34m.\u001b[0m\u001b[0mdecode\u001b[0m\u001b[0;34m(\u001b[0m\u001b[0mz\u001b[0m\u001b[0;34m)\u001b[0m\u001b[0;34m,\u001b[0m \u001b[0mmu\u001b[0m\u001b[0;34m,\u001b[0m \u001b[0mlogvar\u001b[0m\u001b[0;34m\u001b[0m\u001b[0m\n\u001b[1;32m     29\u001b[0m \u001b[0;34m\u001b[0m\u001b[0m\n",
      "\u001b[0;32m<ipython-input-85-57b992f6ca9e>\u001b[0m in \u001b[0;36mreparameterize\u001b[0;34m(self, mu, logvar)\u001b[0m\n\u001b[1;32m     15\u001b[0m \u001b[0;34m\u001b[0m\u001b[0m\n\u001b[1;32m     16\u001b[0m     \u001b[0;32mdef\u001b[0m \u001b[0mreparameterize\u001b[0m\u001b[0;34m(\u001b[0m\u001b[0mself\u001b[0m\u001b[0;34m,\u001b[0m \u001b[0mmu\u001b[0m\u001b[0;34m,\u001b[0m \u001b[0mlogvar\u001b[0m\u001b[0;34m)\u001b[0m\u001b[0;34m:\u001b[0m\u001b[0;34m\u001b[0m\u001b[0m\n\u001b[0;32m---> 17\u001b[0;31m         \u001b[0mstd\u001b[0m \u001b[0;34m=\u001b[0m \u001b[0mtorch\u001b[0m\u001b[0;34m.\u001b[0m\u001b[0mexp\u001b[0m\u001b[0;34m(\u001b[0m\u001b[0;36m0.5\u001b[0m\u001b[0;34m*\u001b[0m\u001b[0mlogvar\u001b[0m\u001b[0;34m)\u001b[0m\u001b[0;34m\u001b[0m\u001b[0m\n\u001b[0m\u001b[1;32m     18\u001b[0m         \u001b[0meps\u001b[0m \u001b[0;34m=\u001b[0m \u001b[0mtorch\u001b[0m\u001b[0;34m.\u001b[0m\u001b[0mrandn_like\u001b[0m\u001b[0;34m(\u001b[0m\u001b[0mstd\u001b[0m\u001b[0;34m)\u001b[0m\u001b[0;34m\u001b[0m\u001b[0m\n\u001b[1;32m     19\u001b[0m         \u001b[0;32mreturn\u001b[0m \u001b[0meps\u001b[0m\u001b[0;34m.\u001b[0m\u001b[0mmul\u001b[0m\u001b[0;34m(\u001b[0m\u001b[0mstd\u001b[0m\u001b[0;34m)\u001b[0m\u001b[0;34m.\u001b[0m\u001b[0madd_\u001b[0m\u001b[0;34m(\u001b[0m\u001b[0mmu\u001b[0m\u001b[0;34m)\u001b[0m\u001b[0;34m\u001b[0m\u001b[0m\n",
      "\u001b[0;31mKeyboardInterrupt\u001b[0m: "
     ]
    },
    {
     "name": "stderr",
     "output_type": "stream",
     "text": [
      "  File \"/home/albergo/anaconda2/envs/pytorch04/lib/python3.6/multiprocessing/process.py\", line 258, in _bootstrap\n",
      "    self.run()\n",
      "  File \"/home/albergo/anaconda2/envs/pytorch04/lib/python3.6/multiprocessing/process.py\", line 93, in run\n",
      "    self._target(*self._args, **self._kwargs)\n",
      "  File \"/home/albergo/anaconda2/envs/pytorch04/lib/python3.6/multiprocessing/process.py\", line 258, in _bootstrap\n",
      "    self.run()\n",
      "  File \"/home/albergo/anaconda2/envs/pytorch04/lib/python3.6/multiprocessing/process.py\", line 93, in run\n",
      "    self._target(*self._args, **self._kwargs)\n",
      "  File \"/home/albergo/anaconda2/envs/pytorch04/lib/python3.6/multiprocessing/process.py\", line 93, in run\n",
      "    self._target(*self._args, **self._kwargs)\n",
      "  File \"/home/albergo/anaconda2/envs/pytorch04/lib/python3.6/multiprocessing/process.py\", line 93, in run\n",
      "    self._target(*self._args, **self._kwargs)\n",
      "  File \"/home/albergo/anaconda2/envs/pytorch04/lib/python3.6/multiprocessing/process.py\", line 258, in _bootstrap\n",
      "    self.run()\n",
      "  File \"/home/albergo/anaconda2/envs/pytorch04/lib/python3.6/multiprocessing/process.py\", line 93, in run\n",
      "    self._target(*self._args, **self._kwargs)\n",
      "  File \"/home/albergo/anaconda2/envs/pytorch04/lib/python3.6/site-packages/torch/utils/data/dataloader.py\", line 52, in _worker_loop\n",
      "    r = index_queue.get()\n",
      "  File \"/home/albergo/anaconda2/envs/pytorch04/lib/python3.6/multiprocessing/process.py\", line 93, in run\n",
      "    self._target(*self._args, **self._kwargs)\n",
      "  File \"/home/albergo/anaconda2/envs/pytorch04/lib/python3.6/site-packages/torch/utils/data/dataloader.py\", line 52, in _worker_loop\n",
      "    r = index_queue.get()\n",
      "  File \"/home/albergo/anaconda2/envs/pytorch04/lib/python3.6/site-packages/torch/utils/data/dataloader.py\", line 52, in _worker_loop\n",
      "    r = index_queue.get()\n",
      "  File \"/home/albergo/anaconda2/envs/pytorch04/lib/python3.6/multiprocessing/process.py\", line 93, in run\n",
      "    self._target(*self._args, **self._kwargs)\n",
      "  File \"/home/albergo/anaconda2/envs/pytorch04/lib/python3.6/multiprocessing/process.py\", line 93, in run\n",
      "    self._target(*self._args, **self._kwargs)\n",
      "  File \"/home/albergo/anaconda2/envs/pytorch04/lib/python3.6/multiprocessing/queues.py\", line 335, in get\n",
      "    res = self._reader.recv_bytes()\n",
      "  File \"/home/albergo/anaconda2/envs/pytorch04/lib/python3.6/site-packages/torch/utils/data/dataloader.py\", line 52, in _worker_loop\n",
      "    r = index_queue.get()\n",
      "  File \"/home/albergo/anaconda2/envs/pytorch04/lib/python3.6/site-packages/torch/utils/data/dataloader.py\", line 52, in _worker_loop\n",
      "    r = index_queue.get()\n",
      "  File \"/home/albergo/anaconda2/envs/pytorch04/lib/python3.6/site-packages/torch/utils/data/dataloader.py\", line 52, in _worker_loop\n",
      "    r = index_queue.get()\n",
      "  File \"/home/albergo/anaconda2/envs/pytorch04/lib/python3.6/site-packages/torch/utils/data/dataloader.py\", line 57, in _worker_loop\n",
      "    samples = collate_fn([dataset[i] for i in batch_indices])\n",
      "  File \"/home/albergo/anaconda2/envs/pytorch04/lib/python3.6/multiprocessing/queues.py\", line 335, in get\n",
      "    res = self._reader.recv_bytes()\n",
      "  File \"/home/albergo/anaconda2/envs/pytorch04/lib/python3.6/multiprocessing/queues.py\", line 335, in get\n",
      "    res = self._reader.recv_bytes()\n",
      "  File \"/home/albergo/anaconda2/envs/pytorch04/lib/python3.6/site-packages/torch/utils/data/dataloader.py\", line 52, in _worker_loop\n",
      "    r = index_queue.get()\n",
      "  File \"/home/albergo/anaconda2/envs/pytorch04/lib/python3.6/multiprocessing/connection.py\", line 216, in recv_bytes\n",
      "    buf = self._recv_bytes(maxlength)\n",
      "  File \"/home/albergo/anaconda2/envs/pytorch04/lib/python3.6/multiprocessing/queues.py\", line 335, in get\n",
      "    res = self._reader.recv_bytes()\n",
      "  File \"/home/albergo/anaconda2/envs/pytorch04/lib/python3.6/multiprocessing/queues.py\", line 335, in get\n",
      "    res = self._reader.recv_bytes()\n",
      "  File \"/home/albergo/anaconda2/envs/pytorch04/lib/python3.6/multiprocessing/queues.py\", line 335, in get\n",
      "    res = self._reader.recv_bytes()\n",
      "  File \"/home/albergo/anaconda2/envs/pytorch04/lib/python3.6/multiprocessing/connection.py\", line 216, in recv_bytes\n",
      "    buf = self._recv_bytes(maxlength)\n",
      "  File \"/home/albergo/anaconda2/envs/pytorch04/lib/python3.6/site-packages/torch/utils/data/dataloader.py\", line 57, in <listcomp>\n",
      "    samples = collate_fn([dataset[i] for i in batch_indices])\n",
      "  File \"/home/albergo/anaconda2/envs/pytorch04/lib/python3.6/multiprocessing/connection.py\", line 216, in recv_bytes\n",
      "    buf = self._recv_bytes(maxlength)\n",
      "  File \"/home/albergo/anaconda2/envs/pytorch04/lib/python3.6/multiprocessing/connection.py\", line 407, in _recv_bytes\n",
      "    buf = self._recv(4)\n",
      "  File \"/home/albergo/anaconda2/envs/pytorch04/lib/python3.6/multiprocessing/queues.py\", line 335, in get\n",
      "    res = self._reader.recv_bytes()\n",
      "  File \"/home/albergo/anaconda2/envs/pytorch04/lib/python3.6/multiprocessing/connection.py\", line 216, in recv_bytes\n",
      "    buf = self._recv_bytes(maxlength)\n",
      "  File \"/home/albergo/anaconda2/envs/pytorch04/lib/python3.6/multiprocessing/connection.py\", line 407, in _recv_bytes\n",
      "    buf = self._recv(4)\n",
      "  File \"/home/albergo/anaconda2/envs/pytorch04/lib/python3.6/multiprocessing/connection.py\", line 216, in recv_bytes\n",
      "    buf = self._recv_bytes(maxlength)\n",
      "  File \"/home/albergo/anaconda2/envs/pytorch04/lib/python3.6/multiprocessing/connection.py\", line 216, in recv_bytes\n",
      "    buf = self._recv_bytes(maxlength)\n",
      "  File \"/home/albergo/anaconda2/envs/pytorch04/lib/python3.6/multiprocessing/connection.py\", line 379, in _recv\n",
      "    chunk = read(handle, remaining)\n",
      "  File \"/home/albergo/anaconda2/envs/pytorch04/lib/python3.6/multiprocessing/connection.py\", line 407, in _recv_bytes\n",
      "    buf = self._recv(4)\n",
      "  File \"/home/albergo/anaconda2/envs/pytorch04/lib/python3.6/multiprocessing/connection.py\", line 216, in recv_bytes\n",
      "    buf = self._recv_bytes(maxlength)\n",
      "  File \"/home/albergo/anaconda2/envs/pytorch04/lib/python3.6/site-packages/torch/utils/data/dataset.py\", line 40, in __getitem__\n",
      "    return tuple(tensor[index] for tensor in self.tensors)\n",
      "  File \"/home/albergo/anaconda2/envs/pytorch04/lib/python3.6/multiprocessing/connection.py\", line 379, in _recv\n",
      "    chunk = read(handle, remaining)\n",
      "KeyboardInterrupt\n",
      "  File \"/home/albergo/anaconda2/envs/pytorch04/lib/python3.6/multiprocessing/connection.py\", line 407, in _recv_bytes\n",
      "    buf = self._recv(4)\n",
      "  File \"/home/albergo/anaconda2/envs/pytorch04/lib/python3.6/multiprocessing/connection.py\", line 379, in _recv\n",
      "    chunk = read(handle, remaining)\n",
      "  File \"/home/albergo/anaconda2/envs/pytorch04/lib/python3.6/multiprocessing/connection.py\", line 407, in _recv_bytes\n",
      "    buf = self._recv(4)\n",
      "  File \"/home/albergo/anaconda2/envs/pytorch04/lib/python3.6/multiprocessing/connection.py\", line 407, in _recv_bytes\n",
      "    buf = self._recv(4)\n",
      "  File \"/home/albergo/anaconda2/envs/pytorch04/lib/python3.6/multiprocessing/connection.py\", line 407, in _recv_bytes\n",
      "    buf = self._recv(4)\n",
      "KeyboardInterrupt\n",
      "  File \"/home/albergo/anaconda2/envs/pytorch04/lib/python3.6/site-packages/torch/utils/data/dataset.py\", line 40, in <genexpr>\n",
      "    return tuple(tensor[index] for tensor in self.tensors)\n",
      "  File \"/home/albergo/anaconda2/envs/pytorch04/lib/python3.6/multiprocessing/connection.py\", line 379, in _recv\n",
      "    chunk = read(handle, remaining)\n",
      "KeyboardInterrupt\n",
      "  File \"/home/albergo/anaconda2/envs/pytorch04/lib/python3.6/multiprocessing/connection.py\", line 379, in _recv\n",
      "    chunk = read(handle, remaining)\n",
      "  File \"/home/albergo/anaconda2/envs/pytorch04/lib/python3.6/multiprocessing/connection.py\", line 379, in _recv\n",
      "    chunk = read(handle, remaining)\n",
      "  File \"/home/albergo/anaconda2/envs/pytorch04/lib/python3.6/multiprocessing/connection.py\", line 379, in _recv\n",
      "    chunk = read(handle, remaining)\n",
      "KeyboardInterrupt\n",
      "KeyboardInterrupt\n",
      "KeyboardInterrupt\n",
      "KeyboardInterrupt\n",
      "KeyboardInterrupt\n"
     ]
    }
   ],
   "source": [
    "epochs = []\n",
    "train_losses = []\n",
    "test_losses = []\n",
    "\n",
    "mydir = os.path.join('/Users/Mike_Laptop/Documents/Postgraduate/Perimeter/RESEARCH/datapovmtfim/runs/', \n",
    "                     datetime.datetime.now().strftime('%Y-%m-%d_%H-%M-%S') + \"/\")\n",
    "mydir = None\n",
    "if mydir != None:\n",
    "    try:\n",
    "        os.makedirs(mydir)\n",
    "    except OSError as e:\n",
    "        if e.errno != errno.EEXIST:\n",
    "            raise\n",
    "\n",
    "    with open(mydir + 'NetworkInfo.txt', 'w') as f:\n",
    "        f.write('model:' + str(model) + '\\n')\n",
    "        #print >> f, 'model:', model\n",
    "        #print >> f, 'normalization scale:', norm_scale\n",
    "        #print >> f, 'latent dimensionality:', zdim\n",
    "        f.write('loss function: MSE + KL div' + '\\n')\n",
    "        f.write('batch size:' +  str(batchSize) + '\\n')\n",
    "        f.write('epochs:' +  str(num_epochs) + '\\n')\n",
    "        f.write('number of qubits: ' + str(n_qubits) + '\\n')\n",
    "        f.write('number of measurement outcomes: ' +  str(n_outcomes) + '\\n')\n",
    "        #print >> f, 'beta:', beta\n",
    "\n",
    "\n",
    "\n",
    "num_epochs = 300\n",
    "\n",
    "for epoch in range(1, + num_epochs +1):\n",
    "    epochs.append(epoch)\n",
    "   # if epoch % 2 == 1:\n",
    "    #    plot_reconstructions(model, save_dir=mydir, conv=False, simple=False, n=6, epoch = epoch)\n",
    "    #    plot_avg_both(data_avg[0],data_avg[1], n_events, save_dir = mydir,  epoch = epoch, norm_scale=norm_scale)\n",
    "       # plot_difference(data_avg, epoch = epoch, save_dir=mydir, norm_scale = norm_scale, n_events = n_events)\n",
    "   #     samples(model, epoch = epoch, save_dir = mydir)\n",
    "    #if epoch % 4 == 1:\n",
    "        #plot_all_metrics(genx_FWHMs, realx_FWHMs, genx_means, realx_means,epochs = epochs, n_epochs=num_epochs, save_dir = mydir)\n",
    "        #plot_sum_difference(sum_differences, epochs=epochs)\n",
    "        #xsection_multi(data_avg, epoch, savedir=mydir, imageSize=imageSize)\n",
    "    train(epoch, train_losses)\n",
    "    test(epoch, test_losses)\n",
    "    #if epoch % 4 == 1:\n",
    "    #    plot_losses(train_losses, test_losses, epochs = epochs, n_epochs=num_epochs, save_dir = mydir)\n",
    "    #if epoch == num_epochs:\n",
    "    #    samples(model, rows=1,columns=1, save_dir=mydir,  epoch = epoch, beta = beta)\n",
    "        \n",
    "#     if epoch > 1:\n",
    "#         stats_r, stats_f = calc_means_stds(imageSize=imageSize, n_times = 10)\n",
    "#         plot_means_stds(stats_r, stats_f, save_dir = mydir, imageSize=imageSize, trim=10)\n",
    "        \n",
    "    "
   ]
  },
  {
   "cell_type": "code",
   "execution_count": 103,
   "metadata": {},
   "outputs": [
    {
     "data": {
      "text/plain": [
       "tensor([ 0.1855,  0.0356,  0.1849,  0.5955,  0.1443,  0.0539,  0.1887,\n",
       "         0.6169,  0.1902,  0.0601,  0.1624,  0.6173,  0.1536,  0.0605,\n",
       "         0.1956,  0.6004,  0.1859,  0.0507,  0.1793,  0.6032,  0.1408,\n",
       "         0.0584,  0.1876,  0.6216,  0.2292,  0.0583,  0.1773,  0.5443,\n",
       "         0.1560,  0.0652,  0.1613,  0.6370,  0.2383,  0.0563,  0.1805,\n",
       "         0.5656,  0.1099,  0.0610,  0.1694,  0.6869,  0.2109,  0.0605,\n",
       "         0.1762,  0.5945,  0.1286,  0.0669,  0.1696,  0.6793,  0.2284,\n",
       "         0.0659,  0.1769,  0.5568,  0.1330,  0.0657,  0.1753,  0.6499,\n",
       "         0.2129,  0.0639,  0.1923,  0.5540,  0.1188,  0.0654,  0.1795,\n",
       "         0.6630,  0.2214,  0.0701,  0.1618,  0.5553,  0.1105,  0.0597,\n",
       "         0.1901,  0.6318,  0.2360,  0.0680,  0.1920,  0.5237,  0.1091,\n",
       "         0.0774,  0.1708,  0.6415,  0.2512,  0.0682,  0.1663,  0.5372,\n",
       "         0.1179,  0.0680,  0.1717,  0.6743,  0.2404,  0.0610,  0.1768,\n",
       "         0.5450,  0.1285,  0.0690,  0.1922,  0.6470,  0.2275,  0.0685,\n",
       "         0.1884,  0.5525,  0.1107,  0.0659,  0.1824,  0.6622,  0.2121,\n",
       "         0.0706,  0.1827,  0.5553,  0.1077,  0.0619,  0.1705,  0.6845,\n",
       "         0.2292,  0.0622,  0.1833,  0.5549,  0.1032,  0.0603,  0.1753,\n",
       "         0.6637,  0.2431,  0.0533,  0.1816,  0.5577,  0.0987,  0.0741,\n",
       "         0.1716,  0.6440,  0.2663,  0.0655,  0.1814,  0.5136,  0.1116,\n",
       "         0.0701,  0.1752,  0.6427,  0.2553,  0.0584,  0.1542,  0.5773,\n",
       "         0.1071,  0.0631,  0.1751,  0.6650,  0.2332,  0.0627,  0.1721,\n",
       "         0.5461,  0.1129,  0.0709,  0.1582,  0.6546,  0.2324,  0.0665,\n",
       "         0.1851,  0.5626,  0.1362,  0.0598,  0.1599,  0.6401,  0.2358,\n",
       "         0.0689,  0.1621,  0.5498,  0.1334,  0.0540,  0.1804,  0.6423,\n",
       "         0.2134,  0.0563,  0.1796,  0.5666,  0.1255,  0.0708,  0.1843,\n",
       "         0.6308,  0.2405,  0.0593,  0.1398,  0.5917,  0.1366,  0.0649,\n",
       "         0.1590,  0.6428,  0.2181,  0.0493,  0.1828,  0.5798,  0.1445,\n",
       "         0.0717,  0.1684,  0.6430,  0.1907,  0.0562,  0.1814,  0.5994,\n",
       "         0.1414,  0.0318,  0.1808,  0.6497])"
      ]
     },
     "execution_count": 103,
     "metadata": {},
     "output_type": "execute_result"
    }
   ],
   "source": [
    "sample = torch.randn(200, 50).to(device)\n",
    "sample = model.decode(sample).cpu()\n",
    "sample[10]"
   ]
  },
  {
   "cell_type": "code",
   "execution_count": null,
   "metadata": {
    "collapsed": true
   },
   "outputs": [],
   "source": []
  }
 ],
 "metadata": {
  "kernelspec": {
   "display_name": "pytorch04",
   "language": "python",
   "name": "pytorch04"
  },
  "language_info": {
   "codemirror_mode": {
    "name": "ipython",
    "version": 3
   },
   "file_extension": ".py",
   "mimetype": "text/x-python",
   "name": "python",
   "nbconvert_exporter": "python",
   "pygments_lexer": "ipython3",
   "version": "3.6.6"
  }
 },
 "nbformat": 4,
 "nbformat_minor": 2
}
