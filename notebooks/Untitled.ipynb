{
 "cells": [
  {
   "cell_type": "code",
   "execution_count": 2,
   "metadata": {},
   "outputs": [],
   "source": [
    "import numpy as np\n",
    "import torch\n",
    "from torch import optim\n",
    "from pepinillo.dataloader import POVMData\n",
    "from pepinillo.operators import Pauli4, Pauli\n",
    "import _pickle as pkl\n"
   ]
  },
  {
   "cell_type": "code",
   "execution_count": null,
   "metadata": {},
   "outputs": [],
   "source": [
    "import torch\n",
    "import numpy as np\n",
    "from torch import nn\n",
    "from torch.nn import functional as F\n",
    "\n",
    "\n",
    "class RNN(nn.Module):\n",
    "    def __init__(self, hidden_size, n_outcomes, steps, num_gru_layers=2, loss_by_step=True, batchSize=None, device=None):\n",
    "        super(RNN, self).__init__()\n",
    "        self.hidden_size = hidden_size\n",
    "        self.num_layers = num_gru_layers\n",
    "        self.steps = steps\n",
    "        self.n_outcomes = n_outcomes\n",
    "        self.loss_by_step = loss_by_step\n",
    "        self.device = device\n",
    "\n",
    "        if batchSize is None:\n",
    "            raise ValueError\n",
    "\n",
    "        self.batchSize = batchSize\n",
    "\n",
    "        \n",
    "        self.rnn = nn.GRU(n_outcomes, hidden_size, num_layers=self.num_layers, dropout=0.01)\n",
    "        self.outcome = nn.Linear(hidden_size, n_outcomes)\n",
    "        #self.outcome2 = nn.Linear(hidden_size // 2, n_outcomes)\n",
    "        self.CE = nn.CrossEntropyLoss()\n",
    "        \n",
    "        \n",
    "    \n",
    "    def initHidden(self):\n",
    "        \n",
    "        '''\n",
    "        must be shape \n",
    "        [self.num_layers * num_directions (1 in this case), batchSize, hidden_size]\n",
    "        '''\n",
    "        return torch.zeros(1*self.num_layers, self.batchSize, self.hidden_size).to(self.device).double()\n",
    "    \n",
    "    def initX(self):\n",
    "        '''\n",
    "        must be shape \n",
    "        [(1 step), batchSize, hidden_size]\n",
    "        '''\n",
    "        return torch.zeros(1, self.batchSize, self.n_outcomes).to(self.device).double()\n",
    "    \n",
    "\n",
    "    def step(self, input, hidden):\n",
    "        \n",
    "        output, hidden = self.rnn(input, hidden)\n",
    "        for_prediction = output.squeeze(0).to(self.device)\n",
    "        outcome_prob = F.softmax(self.outcome(for_prediction), dim = 1)\n",
    "        return output, hidden, outcome_prob\n",
    "\n",
    "    \n",
    "    def forward(self, inputs, hidden=None,  steps=50):\n",
    "        \n",
    "        '''\n",
    "        must be shape\n",
    "        input: [length_sequence (n_qubits), batchSize, num_features (n_outcomes)]\n",
    "        hidden: [num_layers * num_directions, batchSize, hidden_size]'''\n",
    "        \n",
    "        if steps == 0: steps = len(inputs)\n",
    "        outputs = torch.ones(steps, self.batchSize, self.hidden_size).double().to(self.device)\n",
    "        outcome_probs = torch.ones(steps, self.batchSize, self.n_outcomes).double().to(self.device)\n",
    "        #losses = torch.tensor(1).double().to(self.device)\n",
    "        losses = torch.zeros(steps, self.batchSize)\n",
    "\n",
    "        for i in range(steps):\n",
    "            if  i == 0:\n",
    "                hidden = self.initHidden()\n",
    "                input = self.initX()\n",
    "                inputX = input\n",
    "                targets = torch.argmax(inputs[i],dim=1)\n",
    "                \n",
    "            else:\n",
    "                input = inputs[i-1,:,:].unsqueeze(0)\n",
    "                targets = torch.argmax(inputs[i],dim=1)\n",
    "                \n",
    "\n",
    "                \n",
    "            output, hidden, outcome = self.step(input, hidden)\n",
    "\n",
    "            if self.loss_by_step == True:\n",
    "                #loss_i = self.CE(outcome, targets.long())\n",
    "                #loss_i = self.step_loss(targets, outcome)\n",
    "                loss_i = self.myCrossEntropyLoss(outcome, targets)\n",
    "                losses[i,:] = loss_i\n",
    "            outputs[i] = output\n",
    "            outcome_probs[i] = outcome\n",
    "            \n",
    "        if self.loss_by_step == False:\n",
    "            losses = self.loss_overall(inputs, outcome_probs)\n",
    "            \n",
    "        loss = torch.sum(losses)\n",
    "        return outputs, hidden, outcome_probs, loss, inputX\n",
    "       \n",
    "\n",
    "    def myCrossEntropyLoss(self, outputs, labels):\n",
    "        batch_size = outputs.size()[0]            # batch_size\n",
    "        outputs = torch.log(outputs)   # compute the log of softmax values\n",
    "        outputs = outputs[range(batch_size), labels] # pick the values corresponding to the labels\n",
    "        #print(outputs.shape)\n",
    "        return -torch.sum(outputs)/batch_size\n",
    "    \n",
    "    \n",
    "    def sample(self):\n",
    "    \n",
    "        #initialize hidden as in model\n",
    "        hidden = self.initHidden()\n",
    "        inputX = self.initX()\n",
    "        \n",
    "        # one hot encoded for each qubit\n",
    "        samples = torch.zeros(self.steps, self.batchSize, self.n_outcomes)\n",
    "        probs = torch.zeros(self.batchSize)\n",
    "\n",
    "        #go through all qubits\n",
    "        for i in range(self.steps):\n",
    "\n",
    "            #initialize for one-hot encoding, qubit_i_samples will be a class chosen for each batch entry based on probabilities\n",
    "            # batchSize number of samples for ith qubit\n",
    "            qubit_i_samples = torch.zeros(self.batchSize)\n",
    "            if i == 0:\n",
    "                output, hidden, outcome = self.step(inputX, hidden)\n",
    "                qubit_i_probs = outcome.to('cpu').data.numpy()\n",
    "            elif i > 0:\n",
    "                output, hidden, outcome = self.step(input.unsqueeze(0).to(self.device).double(), hidden)\n",
    "                qubit_i_probs = outcome.to('cpu').data.numpy()\n",
    "\n",
    "            for batch_entry in range(self.batchSize):\n",
    "\n",
    "                qubit_i_samples[batch_entry] = torch.from_numpy(np.random.choice([0,1,2,3], size = 1, p=qubit_i_probs[batch_entry]))\n",
    "\n",
    "            #make the one-hot samples, use to feed as next input\n",
    "            samples[i][torch.arange(qubit_i_samples.shape[0]).long(), qubit_i_samples.long()] = 1\n",
    "            input = samples[i]\n",
    "\n",
    "        return samples\n",
    "    \n",
    "    \n",
    "    \n",
    "    \n",
    "    def step_loss(self, real_outcomes, predicted_outcomes, ce = True):\n",
    "    \n",
    "        if ce is True:\n",
    "            loss = F.cross_entropy(predicted_outcomes, real_outcomes.long(), size_average=False)\n",
    "        else:\n",
    "            one_hot_Trueoutcomes = torch.zeros((real_outcomes.shape[0], real_outcomes.max()+1))\n",
    "            one_hot_Trueoutcomes[torch.arange(real_outcomes.shape[0]).long(),real_outcomes.long()] = 1\n",
    "            loss = F.mse_loss(one_hot_Trueoutcomes.to(self.device).double(), predicted_outcomes, size_average=False)\n",
    "        return loss\n"
   ]
  },
  {
   "cell_type": "code",
   "execution_count": null,
   "metadata": {},
   "outputs": [],
   "source": [
    "def compute_KL(model, real_data = reshaped_array, logPs = log_probs, num_samples = 150, num_layers = num_gru_layers):\n",
    "\n",
    "    KL = 0\n",
    "    fidelity = 0\n",
    "    for batch_idx, (data) in enumerate(train_loader,):\n",
    "        data = data[0].to(device).permute(1,0,2)\n",
    "        \n",
    "        outputs, hidden, outcome_probs, loss, inputX = model(data)\n",
    "        logq_batch = (torch.sum(torch.log(torch.sum(outcome_probs * data, dim=2)), dim=0))\n",
    "        KL += np.sum(logPs[(batch_idx*batchSize):(batch_idx*batchSize + batchSize)] - logq_batch.cpu().data.numpy())\n",
    "        fidelity += np.sum(np.exp((1/2) * (logq_batch.cpu().data.numpy() - logPs[(batch_idx*batchSize):(batch_idx*batchSize + batchSize)] )))\n",
    "        \n",
    "        if batch_idx == 25:\n",
    "            break\n",
    "    \n",
    "    KL = KL / (batchSize * batch_idx)\n",
    "    \n",
    "    fidelity = fidelity / (batchSize*batch_idx)\n",
    "       \n",
    "    return KL, fidelity\n",
    "\n"
   ]
  },
  {
   "cell_type": "code",
   "execution_count": null,
   "metadata": {},
   "outputs": [],
   "source": [
    "device = torch.device(\"cuda:0\" if torch.cuda.device_count() != 0 else \"cpu\")\n",
    "\n",
    "n_qubits = 50\n",
    "n_outcomes =4\n",
    "batchSize =40\n",
    "hidden_size = 100\n",
    "num_gru_layers = 2\n",
    "num_epochs = 2\n",
    "log_interval = 50\n",
    "lr = 0.0001\n",
    "\n",
    "povm = Pauli4()\n",
    "dataset = POVMData('../notebooks/data/TFIM_training_data.npz', povm)\n",
    "dataset = POVMData(dataset.filename, dataset.povm_set, data=dataset.data[:50000])\n",
    "train_loader = torch.utils.data.DataLoader(dataset, batch_size=batchSize, num_workers=1)\n",
    "model = RNN(hidden_size, n_outcomes, n_qubits, num_gru_layers=num_gru_layers, loss_by_step=True, batchSize=batchSize).to(device).double()\n",
    "optimizer = optim.Adam(model.parameters(), lr=lr)\n",
    "\n",
    "\n",
    "train_losses = []\n",
    "KLs = []\n",
    "fidelities = []\n",
    "for epoch in range(1, num_epochs + 1):\n",
    "    #train(epoch, train_losses)\n",
    "    train_loss = 0\n",
    "    for batch_idx, data in enumerate(train_loader):\n",
    "        data = data.to(device).permute(1,0,2)#.reshape(n_qubits, batchSize, n_outcomes)\n",
    "\n",
    "        #if batch_idx == 1:\n",
    "         #   print(data[:,0])\n",
    "        optimizer.zero_grad()\n",
    "        outputs, hidden, outcome_probs, loss, inputX = model(data)\n",
    "        loss.backward()\n",
    "        \n",
    "        train_loss += loss.item()\n",
    "        optimizer.step()\n",
    "        if batch_idx % log_interval == 0:\n",
    "            kl, fidelity = compute_KL(model)   \n",
    "\n",
    "            KLs.append(KL)\n",
    "            fidelities.append(fidelity)\n",
    "            print('Train Epoch: {} [{}/{} ({:.0f}%)]\\tLoss: {:.6f}'.format(\n",
    "                epoch, batch_idx * len(data[1]), len(train_loader.dataset),\n",
    "                100. * batch_idx / len(train_loader),\n",
    "                loss.item() / len(data[1]) ))\n",
    "    avg_batch_loss = train_loss / len(train_loader.dataset)\n",
    "    train_losses.append(avg_batch_loss)\n",
    "\n",
    "    print('====> Epoch: {} Average loss: {:.4f}'.format(\n",
    "          epoch, avg_batch_loss))\n"
   ]
  },
  {
   "cell_type": "code",
   "execution_count": 33,
   "metadata": {},
   "outputs": [
    {
     "data": {
      "text/plain": [
       "[<matplotlib.lines.Line2D at 0x119093c50>]"
      ]
     },
     "execution_count": 33,
     "metadata": {},
     "output_type": "execute_result"
    },
    {
     "data": {
      "image/png": "[encoded data removed]",
      "text/plain": [
       "<Figure size 432x288 with 1 Axes>"
      ]
     },
     "metadata": {
      "needs_background": "light"
     },
     "output_type": "display_data"
    }
   ],
   "source": [
    "plt.plot(KLs)"
   ]
  },
  {
   "cell_type": "code",
   "execution_count": 31,
   "metadata": {},
   "outputs": [],
   "source": [
    "samples = torch.cat([model.sample() for i in range(200)], dim=1) \n",
    "samples = samples.permute([1, 0, 2])\n",
    "idsamples = np.zeros((8000, n_qubits), dtype=np.long)\n",
    "idsamples2 = np.zeros((8000, n_qubits), dtype=np.long)\n",
    "\n",
    "for i in range(8000):\n",
    "    idsamples[i, :] = np.argmax(samples[i, :, :], axis=1)    \n",
    "    idsamples2[i, :] = np.argmax(dataset.data[i, :, :], axis=1)\n",
    "    \n",
    "\n",
    "measure_X = [povm.rho(idsamples).measure(Pauli.X).on(i) for i in range(n_qubits)]\n",
    "measure_X2 = [povm.rho(idsamples2).measure(Pauli.X).on(i) for i in range(n_qubits)]"
   ]
  },
  {
   "cell_type": "code",
   "execution_count": 23,
   "metadata": {},
   "outputs": [],
   "source": [
    "np.concatenate?"
   ]
  },
  {
   "cell_type": "code",
   "execution_count": 32,
   "metadata": {},
   "outputs": [
    {
     "data": {
      "text/plain": [
       "<matplotlib.legend.Legend at 0x113131ba8>"
      ]
     },
     "execution_count": 32,
     "metadata": {},
     "output_type": "execute_result"
    },
    {
     "data": {
      "image/png": "[encoded data removed]",
      "text/plain": [
       "<Figure size 432x288 with 1 Axes>"
      ]
     },
     "metadata": {
      "needs_background": "light"
     },
     "output_type": "display_data"
    }
   ],
   "source": [
    "import matplotlib.pyplot as plt\n",
    "\n",
    "plt.plot(measure_X, label='rnn')\n",
    "plt.plot(measure_X2, label='truth')\n",
    "plt.legend()"
   ]
  },
  {
   "cell_type": "code",
   "execution_count": null,
   "metadata": {},
   "outputs": [],
   "source": []
  }
 ],
 "metadata": {
  "kernelspec": {
   "display_name": "Python 3",
   "language": "python",
   "name": "python3"
  }
 },
 "nbformat": 4,
 "nbformat_minor": 2
}
